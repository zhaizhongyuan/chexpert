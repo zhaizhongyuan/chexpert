{
 "cells": [
  {
   "cell_type": "code",
   "execution_count": 1,
   "metadata": {},
   "outputs": [],
   "source": [
    "import os\n",
    "from os.path import splitext\n",
    "import json\n",
    "\n",
    "import numpy as np\n",
    "import matplotlib.pyplot as plt\n",
    "import pandas as pd\n",
    "from PIL import Image\n",
    "\n",
    "import torch\n",
    "from torchvision import transforms\n",
    "from torchvision.models import DenseNet121_Weights"
   ]
  },
  {
   "cell_type": "code",
   "execution_count": 2,
   "metadata": {},
   "outputs": [
    {
     "name": "stdout",
     "output_type": "stream",
     "text": [
      "[INFO] Using MASTER_PORT=55297\n",
      "[INFO] Using MASTER_PORT=51287\n"
     ]
    }
   ],
   "source": [
    "import os\n",
    "import socket\n",
    "import os\n",
    "def find_free_port():\n",
    "    with socket.socket(socket.AF_INET, socket.SOCK_STREAM) as s:\n",
    "        s.bind(('', 0))\n",
    "        return s.getsockname()[1]\n",
    "\n",
    "os.environ[\"MASTER_PORT\"] = str(find_free_port())\n",
    "print(f\"[INFO] Using MASTER_PORT={os.environ['MASTER_PORT']}\")\n",
    "from os.path import join, splitext\n",
    "import json\n",
    "from tqdm.notebook import tqdm\n",
    "import wandb\n",
    "\n",
    "import numpy as np\n",
    "import pandas as pd\n",
    "import matplotlib.pyplot as plt\n",
    "from PIL import Image\n",
    "\n",
    "import torch\n",
    "torch.set_float32_matmul_precision('medium')\n",
    "import torch.nn as nn\n",
    "import torch.nn.functional as F\n",
    "import torch.optim as optim\n",
    "from torch.utils.data import Dataset, DataLoader, random_split\n",
    "\n",
    "from sklearn.metrics import multilabel_confusion_matrix, roc_curve, auc\n",
    "from torchmetrics.classification import MultilabelAccuracy\n",
    "from pytorch_grad_cam import GradCAM, HiResCAM, ScoreCAM, GradCAMPlusPlus, AblationCAM, XGradCAM, EigenCAM, FullGrad\n",
    "from pytorch_grad_cam.utils.model_targets import ClassifierOutputTarget\n",
    "\n",
    "from torchvision import transforms\n",
    "from torchvision.models import densenet121, DenseNet121_Weights, resnet152,ResNet152_Weights\n",
    "import timm\n",
    "from timm.data import resolve_data_config\n",
    "from timm.data.transforms_factory import create_transform\n",
    "\n",
    "import lightning.pytorch as pl\n",
    "from lightning.pytorch.loggers import WandbLogger\n",
    "from lightning.pytorch.callbacks import ModelCheckpoint\n",
    "\n",
    "from utils import CheXpertGenDataset, CheXpertClsDataModule, CheXpertGenDataModule, CheXpertCNN, ensemble_pred"
   ]
  },
  {
   "cell_type": "code",
   "execution_count": 3,
   "metadata": {},
   "outputs": [],
   "source": [
    "data_folder = '../../../../../../../storage/ice1/shared/bmed6780/mip_group_2/CheXpert Plus'"
   ]
  },
  {
   "cell_type": "code",
   "execution_count": 5,
   "metadata": {},
   "outputs": [
    {
     "data": {
      "application/vnd.jupyter.widget-view+json": {
       "model_id": "aa0611b67f3b48eaadfd460f9453143b",
       "version_major": 2,
       "version_minor": 0
      },
      "text/plain": [
       "  0%|          | 0/223462 [00:00<?, ?it/s]"
      ]
     },
     "metadata": {},
     "output_type": "display_data"
    }
   ],
   "source": [
    "# set up a dataset\n",
    "resnet152_data = CheXpertGenDataModule(data_dir=data_folder, transform=ResNet152_Weights.DEFAULT.transforms())\n",
    "resnet152_data.setup('test')"
   ]
  },
  {
   "cell_type": "code",
   "execution_count": 6,
   "metadata": {},
   "outputs": [
    {
     "data": {
      "text/plain": [
       "200"
      ]
     },
     "execution_count": 6,
     "metadata": {},
     "output_type": "execute_result"
    }
   ],
   "source": [
    "len(resnet152_data.test_patient_id_set)"
   ]
  },
  {
   "cell_type": "code",
   "execution_count": 9,
   "metadata": {},
   "outputs": [
    {
     "ename": "RuntimeError",
     "evalue": "Caught RuntimeError in DataLoader worker process 0.\nOriginal Traceback (most recent call last):\n  File \"/home/hice1/zzhai37/.conda/envs/vlm/lib/python3.10/site-packages/torch/utils/data/_utils/worker.py\", line 349, in _worker_loop\n    data = fetcher.fetch(index)  # type: ignore[possibly-undefined]\n  File \"/home/hice1/zzhai37/.conda/envs/vlm/lib/python3.10/site-packages/torch/utils/data/_utils/fetch.py\", line 55, in fetch\n    return self.collate_fn(data)\n  File \"/home/hice1/zzhai37/.conda/envs/vlm/lib/python3.10/site-packages/torch/utils/data/_utils/collate.py\", line 398, in default_collate\n    return collate(batch, collate_fn_map=default_collate_fn_map)\n  File \"/home/hice1/zzhai37/.conda/envs/vlm/lib/python3.10/site-packages/torch/utils/data/_utils/collate.py\", line 171, in collate\n    {\n  File \"/home/hice1/zzhai37/.conda/envs/vlm/lib/python3.10/site-packages/torch/utils/data/_utils/collate.py\", line 172, in <dictcomp>\n    key: collate(\n  File \"/home/hice1/zzhai37/.conda/envs/vlm/lib/python3.10/site-packages/torch/utils/data/_utils/collate.py\", line 155, in collate\n    return collate_fn_map[elem_type](batch, collate_fn_map=collate_fn_map)\n  File \"/home/hice1/zzhai37/.conda/envs/vlm/lib/python3.10/site-packages/torch/utils/data/_utils/collate.py\", line 272, in collate_tensor_fn\n    return torch.stack(batch, 0, out=out)\nRuntimeError: stack expects each tensor to be equal size, but got [1, 3, 224, 224] at entry 0 and [2, 3, 224, 224] at entry 12\n",
     "output_type": "error",
     "traceback": [
      "\u001b[0;31m---------------------------------------------------------------------------\u001b[0m",
      "\u001b[0;31mRuntimeError\u001b[0m                              Traceback (most recent call last)",
      "Cell \u001b[0;32mIn[9], line 1\u001b[0m\n\u001b[0;32m----> 1\u001b[0m \u001b[39mfor\u001b[39;00m batch \u001b[39min\u001b[39;00m resnet152_data\u001b[39m.\u001b[39mtest_dataloader():\n\u001b[1;32m      2\u001b[0m     \u001b[39mprint\u001b[39m(batch[\u001b[39m'\u001b[39m\u001b[39mimages\u001b[39m\u001b[39m'\u001b[39m]\u001b[39m.\u001b[39mshape)\n\u001b[1;32m      3\u001b[0m     \u001b[39m# print(batch['findings'])\u001b[39;00m\n\u001b[1;32m      4\u001b[0m     \u001b[39m# print(batch['impression'])\u001b[39;00m\n",
      "File \u001b[0;32m~/.conda/envs/vlm/lib/python3.10/site-packages/torch/utils/data/dataloader.py:708\u001b[0m, in \u001b[0;36m_BaseDataLoaderIter.__next__\u001b[0;34m(self)\u001b[0m\n\u001b[1;32m    705\u001b[0m \u001b[39mif\u001b[39;00m \u001b[39mself\u001b[39m\u001b[39m.\u001b[39m_sampler_iter \u001b[39mis\u001b[39;00m \u001b[39mNone\u001b[39;00m:\n\u001b[1;32m    706\u001b[0m     \u001b[39m# TODO(https://github.com/pytorch/pytorch/issues/76750)\u001b[39;00m\n\u001b[1;32m    707\u001b[0m     \u001b[39mself\u001b[39m\u001b[39m.\u001b[39m_reset()  \u001b[39m# type: ignore[call-arg]\u001b[39;00m\n\u001b[0;32m--> 708\u001b[0m data \u001b[39m=\u001b[39m \u001b[39mself\u001b[39;49m\u001b[39m.\u001b[39;49m_next_data()\n\u001b[1;32m    709\u001b[0m \u001b[39mself\u001b[39m\u001b[39m.\u001b[39m_num_yielded \u001b[39m+\u001b[39m\u001b[39m=\u001b[39m \u001b[39m1\u001b[39m\n\u001b[1;32m    710\u001b[0m \u001b[39mif\u001b[39;00m (\n\u001b[1;32m    711\u001b[0m     \u001b[39mself\u001b[39m\u001b[39m.\u001b[39m_dataset_kind \u001b[39m==\u001b[39m _DatasetKind\u001b[39m.\u001b[39mIterable\n\u001b[1;32m    712\u001b[0m     \u001b[39mand\u001b[39;00m \u001b[39mself\u001b[39m\u001b[39m.\u001b[39m_IterableDataset_len_called \u001b[39mis\u001b[39;00m \u001b[39mnot\u001b[39;00m \u001b[39mNone\u001b[39;00m\n\u001b[1;32m    713\u001b[0m     \u001b[39mand\u001b[39;00m \u001b[39mself\u001b[39m\u001b[39m.\u001b[39m_num_yielded \u001b[39m>\u001b[39m \u001b[39mself\u001b[39m\u001b[39m.\u001b[39m_IterableDataset_len_called\n\u001b[1;32m    714\u001b[0m ):\n",
      "File \u001b[0;32m~/.conda/envs/vlm/lib/python3.10/site-packages/torch/utils/data/dataloader.py:1480\u001b[0m, in \u001b[0;36m_MultiProcessingDataLoaderIter._next_data\u001b[0;34m(self)\u001b[0m\n\u001b[1;32m   1478\u001b[0m \u001b[39mdel\u001b[39;00m \u001b[39mself\u001b[39m\u001b[39m.\u001b[39m_task_info[idx]\n\u001b[1;32m   1479\u001b[0m \u001b[39mself\u001b[39m\u001b[39m.\u001b[39m_rcvd_idx \u001b[39m+\u001b[39m\u001b[39m=\u001b[39m \u001b[39m1\u001b[39m\n\u001b[0;32m-> 1480\u001b[0m \u001b[39mreturn\u001b[39;00m \u001b[39mself\u001b[39;49m\u001b[39m.\u001b[39;49m_process_data(data)\n",
      "File \u001b[0;32m~/.conda/envs/vlm/lib/python3.10/site-packages/torch/utils/data/dataloader.py:1505\u001b[0m, in \u001b[0;36m_MultiProcessingDataLoaderIter._process_data\u001b[0;34m(self, data)\u001b[0m\n\u001b[1;32m   1503\u001b[0m \u001b[39mself\u001b[39m\u001b[39m.\u001b[39m_try_put_index()\n\u001b[1;32m   1504\u001b[0m \u001b[39mif\u001b[39;00m \u001b[39misinstance\u001b[39m(data, ExceptionWrapper):\n\u001b[0;32m-> 1505\u001b[0m     data\u001b[39m.\u001b[39;49mreraise()\n\u001b[1;32m   1506\u001b[0m \u001b[39mreturn\u001b[39;00m data\n",
      "File \u001b[0;32m~/.conda/envs/vlm/lib/python3.10/site-packages/torch/_utils.py:733\u001b[0m, in \u001b[0;36mExceptionWrapper.reraise\u001b[0;34m(self)\u001b[0m\n\u001b[1;32m    729\u001b[0m \u001b[39mexcept\u001b[39;00m \u001b[39mTypeError\u001b[39;00m:\n\u001b[1;32m    730\u001b[0m     \u001b[39m# If the exception takes multiple arguments, don't try to\u001b[39;00m\n\u001b[1;32m    731\u001b[0m     \u001b[39m# instantiate since we don't know how to\u001b[39;00m\n\u001b[1;32m    732\u001b[0m     \u001b[39mraise\u001b[39;00m \u001b[39mRuntimeError\u001b[39;00m(msg) \u001b[39mfrom\u001b[39;00m\u001b[39m \u001b[39m\u001b[39mNone\u001b[39;00m\n\u001b[0;32m--> 733\u001b[0m \u001b[39mraise\u001b[39;00m exception\n",
      "\u001b[0;31mRuntimeError\u001b[0m: Caught RuntimeError in DataLoader worker process 0.\nOriginal Traceback (most recent call last):\n  File \"/home/hice1/zzhai37/.conda/envs/vlm/lib/python3.10/site-packages/torch/utils/data/_utils/worker.py\", line 349, in _worker_loop\n    data = fetcher.fetch(index)  # type: ignore[possibly-undefined]\n  File \"/home/hice1/zzhai37/.conda/envs/vlm/lib/python3.10/site-packages/torch/utils/data/_utils/fetch.py\", line 55, in fetch\n    return self.collate_fn(data)\n  File \"/home/hice1/zzhai37/.conda/envs/vlm/lib/python3.10/site-packages/torch/utils/data/_utils/collate.py\", line 398, in default_collate\n    return collate(batch, collate_fn_map=default_collate_fn_map)\n  File \"/home/hice1/zzhai37/.conda/envs/vlm/lib/python3.10/site-packages/torch/utils/data/_utils/collate.py\", line 171, in collate\n    {\n  File \"/home/hice1/zzhai37/.conda/envs/vlm/lib/python3.10/site-packages/torch/utils/data/_utils/collate.py\", line 172, in <dictcomp>\n    key: collate(\n  File \"/home/hice1/zzhai37/.conda/envs/vlm/lib/python3.10/site-packages/torch/utils/data/_utils/collate.py\", line 155, in collate\n    return collate_fn_map[elem_type](batch, collate_fn_map=collate_fn_map)\n  File \"/home/hice1/zzhai37/.conda/envs/vlm/lib/python3.10/site-packages/torch/utils/data/_utils/collate.py\", line 272, in collate_tensor_fn\n    return torch.stack(batch, 0, out=out)\nRuntimeError: stack expects each tensor to be equal size, but got [1, 3, 224, 224] at entry 0 and [2, 3, 224, 224] at entry 12\n"
     ]
    }
   ],
   "source": [
    "for batch in resnet152_data.test_dataloader():\n",
    "    print(batch['images'].shape)\n",
    "    # print(batch['findings'])\n",
    "    # print(batch['impression'])"
   ]
  },
  {
   "cell_type": "code",
   "execution_count": 8,
   "metadata": {},
   "outputs": [
    {
     "ename": "NameError",
     "evalue": "name 'a' is not defined",
     "output_type": "error",
     "traceback": [
      "\u001b[0;31m---------------------------------------------------------------------------\u001b[0m",
      "\u001b[0;31mNameError\u001b[0m                                 Traceback (most recent call last)",
      "Cell \u001b[0;32mIn[8], line 1\u001b[0m\n\u001b[0;32m----> 1\u001b[0m \u001b[39mprint\u001b[39m(a[\u001b[39m'\u001b[39m\u001b[39mimages\u001b[39m\u001b[39m'\u001b[39m]\u001b[39m.\u001b[39mshape)\n",
      "\u001b[0;31mNameError\u001b[0m: name 'a' is not defined"
     ]
    }
   ],
   "source": [
    "print(a['images'].shape)"
   ]
  },
  {
   "cell_type": "code",
   "execution_count": 5,
   "metadata": {},
   "outputs": [
    {
     "ename": "NameError",
     "evalue": "name 'batch' is not defined",
     "output_type": "error",
     "traceback": [
      "\u001b[0;31m---------------------------------------------------------------------------\u001b[0m",
      "\u001b[0;31mNameError\u001b[0m                                 Traceback (most recent call last)",
      "Cell \u001b[0;32mIn[5], line 1\u001b[0m\n\u001b[0;32m----> 1\u001b[0m batch[\u001b[39m'\u001b[39m\u001b[39mimages\u001b[39m\u001b[39m'\u001b[39m]\u001b[39m.\u001b[39mshape\n",
      "\u001b[0;31mNameError\u001b[0m: name 'batch' is not defined"
     ]
    }
   ],
   "source": [
    "batch['images'].shape"
   ]
  },
  {
   "cell_type": "code",
   "execution_count": 2,
   "metadata": {},
   "outputs": [
    {
     "data": {
      "image/png": "[encoded data removed]",
      "text/plain": [
       "<Figure size 640x480 with 2 Axes>"
      ]
     },
     "metadata": {},
     "output_type": "display_data"
    }
   ],
   "source": [
    "import seaborn as sns\n",
    "import matplotlib.pyplot as plt\n",
    "import numpy as np\n",
    "\n",
    "lr_list = ['1e-3', '5e-3', '5e-4', '5e-5']\n",
    "batch_size_list = [16, 32, 64, 128, 256]\n",
    "# Create a 2D matrix of values\n",
    "data = np.array([\n",
    "    [0.93397, 0.9377, 0.94352, 0.94336, 0.93664],\n",
    "    [0.93617, 0.93833, 0.93713, 0.93558, 0.93661],\n",
    "    [0.93789, 0.93387, 0.94286, 0.94246, 0.94273],\n",
    "    [0.94617, 0.94499, 0.94636, 0.94669, 0.94657]\n",
    "])\n",
    "\n",
    "# Create the heatmap\n",
    "sns.heatmap(data, annot=True, fmt=\".4f\", cmap=\"YlGnBu\")\n",
    "\n",
    "# Display the heatmap\n",
    "plt.xticks(np.arange(len(batch_size_list))+0.5, batch_size_list)\n",
    "plt.yticks(np.arange(len(lr_list))+0.5, lr_list)\n",
    "plt.xlabel('batch size', fontsize=12)\n",
    "plt.ylabel('learning rate', fontsize=12)\n",
    "plt.title(\"Validation accuracy sensitivity map\", fontsize=15)\n",
    "plt.tight_layout()\n",
    "plt.savefig('sensitivity_map.png', dpi=600)\n",
    "plt.show()"
   ]
  },
  {
   "attachments": {},
   "cell_type": "markdown",
   "metadata": {},
   "source": [
    "### Not sure what this is"
   ]
  },
  {
   "cell_type": "code",
   "execution_count": 3,
   "metadata": {},
   "outputs": [],
   "source": [
    "folder = 'mip_group_2/CheXpert Plus'"
   ]
  },
  {
   "cell_type": "code",
   "execution_count": null,
   "metadata": {},
   "outputs": [],
   "source": [
    "df = pd.read_json(os.path.join(folder, \"report_fixed.json\"), lines=True)"
   ]
  },
  {
   "cell_type": "code",
   "execution_count": null,
   "metadata": {},
   "outputs": [],
   "source": [
    "type_list = []\n",
    "for path in df['path_to_image']:\n",
    "    type_list.append(splitext(path)[0].split('/')[0])"
   ]
  },
  {
   "cell_type": "code",
   "execution_count": null,
   "metadata": {},
   "outputs": [
    {
     "data": {
      "text/plain": [
       "(array(['train', 'valid'], dtype='<U5'), array([223228,    234]))"
      ]
     },
     "execution_count": 26,
     "metadata": {},
     "output_type": "execute_result"
    }
   ],
   "source": [
    "np.unique(type_list, return_counts=True)"
   ]
  },
  {
   "attachments": {},
   "cell_type": "markdown",
   "metadata": {},
   "source": [
    "### Checkout what's inside data folder"
   ]
  },
  {
   "cell_type": "code",
   "execution_count": 11,
   "metadata": {},
   "outputs": [],
   "source": [
    "data_folder = '../../../../../../../storage/ice1/shared/bmed6780/mip_group_2/CheXpert Plus'"
   ]
  },
  {
   "cell_type": "code",
   "execution_count": 12,
   "metadata": {},
   "outputs": [
    {
     "data": {
      "text/plain": [
       "['chexbert_labels.zip',\n",
       " 'radgraph-XL-annotations',\n",
       " 'PNG',\n",
       " 'radgraph-XL-annotations.zip',\n",
       " 'chexbert_labels',\n",
       " 'df_chexpert_plus_240401.csv']"
      ]
     },
     "execution_count": 12,
     "metadata": {},
     "output_type": "execute_result"
    }
   ],
   "source": [
    "os.listdir(data_folder)"
   ]
  },
  {
   "attachments": {},
   "cell_type": "markdown",
   "metadata": {},
   "source": [
    "#### looks at how patients' images are split and stored in the folders"
   ]
  },
  {
   "cell_type": "code",
   "execution_count": 13,
   "metadata": {},
   "outputs": [],
   "source": [
    "img_folder_path = os.path.join(data_folder, 'PNG')"
   ]
  },
  {
   "cell_type": "code",
   "execution_count": 14,
   "metadata": {},
   "outputs": [],
   "source": [
    "img_folders = [folder for folder in os.listdir(img_folder_path) if splitext(folder)[1] == '']"
   ]
  },
  {
   "cell_type": "code",
   "execution_count": 15,
   "metadata": {},
   "outputs": [
    {
     "data": {
      "text/plain": [
       "['png_chexpert_plus_chunk_0',\n",
       " 'png_chexpert_plus_chunk_1',\n",
       " 'png_chexpert_plus_chunk_3',\n",
       " 'png_chexpert_plus_chunk_4',\n",
       " 'png_chexpert_plus_chunk_2']"
      ]
     },
     "execution_count": 15,
     "metadata": {},
     "output_type": "execute_result"
    }
   ],
   "source": [
    "img_folders"
   ]
  },
  {
   "cell_type": "code",
   "execution_count": 16,
   "metadata": {},
   "outputs": [
    {
     "name": "stdout",
     "output_type": "stream",
     "text": [
      "5868\n",
      "8171\n",
      "18728\n",
      "19722\n",
      "12038\n"
     ]
    }
   ],
   "source": [
    "for folder in img_folders:\n",
    "    img_subfolder = os.path.join(img_folder_path, folder)\n",
    "    img_subfolder = os.path.join(img_subfolder, 'PNG')\n",
    "    img_subfolder = os.path.join(img_subfolder, 'train')\n",
    "    print(len(os.listdir(img_subfolder)))"
   ]
  },
  {
   "attachments": {},
   "cell_type": "markdown",
   "metadata": {},
   "source": [
    "#### folder that has labels for data"
   ]
  },
  {
   "cell_type": "code",
   "execution_count": 17,
   "metadata": {},
   "outputs": [
    {
     "data": {
      "text/plain": [
       "['report_fixed.json', 'findings_fixed.json', 'impression_fixed.json']"
      ]
     },
     "execution_count": 17,
     "metadata": {},
     "output_type": "execute_result"
    }
   ],
   "source": [
    "os.listdir(os.path.join(data_folder, 'chexbert_labels'))"
   ]
  },
  {
   "cell_type": "code",
   "execution_count": 18,
   "metadata": {},
   "outputs": [],
   "source": [
    "label_folder = os.path.join(data_folder, 'chexbert_labels')"
   ]
  },
  {
   "attachments": {},
   "cell_type": "markdown",
   "metadata": {},
   "source": [
    "#### paths of the input images and their labels"
   ]
  },
  {
   "cell_type": "code",
   "execution_count": 19,
   "metadata": {},
   "outputs": [
    {
     "name": "stdout",
     "output_type": "stream",
     "text": [
      "{'path_to_image': 'train/patient16523/study1/view2_lateral.jpg', 'Enlarged Cardiomediastinum': None, 'Cardiomegaly': None, 'Lung Opacity': None, 'Lung Lesion': None, 'Edema': None, 'Consolidation': None, 'Pneumonia': None, 'Atelectasis': None, 'Pneumothorax': None, 'Pleural Effusion': None, 'Pleural Other': None, 'Fracture': None, 'Support Devices': None, 'No Finding': 1.0}\n",
      "{'path_to_image': 'train/patient16523/study11/view1_frontal.jpg', 'Enlarged Cardiomediastinum': None, 'Cardiomegaly': None, 'Lung Opacity': None, 'Lung Lesion': None, 'Edema': None, 'Consolidation': None, 'Pneumonia': None, 'Atelectasis': None, 'Pneumothorax': None, 'Pleural Effusion': None, 'Pleural Other': None, 'Fracture': None, 'Support Devices': None, 'No Finding': 1.0}\n",
      "{'path_to_image': 'train/patient16523/study16/view1_frontal.jpg', 'Enlarged Cardiomediastinum': None, 'Cardiomegaly': None, 'Lung Opacity': None, 'Lung Lesion': None, 'Edema': None, 'Consolidation': None, 'Pneumonia': None, 'Atelectasis': None, 'Pneumothorax': None, 'Pleural Effusion': None, 'Pleural Other': None, 'Fracture': None, 'Support Devices': None, 'No Finding': 1.0}\n",
      "{'path_to_image': 'train/patient16523/study5/view1_frontal.jpg', 'Enlarged Cardiomediastinum': None, 'Cardiomegaly': None, 'Lung Opacity': None, 'Lung Lesion': None, 'Edema': None, 'Consolidation': None, 'Pneumonia': None, 'Atelectasis': None, 'Pneumothorax': None, 'Pleural Effusion': None, 'Pleural Other': None, 'Fracture': None, 'Support Devices': None, 'No Finding': 1.0}\n",
      "{'path_to_image': 'train/patient16523/study20/view1_frontal.jpg', 'Enlarged Cardiomediastinum': None, 'Cardiomegaly': None, 'Lung Opacity': None, 'Lung Lesion': None, 'Edema': None, 'Consolidation': None, 'Pneumonia': None, 'Atelectasis': None, 'Pneumothorax': None, 'Pleural Effusion': None, 'Pleural Other': None, 'Fracture': None, 'Support Devices': None, 'No Finding': 1.0}\n"
     ]
    }
   ],
   "source": [
    "import json\n",
    "\n",
    "file_path = os.path.join(label_folder, 'findings_fixed.json')\n",
    "\n",
    "with open(file_path, 'r') as f:\n",
    "    data = []\n",
    "    for line in f:\n",
    "        data.append(json.loads(line))  # Load each JSON object separately\n",
    "\n",
    "\n",
    "for i in range(200, 205, 1):\n",
    "    print(data[i])"
   ]
  },
  {
   "attachments": {},
   "cell_type": "markdown",
   "metadata": {},
   "source": [
    "#### check up unique modes in data"
   ]
  },
  {
   "cell_type": "code",
   "execution_count": 20,
   "metadata": {},
   "outputs": [],
   "source": [
    "mode_list = []\n",
    "for label_dict in data:\n",
    "    split_values_list = splitext(label_dict['path_to_image'])[0].split('/')\n",
    "    mode = split_values_list[0] # train or test\n",
    "    mode_list.append(mode)"
   ]
  },
  {
   "cell_type": "code",
   "execution_count": 21,
   "metadata": {},
   "outputs": [
    {
     "data": {
      "text/plain": [
       "array(['train', 'valid'], dtype='<U5')"
      ]
     },
     "execution_count": 21,
     "metadata": {},
     "output_type": "execute_result"
    }
   ],
   "source": [
    "np.unique(mode_list)"
   ]
  },
  {
   "cell_type": "code",
   "execution_count": 22,
   "metadata": {},
   "outputs": [
    {
     "data": {
      "text/plain": [
       "'train/patient42142/study5/view1_frontal.jpg'"
      ]
     },
     "execution_count": 22,
     "metadata": {},
     "output_type": "execute_result"
    }
   ],
   "source": [
    "data[0]['path_to_image']"
   ]
  },
  {
   "cell_type": "code",
   "execution_count": 23,
   "metadata": {},
   "outputs": [
    {
     "data": {
      "text/plain": [
       "223462"
      ]
     },
     "execution_count": 23,
     "metadata": {},
     "output_type": "execute_result"
    }
   ],
   "source": [
    "len(data)"
   ]
  },
  {
   "cell_type": "code",
   "execution_count": 24,
   "metadata": {},
   "outputs": [
    {
     "data": {
      "text/plain": [
       "dict_items([('path_to_image', 'train/patient42142/study5/view1_frontal.jpg'), ('Enlarged Cardiomediastinum', None), ('Cardiomegaly', None), ('Lung Opacity', None), ('Lung Lesion', None), ('Edema', None), ('Consolidation', None), ('Pneumonia', None), ('Atelectasis', None), ('Pneumothorax', None), ('Pleural Effusion', None), ('Pleural Other', None), ('Fracture', None), ('Support Devices', None), ('No Finding', 1.0)])"
      ]
     },
     "execution_count": 24,
     "metadata": {},
     "output_type": "execute_result"
    }
   ],
   "source": [
    "data[0].items()"
   ]
  },
  {
   "attachments": {},
   "cell_type": "markdown",
   "metadata": {},
   "source": [
    "#### see how many patients there are"
   ]
  },
  {
   "cell_type": "code",
   "execution_count": 25,
   "metadata": {},
   "outputs": [
    {
     "data": {
      "text/plain": [
       "42142"
      ]
     },
     "execution_count": 25,
     "metadata": {},
     "output_type": "execute_result"
    }
   ],
   "source": [
    "int(splitext(data[0]['path_to_image'])[0].split('/')[1][7:])"
   ]
  },
  {
   "attachments": {},
   "cell_type": "markdown",
   "metadata": {},
   "source": [
    "#### see how many images each patient has"
   ]
  },
  {
   "cell_type": "code",
   "execution_count": 26,
   "metadata": {},
   "outputs": [
    {
     "name": "stdout",
     "output_type": "stream",
     "text": [
      "[    1     2     3 ... 64738 64739 64740]\n"
     ]
    },
    {
     "data": {
      "text/plain": [
       "(array([40329., 14561.,  4724.,  2150.,  1082.,   593.,   431.,   242.,\n",
       "          177.,    97.,    72.,    61.,    46.,    46.]),\n",
       " array([ 0.,  3.,  6.,  9., 12., 15., 18., 21., 24., 27., 30., 33., 36.,\n",
       "        39., 42.]),\n",
       " <BarContainer object of 14 artists>)"
      ]
     },
     "execution_count": 26,
     "metadata": {},
     "output_type": "execute_result"
    },
    {
     "data": {
      "image/png": "[encoded data removed]",
      "text/plain": [
       "<Figure size 640x480 with 1 Axes>"
      ]
     },
     "metadata": {},
     "output_type": "display_data"
    }
   ],
   "source": [
    "patient_list = []\n",
    "for entry_dict in data:\n",
    "    patient_list.append(int(splitext(entry_dict['path_to_image'])[0].split('/')[1][7:]))\n",
    "uniq_patient_list, uniq_patient_cnt = np.unique(patient_list, return_counts=True)\n",
    "print(uniq_patient_list)\n",
    "plt.hist(uniq_patient_cnt, bins=np.arange(0, 45, 3))"
   ]
  },
  {
   "attachments": {},
   "cell_type": "markdown",
   "metadata": {},
   "source": [
    "#### open and transform the image files"
   ]
  },
  {
   "cell_type": "code",
   "execution_count": 27,
   "metadata": {},
   "outputs": [],
   "source": [
    "transform = DenseNet121_Weights.DEFAULT.transforms()"
   ]
  },
  {
   "cell_type": "code",
   "execution_count": 28,
   "metadata": {},
   "outputs": [],
   "source": [
    "for key, value in data[0].items():\n",
    "    if key == 'path_to_image': # save image paths\n",
    "        if splitext(value)[0].split('/')[0] == 'train':\n",
    "            value = splitext(value)[0] + '.png'\n",
    "            for folder in img_folders:\n",
    "                img_subfolder_path = os.path.join(os.path.join(img_folder_path, folder), 'PNG')\n",
    "                full_img_path = os.path.join(img_subfolder_path, value)\n",
    "                if os.path.exists(full_img_path):\n",
    "                    img = Image.open(full_img_path).convert(\"RGB\") # convert to RGB\n",
    "                    img = transform(img)"
   ]
  },
  {
   "cell_type": "code",
   "execution_count": 29,
   "metadata": {},
   "outputs": [],
   "source": [
    "full_img_path = os.path.join(data_folder, 'PNG/png_chexpert_plus_chunk_1/PNG/train/patient32368/study1/view1_frontal.png')"
   ]
  },
  {
   "cell_type": "code",
   "execution_count": 31,
   "metadata": {},
   "outputs": [
    {
     "ename": "OSError",
     "evalue": "unrecognized data stream contents when reading image file",
     "output_type": "error",
     "traceback": [
      "\u001b[0;31m---------------------------------------------------------------------------\u001b[0m",
      "\u001b[0;31mOSError\u001b[0m                                   Traceback (most recent call last)",
      "Cell \u001b[0;32mIn[31], line 1\u001b[0m\n\u001b[0;32m----> 1\u001b[0m img \u001b[39m=\u001b[39m Image\u001b[39m.\u001b[39;49mopen(full_img_path)\u001b[39m.\u001b[39;49mconvert(\u001b[39m\"\u001b[39;49m\u001b[39mRGB\u001b[39;49m\u001b[39m\"\u001b[39;49m)\n",
      "File \u001b[0;32m~/.conda/envs/vlm/lib/python3.10/site-packages/PIL/Image.py:993\u001b[0m, in \u001b[0;36mImage.convert\u001b[0;34m(self, mode, matrix, dither, palette, colors)\u001b[0m\n\u001b[1;32m    990\u001b[0m \u001b[39mif\u001b[39;00m mode \u001b[39min\u001b[39;00m (\u001b[39m\"\u001b[39m\u001b[39mBGR;15\u001b[39m\u001b[39m\"\u001b[39m, \u001b[39m\"\u001b[39m\u001b[39mBGR;16\u001b[39m\u001b[39m\"\u001b[39m, \u001b[39m\"\u001b[39m\u001b[39mBGR;24\u001b[39m\u001b[39m\"\u001b[39m):\n\u001b[1;32m    991\u001b[0m     deprecate(mode, \u001b[39m12\u001b[39m)\n\u001b[0;32m--> 993\u001b[0m \u001b[39mself\u001b[39;49m\u001b[39m.\u001b[39;49mload()\n\u001b[1;32m    995\u001b[0m has_transparency \u001b[39m=\u001b[39m \u001b[39m\"\u001b[39m\u001b[39mtransparency\u001b[39m\u001b[39m\"\u001b[39m \u001b[39min\u001b[39;00m \u001b[39mself\u001b[39m\u001b[39m.\u001b[39minfo\n\u001b[1;32m    996\u001b[0m \u001b[39mif\u001b[39;00m \u001b[39mnot\u001b[39;00m mode \u001b[39mand\u001b[39;00m \u001b[39mself\u001b[39m\u001b[39m.\u001b[39mmode \u001b[39m==\u001b[39m \u001b[39m\"\u001b[39m\u001b[39mP\u001b[39m\u001b[39m\"\u001b[39m:\n\u001b[1;32m    997\u001b[0m     \u001b[39m# determine default mode\u001b[39;00m\n",
      "File \u001b[0;32m~/.conda/envs/vlm/lib/python3.10/site-packages/PIL/ImageFile.py:319\u001b[0m, in \u001b[0;36mImageFile.load\u001b[0;34m(self)\u001b[0m\n\u001b[1;32m    315\u001b[0m \u001b[39mself\u001b[39m\u001b[39m.\u001b[39mfp \u001b[39m=\u001b[39m \u001b[39mNone\u001b[39;00m\n\u001b[1;32m    317\u001b[0m \u001b[39mif\u001b[39;00m \u001b[39mnot\u001b[39;00m \u001b[39mself\u001b[39m\u001b[39m.\u001b[39mmap \u001b[39mand\u001b[39;00m \u001b[39mnot\u001b[39;00m LOAD_TRUNCATED_IMAGES \u001b[39mand\u001b[39;00m err_code \u001b[39m<\u001b[39m \u001b[39m0\u001b[39m:\n\u001b[1;32m    318\u001b[0m     \u001b[39m# still raised if decoder fails to return anything\u001b[39;00m\n\u001b[0;32m--> 319\u001b[0m     \u001b[39mraise\u001b[39;00m _get_oserror(err_code, encoder\u001b[39m=\u001b[39m\u001b[39mFalse\u001b[39;00m)\n\u001b[1;32m    321\u001b[0m \u001b[39mreturn\u001b[39;00m Image\u001b[39m.\u001b[39mImage\u001b[39m.\u001b[39mload(\u001b[39mself\u001b[39m)\n",
      "\u001b[0;31mOSError\u001b[0m: unrecognized data stream contents when reading image file"
     ]
    }
   ],
   "source": [
    "img = Image.open(full_img_path).convert(\"RGB\")"
   ]
  },
  {
   "cell_type": "code",
   "execution_count": null,
   "metadata": {},
   "outputs": [
    {
     "data": {
      "text/plain": [
       "torch.Size([3, 224, 224])"
      ]
     },
     "execution_count": 25,
     "metadata": {},
     "output_type": "execute_result"
    }
   ],
   "source": [
    "img.shape"
   ]
  },
  {
   "cell_type": "code",
   "execution_count": null,
   "metadata": {},
   "outputs": [
    {
     "name": "stderr",
     "output_type": "stream",
     "text": [
      "Clipping input data to the valid range for imshow with RGB data ([0..1] for floats or [0..255] for integers). Got range [-2.1007793..2.64].\n"
     ]
    },
    {
     "data": {
      "text/plain": [
       "<matplotlib.image.AxesImage at 0x155426c4c410>"
      ]
     },
     "execution_count": 30,
     "metadata": {},
     "output_type": "execute_result"
    },
    {
     "data": {
      "image/png": "[encoded data removed]",
      "text/plain": [
       "<Figure size 640x480 with 1 Axes>"
      ]
     },
     "metadata": {},
     "output_type": "display_data"
    }
   ],
   "source": [
    "plt.imshow(img.permute(1, 2, 0))"
   ]
  },
  {
   "attachments": {},
   "cell_type": "markdown",
   "metadata": {},
   "source": [
    "#### 14 disease types"
   ]
  },
  {
   "cell_type": "code",
   "execution_count": 32,
   "metadata": {},
   "outputs": [],
   "source": [
    "disease_types = list(data[0].keys())[1:]"
   ]
  },
  {
   "cell_type": "code",
   "execution_count": 33,
   "metadata": {},
   "outputs": [
    {
     "data": {
      "text/plain": [
       "['Enlarged Cardiomediastinum',\n",
       " 'Cardiomegaly',\n",
       " 'Lung Opacity',\n",
       " 'Lung Lesion',\n",
       " 'Edema',\n",
       " 'Consolidation',\n",
       " 'Pneumonia',\n",
       " 'Atelectasis',\n",
       " 'Pneumothorax',\n",
       " 'Pleural Effusion',\n",
       " 'Pleural Other',\n",
       " 'Fracture',\n",
       " 'Support Devices',\n",
       " 'No Finding']"
      ]
     },
     "execution_count": 33,
     "metadata": {},
     "output_type": "execute_result"
    }
   ],
   "source": [
    "disease_types"
   ]
  },
  {
   "cell_type": "code",
   "execution_count": 35,
   "metadata": {},
   "outputs": [
    {
     "data": {
      "application/vnd.jupyter.widget-view+json": {
       "model_id": "754f0ea26dcd4b469b2762cd79a83ee2",
       "version_major": 2,
       "version_minor": 0
      },
      "text/plain": [
       "  0%|          | 0/14 [00:00<?, ?it/s]"
      ]
     },
     "metadata": {},
     "output_type": "display_data"
    }
   ],
   "source": [
    "img_type_list = []\n",
    "disease_list = []\n",
    "for disease_type in tqdm(disease_types):\n",
    "    disease_type_list = []\n",
    "    for label_dict in data:\n",
    "        for key, value in label_dict.items():\n",
    "            if key == 'path_to_image':\n",
    "                img_type_list.append(splitext(value)[0].split('/')[0])\n",
    "            elif key == disease_type:\n",
    "                if value is None:\n",
    "                    disease_type_list.append('None')\n",
    "                else:\n",
    "                    disease_type_list.append(value)\n",
    "    disease_list.append(disease_type_list)"
   ]
  },
  {
   "cell_type": "code",
   "execution_count": 36,
   "metadata": {},
   "outputs": [
    {
     "name": "stdout",
     "output_type": "stream",
     "text": [
      "Enlarged Cardiomediastinum: (array(['-1.0', '0.0', '1.0', 'None'], dtype='<U32'), array([  6909,  12928,   4130, 199495]))\n",
      "Cardiomegaly: (array(['-1.0', '0.0', '1.0', 'None'], dtype='<U32'), array([  1554,  11261,  10971, 199676]))\n",
      "Lung Opacity: (array(['-1.0', '0.0', '1.0', 'None'], dtype='<U32'), array([   105,   1488,  32358, 189511]))\n",
      "Lung Lesion: (array(['-1.0', '0.0', '1.0', 'None'], dtype='<U32'), array([   459,    329,   3490, 219184]))\n",
      "Edema: (array(['-1.0', '0.0', '1.0', 'None'], dtype='<U32'), array([  2687,   4443,  12148, 204184]))\n",
      "Consolidation: (array(['-1.0', '0.0', '1.0', 'None'], dtype='<U32'), array([  5938,   7083,   4159, 206282]))\n",
      "Pneumonia: (array(['-1.0', '0.0', '1.0', 'None'], dtype='<U32'), array([  3702,    381,    915, 218464]))\n",
      "Atelectasis: (array(['-1.0', '0.0', '1.0', 'None'], dtype='<U32'), array([  8371,    167,   9136, 205788]))\n",
      "Pneumothorax: (array(['-1.0', '0.0', '1.0', 'None'], dtype='<U32'), array([   702,  18577,   6391, 197792]))\n",
      "Pleural Effusion: (array(['-1.0', '0.0', '1.0', 'None'], dtype='<U32'), array([  2281,  10586,  24511, 186084]))\n",
      "Pleural Other: (array(['-1.0', '0.0', '1.0', 'None'], dtype='<U32'), array([   759,     13,   1663, 221027]))\n",
      "Fracture: (array(['-1.0', '0.0', '1.0', 'None'], dtype='<U32'), array([   148,   2750,   3266, 217298]))\n",
      "Support Devices: (array(['-1.0', '0.0', '1.0', 'None'], dtype='<U32'), array([     1,    377,  31710, 191374]))\n",
      "No Finding: (array(['1.0', 'None'], dtype='<U32'), array([167933,  55529]))\n"
     ]
    }
   ],
   "source": [
    "for i, disease_type in enumerate(disease_types):\n",
    "    print(f'{disease_type}: {np.unique(disease_list[i], return_counts=True)}')"
   ]
  },
  {
   "attachments": {},
   "cell_type": "markdown",
   "metadata": {},
   "source": [
    "#### preset train/test split"
   ]
  },
  {
   "cell_type": "code",
   "execution_count": 37,
   "metadata": {},
   "outputs": [
    {
     "data": {
      "text/plain": [
       "(array(['train', 'valid'], dtype='<U5'), array([3125192,    3276]))"
      ]
     },
     "execution_count": 37,
     "metadata": {},
     "output_type": "execute_result"
    }
   ],
   "source": [
    "np.unique(img_type_list, return_counts=True)"
   ]
  },
  {
   "attachments": {},
   "cell_type": "markdown",
   "metadata": {},
   "source": [
    "#### patient ids"
   ]
  },
  {
   "cell_type": "code",
   "execution_count": 51,
   "metadata": {},
   "outputs": [],
   "source": [
    "patient_id_list = [splitext(data[i]['path_to_image'])[0].split('/')[1][7:] for i in range(len(data))]"
   ]
  },
  {
   "cell_type": "code",
   "execution_count": 52,
   "metadata": {},
   "outputs": [],
   "source": [
    "patient_id, patient_id_count = np.unique(patient_id_list, return_counts=True)"
   ]
  },
  {
   "cell_type": "code",
   "execution_count": 53,
   "metadata": {},
   "outputs": [
    {
     "data": {
      "text/plain": [
       "64725"
      ]
     },
     "execution_count": 53,
     "metadata": {},
     "output_type": "execute_result"
    }
   ],
   "source": [
    "len(patient_id)"
   ]
  },
  {
   "cell_type": "code",
   "execution_count": 42,
   "metadata": {},
   "outputs": [
    {
     "data": {
      "text/plain": [
       "array(['00001', '00002', '00003', ..., '64738', '64739', '64740'],\n",
       "      dtype='<U5')"
      ]
     },
     "execution_count": 42,
     "metadata": {},
     "output_type": "execute_result"
    }
   ],
   "source": [
    "patient_id"
   ]
  },
  {
   "cell_type": "code",
   "execution_count": null,
   "metadata": {},
   "outputs": [
    {
     "data": {
      "text/plain": [
       "Text(0, 0.5, 'x-ray counts')"
      ]
     },
     "execution_count": 30,
     "metadata": {},
     "output_type": "execute_result"
    },
    {
     "data": {
      "image/png": "[encoded data removed]",
      "text/plain": [
       "<Figure size 640x480 with 1 Axes>"
      ]
     },
     "metadata": {},
     "output_type": "display_data"
    }
   ],
   "source": [
    "plt.scatter(np.arange(len(patient_id)), patient_id_count)\n",
    "plt.xlabel('patient id')\n",
    "plt.ylabel('x-ray counts')"
   ]
  },
  {
   "cell_type": "code",
   "execution_count": null,
   "metadata": {},
   "outputs": [
    {
     "data": {
      "text/plain": [
       "array([   35,    39, 64705, ...,  4461, 33146, 28739], shape=(64725,))"
      ]
     },
     "execution_count": 31,
     "metadata": {},
     "output_type": "execute_result"
    }
   ],
   "source": [
    "np.argsort(patient_id_count)"
   ]
  },
  {
   "cell_type": "code",
   "execution_count": null,
   "metadata": {},
   "outputs": [
    {
     "data": {
      "text/plain": [
       "64725"
      ]
     },
     "execution_count": 32,
     "metadata": {},
     "output_type": "execute_result"
    }
   ],
   "source": [
    "len(patient_id_count)"
   ]
  },
  {
   "cell_type": "code",
   "execution_count": null,
   "metadata": {},
   "outputs": [
    {
     "data": {
      "text/plain": [
       "np.str_('28746')"
      ]
     },
     "execution_count": 33,
     "metadata": {},
     "output_type": "execute_result"
    }
   ],
   "source": [
    "patient_id[28739]"
   ]
  },
  {
   "cell_type": "code",
   "execution_count": null,
   "metadata": {},
   "outputs": [
    {
     "data": {
      "text/plain": [
       "np.int64(92)"
      ]
     },
     "execution_count": 34,
     "metadata": {},
     "output_type": "execute_result"
    }
   ],
   "source": [
    "patient_id_count[28739]"
   ]
  },
  {
   "cell_type": "code",
   "execution_count": null,
   "metadata": {},
   "outputs": [
    {
     "data": {
      "text/plain": [
       "str"
      ]
     },
     "execution_count": 35,
     "metadata": {},
     "output_type": "execute_result"
    }
   ],
   "source": [
    "type(patient_id_list[0])"
   ]
  },
  {
   "cell_type": "code",
   "execution_count": null,
   "metadata": {},
   "outputs": [],
   "source": [
    "patient_28739_idx = np.where(np.array(patient_id_list)=='28746')[0]"
   ]
  },
  {
   "cell_type": "code",
   "execution_count": null,
   "metadata": {},
   "outputs": [],
   "source": [
    "patient_28739_data = [data[i] for i in patient_28739_idx]"
   ]
  },
  {
   "cell_type": "code",
   "execution_count": null,
   "metadata": {},
   "outputs": [],
   "source": [
    "angle_list = []\n",
    "for patient_28739_d in patient_28739_data:\n",
    "    angle_list.append(splitext(patient_28739_d['path_to_image'])[0].split('/')[-1][6:])"
   ]
  },
  {
   "cell_type": "code",
   "execution_count": null,
   "metadata": {},
   "outputs": [
    {
     "data": {
      "text/plain": [
       "(array(['frontal', 'lateral'], dtype='<U7'), array([89,  3]))"
      ]
     },
     "execution_count": 39,
     "metadata": {},
     "output_type": "execute_result"
    }
   ],
   "source": [
    "np.unique(angle_list, return_counts=True)"
   ]
  },
  {
   "cell_type": "code",
   "execution_count": 4,
   "metadata": {},
   "outputs": [],
   "source": [
    "png_folder = '../../../../../../../storage/ice1/shared/bmed6780/mip_group_2/CheXpert Plus/PNG'"
   ]
  },
  {
   "cell_type": "code",
   "execution_count": 5,
   "metadata": {},
   "outputs": [],
   "source": [
    "folders= os.listdir(png_folder)"
   ]
  },
  {
   "cell_type": "code",
   "execution_count": 6,
   "metadata": {},
   "outputs": [
    {
     "name": "stdout",
     "output_type": "stream",
     "text": [
      "Processing folder: png_chexpert_plus_chunk_0\n",
      "Processing folder: png_chexpert_plus_chunk_1\n",
      "Processing folder: png_chexpert_plus_chunk_3\n",
      "Processing folder: png_chexpert_plus_chunk_4\n",
      "Processing folder: png_chexpert_plus_chunk_2\n"
     ]
    }
   ],
   "source": [
    "# Filtering non-zip folders\n",
    "non_zip_folders = [folder for folder in folders if not folder.endswith('.zip')]\n",
    "\n",
    "# Iterating over the non-zip folders\n",
    "for folder in non_zip_folders:\n",
    "    print(f\"Processing folder: {folder}\")\n",
    "    # Your processing code here"
   ]
  },
  {
   "cell_type": "code",
   "execution_count": 7,
   "metadata": {},
   "outputs": [],
   "source": [
    "# Load the CSV file into a DataFrame\n",
    "path = os.path.join(data_folder,'df_chexpert_plus_240401.csv')\n",
    "df_all = pd.read_csv(path)"
   ]
  },
  {
   "cell_type": "code",
   "execution_count": 8,
   "metadata": {},
   "outputs": [
    {
     "data": {
      "text/plain": [
       "223462"
      ]
     },
     "execution_count": 8,
     "metadata": {},
     "output_type": "execute_result"
    }
   ],
   "source": [
    "len(df_all)"
   ]
  },
  {
   "cell_type": "code",
   "execution_count": 10,
   "metadata": {},
   "outputs": [
    {
     "data": {
      "text/html": [
       "<div>\n",
       "<style scoped>\n",
       "    .dataframe tbody tr th:only-of-type {\n",
       "        vertical-align: middle;\n",
       "    }\n",
       "\n",
       "    .dataframe tbody tr th {\n",
       "        vertical-align: top;\n",
       "    }\n",
       "\n",
       "    .dataframe thead th {\n",
       "        text-align: right;\n",
       "    }\n",
       "</style>\n",
       "<table border=\"1\" class=\"dataframe\">\n",
       "  <thead>\n",
       "    <tr style=\"text-align: right;\">\n",
       "      <th></th>\n",
       "      <th>path_to_image</th>\n",
       "      <th>path_to_dcm</th>\n",
       "      <th>frontal_lateral</th>\n",
       "      <th>ap_pa</th>\n",
       "      <th>deid_patient_id</th>\n",
       "      <th>patient_report_date_order</th>\n",
       "      <th>report</th>\n",
       "      <th>section_narrative</th>\n",
       "      <th>section_clinical_history</th>\n",
       "      <th>section_history</th>\n",
       "      <th>...</th>\n",
       "      <th>section_accession_number</th>\n",
       "      <th>age</th>\n",
       "      <th>sex</th>\n",
       "      <th>race</th>\n",
       "      <th>ethnicity</th>\n",
       "      <th>interpreter_needed</th>\n",
       "      <th>insurance_type</th>\n",
       "      <th>recent_bmi</th>\n",
       "      <th>deceased</th>\n",
       "      <th>split</th>\n",
       "    </tr>\n",
       "  </thead>\n",
       "  <tbody>\n",
       "    <tr>\n",
       "      <th>0</th>\n",
       "      <td>train/patient42142/study5/view1_frontal.jpg</td>\n",
       "      <td>train/patient42142/study5/view1_frontal.dcm</td>\n",
       "      <td>Frontal</td>\n",
       "      <td>AP</td>\n",
       "      <td>patient42142</td>\n",
       "      <td>5</td>\n",
       "      <td>NARRATIVE:\\nChest 1 View, 8-8-2005\\n \\nHISTORY...</td>\n",
       "      <td>\\nChest 1 View, 8-8-2005\\n \\n</td>\n",
       "      <td>NaN</td>\n",
       "      <td>61 years Female, ICU patient\\n \\n</td>\n",
       "      <td>...</td>\n",
       "      <td>\\n 9959089\\nThis report has been anonymized. A...</td>\n",
       "      <td>62.0</td>\n",
       "      <td>Female</td>\n",
       "      <td>White</td>\n",
       "      <td>Non-Hispanic/Non-Latino</td>\n",
       "      <td>No</td>\n",
       "      <td>Private Insurance</td>\n",
       "      <td>22.2</td>\n",
       "      <td>No</td>\n",
       "      <td>train</td>\n",
       "    </tr>\n",
       "    <tr>\n",
       "      <th>1</th>\n",
       "      <td>train/patient42142/study8/view1_frontal.jpg</td>\n",
       "      <td>train/patient42142/study8/view1_frontal.dcm</td>\n",
       "      <td>Frontal</td>\n",
       "      <td>AP</td>\n",
       "      <td>patient42142</td>\n",
       "      <td>8</td>\n",
       "      <td>NARRATIVE:\\nChest 1 View, 7-11-2000\\n \\nHISTOR...</td>\n",
       "      <td>\\nChest 1 View, 7-11-2000\\n \\n</td>\n",
       "      <td>NaN</td>\n",
       "      <td>61 years Female, tracheostomy.\\n \\n</td>\n",
       "      <td>...</td>\n",
       "      <td>\\n64048857\\nThis report has been anonymized. A...</td>\n",
       "      <td>62.0</td>\n",
       "      <td>Female</td>\n",
       "      <td>White</td>\n",
       "      <td>Non-Hispanic/Non-Latino</td>\n",
       "      <td>No</td>\n",
       "      <td>Private Insurance</td>\n",
       "      <td>22.2</td>\n",
       "      <td>No</td>\n",
       "      <td>train</td>\n",
       "    </tr>\n",
       "    <tr>\n",
       "      <th>2</th>\n",
       "      <td>train/patient42142/study2/view1_frontal.jpg</td>\n",
       "      <td>train/patient42142/study2/view1_frontal.dcm</td>\n",
       "      <td>Frontal</td>\n",
       "      <td>AP</td>\n",
       "      <td>patient42142</td>\n",
       "      <td>2</td>\n",
       "      <td>NARRATIVE:\\nChest 1 View, 11-17-2018\\n \\nHISTO...</td>\n",
       "      <td>\\nChest 1 View, 11-17-2018\\n \\n</td>\n",
       "      <td>NaN</td>\n",
       "      <td>61 years Female, critical care follow-up\\n \\n</td>\n",
       "      <td>...</td>\n",
       "      <td>\\n#2452\\nThis report has been anonymized. All ...</td>\n",
       "      <td>62.0</td>\n",
       "      <td>Female</td>\n",
       "      <td>White</td>\n",
       "      <td>Non-Hispanic/Non-Latino</td>\n",
       "      <td>No</td>\n",
       "      <td>Private Insurance</td>\n",
       "      <td>22.2</td>\n",
       "      <td>No</td>\n",
       "      <td>train</td>\n",
       "    </tr>\n",
       "    <tr>\n",
       "      <th>3</th>\n",
       "      <td>train/patient42142/study4/view1_frontal.jpg</td>\n",
       "      <td>train/patient42142/study4/view1_frontal.dcm</td>\n",
       "      <td>Frontal</td>\n",
       "      <td>AP</td>\n",
       "      <td>patient42142</td>\n",
       "      <td>4</td>\n",
       "      <td>NARRATIVE:\\nAP PORTABLE UPRIGHT CHEST: May 01 ...</td>\n",
       "      <td>\\nAP PORTABLE UPRIGHT CHEST: May 01 at 0518 ho...</td>\n",
       "      <td>ICU protocol.  Follow up.\\n \\n</td>\n",
       "      <td>NaN</td>\n",
       "      <td>...</td>\n",
       "      <td>\\n4164064\\nThis report has been anonymized. Al...</td>\n",
       "      <td>62.0</td>\n",
       "      <td>Female</td>\n",
       "      <td>White</td>\n",
       "      <td>Non-Hispanic/Non-Latino</td>\n",
       "      <td>No</td>\n",
       "      <td>Private Insurance</td>\n",
       "      <td>22.2</td>\n",
       "      <td>No</td>\n",
       "      <td>train</td>\n",
       "    </tr>\n",
       "    <tr>\n",
       "      <th>4</th>\n",
       "      <td>train/patient42142/study3/view1_frontal.jpg</td>\n",
       "      <td>train/patient42142/study3/view1_frontal.dcm</td>\n",
       "      <td>Frontal</td>\n",
       "      <td>AP</td>\n",
       "      <td>patient42142</td>\n",
       "      <td>3</td>\n",
       "      <td>NARRATIVE:\\nEXAM: Chest 1 View, 10/4/2\\n \\nCLI...</td>\n",
       "      <td>\\nEXAM: Chest 1 View, 10/4/2\\n \\n</td>\n",
       "      <td>61 years Female UPRIGHT PLEASE. ICU PROTOCOL ...</td>\n",
       "      <td>NaN</td>\n",
       "      <td>...</td>\n",
       "      <td>\\n49286401\\nThis report has been anonymized. A...</td>\n",
       "      <td>62.0</td>\n",
       "      <td>Female</td>\n",
       "      <td>White</td>\n",
       "      <td>Non-Hispanic/Non-Latino</td>\n",
       "      <td>No</td>\n",
       "      <td>Private Insurance</td>\n",
       "      <td>22.2</td>\n",
       "      <td>No</td>\n",
       "      <td>train</td>\n",
       "    </tr>\n",
       "    <tr>\n",
       "      <th>...</th>\n",
       "      <td>...</td>\n",
       "      <td>...</td>\n",
       "      <td>...</td>\n",
       "      <td>...</td>\n",
       "      <td>...</td>\n",
       "      <td>...</td>\n",
       "      <td>...</td>\n",
       "      <td>...</td>\n",
       "      <td>...</td>\n",
       "      <td>...</td>\n",
       "      <td>...</td>\n",
       "      <td>...</td>\n",
       "      <td>...</td>\n",
       "      <td>...</td>\n",
       "      <td>...</td>\n",
       "      <td>...</td>\n",
       "      <td>...</td>\n",
       "      <td>...</td>\n",
       "      <td>...</td>\n",
       "      <td>...</td>\n",
       "      <td>...</td>\n",
       "    </tr>\n",
       "    <tr>\n",
       "      <th>223457</th>\n",
       "      <td>train/patient59696/study1/view1_frontal.jpg</td>\n",
       "      <td>train/patient59696/study1/view1_frontal.dcm</td>\n",
       "      <td>Frontal</td>\n",
       "      <td>AP</td>\n",
       "      <td>patient59696</td>\n",
       "      <td>1</td>\n",
       "      <td>NARRATIVE:\\nRADIOGRAPHIC EXAMINATION OF THE CH...</td>\n",
       "      <td>\\nRADIOGRAPHIC EXAMINATION OF THE CHEST: 12/31...</td>\n",
       "      <td>80 years of age, Female, Pulmonary edema.\\n \\n</td>\n",
       "      <td>NaN</td>\n",
       "      <td>...</td>\n",
       "      <td>\\n#7n4778536837\\nThis report has been anonymiz...</td>\n",
       "      <td>81.0</td>\n",
       "      <td>Female</td>\n",
       "      <td>White</td>\n",
       "      <td>Non-Hispanic/Non-Latino</td>\n",
       "      <td>No</td>\n",
       "      <td>Medicare</td>\n",
       "      <td>24.0</td>\n",
       "      <td>No</td>\n",
       "      <td>train</td>\n",
       "    </tr>\n",
       "    <tr>\n",
       "      <th>223458</th>\n",
       "      <td>train/patient24732/study1/view1_frontal.jpg</td>\n",
       "      <td>train/patient24732/study1/view1_frontal.dcm</td>\n",
       "      <td>Frontal</td>\n",
       "      <td>PA</td>\n",
       "      <td>patient24732</td>\n",
       "      <td>1</td>\n",
       "      <td>NARRATIVE:\\nEXAM: Chest 1 View, 6/8/04.\\n \\nHI...</td>\n",
       "      <td>\\nEXAM: Chest 1 View, 6/8/04.\\n \\n</td>\n",
       "      <td>NaN</td>\n",
       "      <td>26 years Male, DXCH1; + QUANT, R/O PULMONARY ...</td>\n",
       "      <td>...</td>\n",
       "      <td>\\n83-69-35-98\\nThis report has been anonymized...</td>\n",
       "      <td>27.0</td>\n",
       "      <td>Male</td>\n",
       "      <td>Asian</td>\n",
       "      <td>Non-Hispanic/Non-Latino</td>\n",
       "      <td>No</td>\n",
       "      <td>Unknown</td>\n",
       "      <td>NaN</td>\n",
       "      <td>No</td>\n",
       "      <td>train</td>\n",
       "    </tr>\n",
       "    <tr>\n",
       "      <th>223459</th>\n",
       "      <td>train/patient12591/study1/view1_frontal.jpg</td>\n",
       "      <td>train/patient12591/study1/view1_frontal.dcm</td>\n",
       "      <td>Frontal</td>\n",
       "      <td>AP</td>\n",
       "      <td>patient12591</td>\n",
       "      <td>1</td>\n",
       "      <td>NARRATIVE:\\nCHEST AP PORTABLE: 8-21-2000\\nCLIN...</td>\n",
       "      <td>\\nCHEST AP PORTABLE: 8-21-2000\\n</td>\n",
       "      <td>65-year-old male with brain mass, status post...</td>\n",
       "      <td>NaN</td>\n",
       "      <td>...</td>\n",
       "      <td>\\n5315047989368\\nThis report has been anonymiz...</td>\n",
       "      <td>66.0</td>\n",
       "      <td>Male</td>\n",
       "      <td>Unknown</td>\n",
       "      <td>Unknown</td>\n",
       "      <td>No</td>\n",
       "      <td>Medicare</td>\n",
       "      <td>NaN</td>\n",
       "      <td>Yes</td>\n",
       "      <td>train</td>\n",
       "    </tr>\n",
       "    <tr>\n",
       "      <th>223460</th>\n",
       "      <td>train/patient37553/study1/view1_frontal.jpg</td>\n",
       "      <td>train/patient37553/study1/view1_frontal.dcm</td>\n",
       "      <td>Frontal</td>\n",
       "      <td>AP</td>\n",
       "      <td>patient37553</td>\n",
       "      <td>1</td>\n",
       "      <td>NARRATIVE:\\nCHEST: 2/27/2005\\nCOMPARISON: 2/27...</td>\n",
       "      <td>\\nCHEST: 2/27/2005\\n</td>\n",
       "      <td>A 77-year-old male with parotid cancer.\\n</td>\n",
       "      <td>NaN</td>\n",
       "      <td>...</td>\n",
       "      <td>\\n#623485267\\nThis report has been anonymized....</td>\n",
       "      <td>77.0</td>\n",
       "      <td>Male</td>\n",
       "      <td>Unknown</td>\n",
       "      <td>Unknown</td>\n",
       "      <td>Unknown</td>\n",
       "      <td>Medicare</td>\n",
       "      <td>NaN</td>\n",
       "      <td>No</td>\n",
       "      <td>train</td>\n",
       "    </tr>\n",
       "    <tr>\n",
       "      <th>223461</th>\n",
       "      <td>train/patient48017/study1/view1_frontal.jpg</td>\n",
       "      <td>train/patient48017/study1/view1_frontal.dcm</td>\n",
       "      <td>Frontal</td>\n",
       "      <td>AP</td>\n",
       "      <td>patient48017</td>\n",
       "      <td>1</td>\n",
       "      <td>NARRATIVE:\\nCOMPARISON: 6/4/2015\\n \\nIMPRESSIO...</td>\n",
       "      <td>\\n</td>\n",
       "      <td>NaN</td>\n",
       "      <td>NaN</td>\n",
       "      <td>...</td>\n",
       "      <td>\\n5851643010\\nThis report has been anonymized....</td>\n",
       "      <td>82.0</td>\n",
       "      <td>Female</td>\n",
       "      <td>White</td>\n",
       "      <td>Non-Hispanic/Non-Latino</td>\n",
       "      <td>No</td>\n",
       "      <td>Medicare</td>\n",
       "      <td>36.4</td>\n",
       "      <td>No</td>\n",
       "      <td>train</td>\n",
       "    </tr>\n",
       "  </tbody>\n",
       "</table>\n",
       "<p>223462 rows × 27 columns</p>\n",
       "</div>"
      ],
      "text/plain": [
       "                                      path_to_image  \\\n",
       "0       train/patient42142/study5/view1_frontal.jpg   \n",
       "1       train/patient42142/study8/view1_frontal.jpg   \n",
       "2       train/patient42142/study2/view1_frontal.jpg   \n",
       "3       train/patient42142/study4/view1_frontal.jpg   \n",
       "4       train/patient42142/study3/view1_frontal.jpg   \n",
       "...                                             ...   \n",
       "223457  train/patient59696/study1/view1_frontal.jpg   \n",
       "223458  train/patient24732/study1/view1_frontal.jpg   \n",
       "223459  train/patient12591/study1/view1_frontal.jpg   \n",
       "223460  train/patient37553/study1/view1_frontal.jpg   \n",
       "223461  train/patient48017/study1/view1_frontal.jpg   \n",
       "\n",
       "                                        path_to_dcm frontal_lateral ap_pa  \\\n",
       "0       train/patient42142/study5/view1_frontal.dcm         Frontal    AP   \n",
       "1       train/patient42142/study8/view1_frontal.dcm         Frontal    AP   \n",
       "2       train/patient42142/study2/view1_frontal.dcm         Frontal    AP   \n",
       "3       train/patient42142/study4/view1_frontal.dcm         Frontal    AP   \n",
       "4       train/patient42142/study3/view1_frontal.dcm         Frontal    AP   \n",
       "...                                             ...             ...   ...   \n",
       "223457  train/patient59696/study1/view1_frontal.dcm         Frontal    AP   \n",
       "223458  train/patient24732/study1/view1_frontal.dcm         Frontal    PA   \n",
       "223459  train/patient12591/study1/view1_frontal.dcm         Frontal    AP   \n",
       "223460  train/patient37553/study1/view1_frontal.dcm         Frontal    AP   \n",
       "223461  train/patient48017/study1/view1_frontal.dcm         Frontal    AP   \n",
       "\n",
       "       deid_patient_id  patient_report_date_order  \\\n",
       "0         patient42142                          5   \n",
       "1         patient42142                          8   \n",
       "2         patient42142                          2   \n",
       "3         patient42142                          4   \n",
       "4         patient42142                          3   \n",
       "...                ...                        ...   \n",
       "223457    patient59696                          1   \n",
       "223458    patient24732                          1   \n",
       "223459    patient12591                          1   \n",
       "223460    patient37553                          1   \n",
       "223461    patient48017                          1   \n",
       "\n",
       "                                                   report  \\\n",
       "0       NARRATIVE:\\nChest 1 View, 8-8-2005\\n \\nHISTORY...   \n",
       "1       NARRATIVE:\\nChest 1 View, 7-11-2000\\n \\nHISTOR...   \n",
       "2       NARRATIVE:\\nChest 1 View, 11-17-2018\\n \\nHISTO...   \n",
       "3       NARRATIVE:\\nAP PORTABLE UPRIGHT CHEST: May 01 ...   \n",
       "4       NARRATIVE:\\nEXAM: Chest 1 View, 10/4/2\\n \\nCLI...   \n",
       "...                                                   ...   \n",
       "223457  NARRATIVE:\\nRADIOGRAPHIC EXAMINATION OF THE CH...   \n",
       "223458  NARRATIVE:\\nEXAM: Chest 1 View, 6/8/04.\\n \\nHI...   \n",
       "223459  NARRATIVE:\\nCHEST AP PORTABLE: 8-21-2000\\nCLIN...   \n",
       "223460  NARRATIVE:\\nCHEST: 2/27/2005\\nCOMPARISON: 2/27...   \n",
       "223461  NARRATIVE:\\nCOMPARISON: 6/4/2015\\n \\nIMPRESSIO...   \n",
       "\n",
       "                                        section_narrative  \\\n",
       "0                           \\nChest 1 View, 8-8-2005\\n \\n   \n",
       "1                          \\nChest 1 View, 7-11-2000\\n \\n   \n",
       "2                         \\nChest 1 View, 11-17-2018\\n \\n   \n",
       "3       \\nAP PORTABLE UPRIGHT CHEST: May 01 at 0518 ho...   \n",
       "4                       \\nEXAM: Chest 1 View, 10/4/2\\n \\n   \n",
       "...                                                   ...   \n",
       "223457  \\nRADIOGRAPHIC EXAMINATION OF THE CHEST: 12/31...   \n",
       "223458                 \\nEXAM: Chest 1 View, 6/8/04.\\n \\n   \n",
       "223459                   \\nCHEST AP PORTABLE: 8-21-2000\\n   \n",
       "223460                               \\nCHEST: 2/27/2005\\n   \n",
       "223461                                                 \\n   \n",
       "\n",
       "                                 section_clinical_history  \\\n",
       "0                                                     NaN   \n",
       "1                                                     NaN   \n",
       "2                                                     NaN   \n",
       "3                         ICU protocol.  Follow up.\\n \\n    \n",
       "4        61 years Female UPRIGHT PLEASE. ICU PROTOCOL ...   \n",
       "...                                                   ...   \n",
       "223457     80 years of age, Female, Pulmonary edema.\\n \\n   \n",
       "223458                                                NaN   \n",
       "223459   65-year-old male with brain mass, status post...   \n",
       "223460          A 77-year-old male with parotid cancer.\\n   \n",
       "223461                                                NaN   \n",
       "\n",
       "                                          section_history  ...  \\\n",
       "0                       61 years Female, ICU patient\\n \\n  ...   \n",
       "1                     61 years Female, tracheostomy.\\n \\n  ...   \n",
       "2           61 years Female, critical care follow-up\\n \\n  ...   \n",
       "3                                                     NaN  ...   \n",
       "4                                                     NaN  ...   \n",
       "...                                                   ...  ...   \n",
       "223457                                                NaN  ...   \n",
       "223458   26 years Male, DXCH1; + QUANT, R/O PULMONARY ...  ...   \n",
       "223459                                                NaN  ...   \n",
       "223460                                                NaN  ...   \n",
       "223461                                                NaN  ...   \n",
       "\n",
       "                                 section_accession_number   age     sex  \\\n",
       "0       \\n 9959089\\nThis report has been anonymized. A...  62.0  Female   \n",
       "1       \\n64048857\\nThis report has been anonymized. A...  62.0  Female   \n",
       "2       \\n#2452\\nThis report has been anonymized. All ...  62.0  Female   \n",
       "3       \\n4164064\\nThis report has been anonymized. Al...  62.0  Female   \n",
       "4       \\n49286401\\nThis report has been anonymized. A...  62.0  Female   \n",
       "...                                                   ...   ...     ...   \n",
       "223457  \\n#7n4778536837\\nThis report has been anonymiz...  81.0  Female   \n",
       "223458  \\n83-69-35-98\\nThis report has been anonymized...  27.0    Male   \n",
       "223459  \\n5315047989368\\nThis report has been anonymiz...  66.0    Male   \n",
       "223460  \\n#623485267\\nThis report has been anonymized....  77.0    Male   \n",
       "223461  \\n5851643010\\nThis report has been anonymized....  82.0  Female   \n",
       "\n",
       "           race                ethnicity interpreter_needed  \\\n",
       "0         White  Non-Hispanic/Non-Latino                 No   \n",
       "1         White  Non-Hispanic/Non-Latino                 No   \n",
       "2         White  Non-Hispanic/Non-Latino                 No   \n",
       "3         White  Non-Hispanic/Non-Latino                 No   \n",
       "4         White  Non-Hispanic/Non-Latino                 No   \n",
       "...         ...                      ...                ...   \n",
       "223457    White  Non-Hispanic/Non-Latino                 No   \n",
       "223458    Asian  Non-Hispanic/Non-Latino                 No   \n",
       "223459  Unknown                  Unknown                 No   \n",
       "223460  Unknown                  Unknown            Unknown   \n",
       "223461    White  Non-Hispanic/Non-Latino                 No   \n",
       "\n",
       "           insurance_type recent_bmi  deceased  split  \n",
       "0       Private Insurance       22.2        No  train  \n",
       "1       Private Insurance       22.2        No  train  \n",
       "2       Private Insurance       22.2        No  train  \n",
       "3       Private Insurance       22.2        No  train  \n",
       "4       Private Insurance       22.2        No  train  \n",
       "...                   ...        ...       ...    ...  \n",
       "223457           Medicare       24.0        No  train  \n",
       "223458            Unknown        NaN        No  train  \n",
       "223459           Medicare        NaN       Yes  train  \n",
       "223460           Medicare        NaN        No  train  \n",
       "223461           Medicare       36.4        No  train  \n",
       "\n",
       "[223462 rows x 27 columns]"
      ]
     },
     "execution_count": 10,
     "metadata": {},
     "output_type": "execute_result"
    }
   ],
   "source": [
    "df_all"
   ]
  },
  {
   "cell_type": "code",
   "execution_count": 20,
   "metadata": {},
   "outputs": [
    {
     "data": {
      "text/plain": [
       "Index(['path_to_image', 'path_to_dcm', 'frontal_lateral', 'ap_pa',\n",
       "       'deid_patient_id', 'patient_report_date_order', 'report',\n",
       "       'section_narrative', 'section_clinical_history', 'section_history',\n",
       "       'section_comparison', 'section_technique', 'section_procedure_comments',\n",
       "       'section_findings', 'section_impression', 'section_end_of_impression',\n",
       "       'section_summary', 'section_accession_number', 'age', 'sex', 'race',\n",
       "       'ethnicity', 'interpreter_needed', 'insurance_type', 'recent_bmi',\n",
       "       'deceased', 'split'],\n",
       "      dtype='object')"
      ]
     },
     "execution_count": 20,
     "metadata": {},
     "output_type": "execute_result"
    }
   ],
   "source": [
    "df.columns"
   ]
  },
  {
   "cell_type": "code",
   "execution_count": 17,
   "metadata": {},
   "outputs": [
    {
     "data": {
      "text/plain": [
       "0           \\n \\n1.TRACHEOSTOMY TUBE REMAINS IN PLACE.  ...\n",
       "1           \\n \\n1.TRACHEOSTOMY AND SUBDIAPHRAGMATIC ENT...\n",
       "2           \\n \\n1.SINGLE PORTABLE SEMIUPRIGHT AP VIEW O...\n",
       "3         \\n \\n 1.  PATCHY SUBSEGMENTAL BIBASILAR (LEFT ...\n",
       "4         \\n \\n1.UPRIGHT FRONTAL VIEW OF THE CHEST DEMON...\n",
       "                                ...                        \n",
       "223457    \\n \\n1.  Decreased pulmonary edema. Otherwise,...\n",
       "223458    \\n \\nLUNGS GROSSLY CLEAR. NO EVIDENCE OF AIR S...\n",
       "223459    \\n1. AP UPRIGHT VIEW OF THE CHEST DEMONSTRATES...\n",
       "223460    \\nAP UPRIGHT VIEW OF THE CHEST DEMONSTRATES IN...\n",
       "223461    \\n \\nCARDIAC SILHOUETTE REMAINS ENLARGED.  AOR...\n",
       "Name: section_impression, Length: 223462, dtype: object"
      ]
     },
     "execution_count": 17,
     "metadata": {},
     "output_type": "execute_result"
    }
   ],
   "source": [
    "df['section_impression']"
   ]
  },
  {
   "cell_type": "code",
   "execution_count": 3,
   "metadata": {},
   "outputs": [],
   "source": [
    "patient_id_set = {'04528', '11162', '32368'}"
   ]
  },
  {
   "cell_type": "code",
   "execution_count": 46,
   "metadata": {},
   "outputs": [
    {
     "data": {
      "text/html": [
       "<div>\n",
       "<style scoped>\n",
       "    .dataframe tbody tr th:only-of-type {\n",
       "        vertical-align: middle;\n",
       "    }\n",
       "\n",
       "    .dataframe tbody tr th {\n",
       "        vertical-align: top;\n",
       "    }\n",
       "\n",
       "    .dataframe thead th {\n",
       "        text-align: right;\n",
       "    }\n",
       "</style>\n",
       "<table border=\"1\" class=\"dataframe\">\n",
       "  <thead>\n",
       "    <tr style=\"text-align: right;\">\n",
       "      <th></th>\n",
       "      <th>path_to_image</th>\n",
       "      <th>path_to_dcm</th>\n",
       "      <th>frontal_lateral</th>\n",
       "      <th>ap_pa</th>\n",
       "      <th>deid_patient_id</th>\n",
       "      <th>patient_report_date_order</th>\n",
       "      <th>report</th>\n",
       "      <th>section_narrative</th>\n",
       "      <th>section_clinical_history</th>\n",
       "      <th>section_history</th>\n",
       "      <th>...</th>\n",
       "      <th>section_accession_number</th>\n",
       "      <th>age</th>\n",
       "      <th>sex</th>\n",
       "      <th>race</th>\n",
       "      <th>ethnicity</th>\n",
       "      <th>interpreter_needed</th>\n",
       "      <th>insurance_type</th>\n",
       "      <th>recent_bmi</th>\n",
       "      <th>deceased</th>\n",
       "      <th>split</th>\n",
       "    </tr>\n",
       "  </thead>\n",
       "  <tbody>\n",
       "    <tr>\n",
       "      <th>0</th>\n",
       "      <td>train/patient42142/study5/view1_frontal.jpg</td>\n",
       "      <td>train/patient42142/study5/view1_frontal.dcm</td>\n",
       "      <td>Frontal</td>\n",
       "      <td>AP</td>\n",
       "      <td>patient42142</td>\n",
       "      <td>5</td>\n",
       "      <td>NARRATIVE:\\nChest 1 View, 8-8-2005\\n \\nHISTORY...</td>\n",
       "      <td>\\nChest 1 View, 8-8-2005\\n \\n</td>\n",
       "      <td>NaN</td>\n",
       "      <td>61 years Female, ICU patient\\n \\n</td>\n",
       "      <td>...</td>\n",
       "      <td>\\n 9959089\\nThis report has been anonymized. A...</td>\n",
       "      <td>62.0</td>\n",
       "      <td>Female</td>\n",
       "      <td>White</td>\n",
       "      <td>Non-Hispanic/Non-Latino</td>\n",
       "      <td>No</td>\n",
       "      <td>Private Insurance</td>\n",
       "      <td>22.2</td>\n",
       "      <td>No</td>\n",
       "      <td>train</td>\n",
       "    </tr>\n",
       "    <tr>\n",
       "      <th>1</th>\n",
       "      <td>train/patient42142/study8/view1_frontal.jpg</td>\n",
       "      <td>train/patient42142/study8/view1_frontal.dcm</td>\n",
       "      <td>Frontal</td>\n",
       "      <td>AP</td>\n",
       "      <td>patient42142</td>\n",
       "      <td>8</td>\n",
       "      <td>NARRATIVE:\\nChest 1 View, 7-11-2000\\n \\nHISTOR...</td>\n",
       "      <td>\\nChest 1 View, 7-11-2000\\n \\n</td>\n",
       "      <td>NaN</td>\n",
       "      <td>61 years Female, tracheostomy.\\n \\n</td>\n",
       "      <td>...</td>\n",
       "      <td>\\n64048857\\nThis report has been anonymized. A...</td>\n",
       "      <td>62.0</td>\n",
       "      <td>Female</td>\n",
       "      <td>White</td>\n",
       "      <td>Non-Hispanic/Non-Latino</td>\n",
       "      <td>No</td>\n",
       "      <td>Private Insurance</td>\n",
       "      <td>22.2</td>\n",
       "      <td>No</td>\n",
       "      <td>train</td>\n",
       "    </tr>\n",
       "    <tr>\n",
       "      <th>2</th>\n",
       "      <td>train/patient42142/study2/view1_frontal.jpg</td>\n",
       "      <td>train/patient42142/study2/view1_frontal.dcm</td>\n",
       "      <td>Frontal</td>\n",
       "      <td>AP</td>\n",
       "      <td>patient42142</td>\n",
       "      <td>2</td>\n",
       "      <td>NARRATIVE:\\nChest 1 View, 11-17-2018\\n \\nHISTO...</td>\n",
       "      <td>\\nChest 1 View, 11-17-2018\\n \\n</td>\n",
       "      <td>NaN</td>\n",
       "      <td>61 years Female, critical care follow-up\\n \\n</td>\n",
       "      <td>...</td>\n",
       "      <td>\\n#2452\\nThis report has been anonymized. All ...</td>\n",
       "      <td>62.0</td>\n",
       "      <td>Female</td>\n",
       "      <td>White</td>\n",
       "      <td>Non-Hispanic/Non-Latino</td>\n",
       "      <td>No</td>\n",
       "      <td>Private Insurance</td>\n",
       "      <td>22.2</td>\n",
       "      <td>No</td>\n",
       "      <td>train</td>\n",
       "    </tr>\n",
       "    <tr>\n",
       "      <th>3</th>\n",
       "      <td>train/patient42142/study4/view1_frontal.jpg</td>\n",
       "      <td>train/patient42142/study4/view1_frontal.dcm</td>\n",
       "      <td>Frontal</td>\n",
       "      <td>AP</td>\n",
       "      <td>patient42142</td>\n",
       "      <td>4</td>\n",
       "      <td>NARRATIVE:\\nAP PORTABLE UPRIGHT CHEST: May 01 ...</td>\n",
       "      <td>\\nAP PORTABLE UPRIGHT CHEST: May 01 at 0518 ho...</td>\n",
       "      <td>ICU protocol.  Follow up.\\n \\n</td>\n",
       "      <td>NaN</td>\n",
       "      <td>...</td>\n",
       "      <td>\\n4164064\\nThis report has been anonymized. Al...</td>\n",
       "      <td>62.0</td>\n",
       "      <td>Female</td>\n",
       "      <td>White</td>\n",
       "      <td>Non-Hispanic/Non-Latino</td>\n",
       "      <td>No</td>\n",
       "      <td>Private Insurance</td>\n",
       "      <td>22.2</td>\n",
       "      <td>No</td>\n",
       "      <td>train</td>\n",
       "    </tr>\n",
       "    <tr>\n",
       "      <th>4</th>\n",
       "      <td>train/patient42142/study3/view1_frontal.jpg</td>\n",
       "      <td>train/patient42142/study3/view1_frontal.dcm</td>\n",
       "      <td>Frontal</td>\n",
       "      <td>AP</td>\n",
       "      <td>patient42142</td>\n",
       "      <td>3</td>\n",
       "      <td>NARRATIVE:\\nEXAM: Chest 1 View, 10/4/2\\n \\nCLI...</td>\n",
       "      <td>\\nEXAM: Chest 1 View, 10/4/2\\n \\n</td>\n",
       "      <td>61 years Female UPRIGHT PLEASE. ICU PROTOCOL ...</td>\n",
       "      <td>NaN</td>\n",
       "      <td>...</td>\n",
       "      <td>\\n49286401\\nThis report has been anonymized. A...</td>\n",
       "      <td>62.0</td>\n",
       "      <td>Female</td>\n",
       "      <td>White</td>\n",
       "      <td>Non-Hispanic/Non-Latino</td>\n",
       "      <td>No</td>\n",
       "      <td>Private Insurance</td>\n",
       "      <td>22.2</td>\n",
       "      <td>No</td>\n",
       "      <td>train</td>\n",
       "    </tr>\n",
       "    <tr>\n",
       "      <th>5</th>\n",
       "      <td>train/patient42142/study7/view1_frontal.jpg</td>\n",
       "      <td>train/patient42142/study7/view1_frontal.dcm</td>\n",
       "      <td>Frontal</td>\n",
       "      <td>AP</td>\n",
       "      <td>patient42142</td>\n",
       "      <td>7</td>\n",
       "      <td>NARRATIVE:\\nChest 1 View, 1-29-2017\\n \\nHISTOR...</td>\n",
       "      <td>\\nChest 1 View, 1-29-2017\\n \\n</td>\n",
       "      <td>NaN</td>\n",
       "      <td>61 years Female, shortness of breath\\n \\n</td>\n",
       "      <td>...</td>\n",
       "      <td>\\n04240392\\nThis report has been anonymized. A...</td>\n",
       "      <td>62.0</td>\n",
       "      <td>Female</td>\n",
       "      <td>White</td>\n",
       "      <td>Non-Hispanic/Non-Latino</td>\n",
       "      <td>No</td>\n",
       "      <td>Private Insurance</td>\n",
       "      <td>22.2</td>\n",
       "      <td>No</td>\n",
       "      <td>train</td>\n",
       "    </tr>\n",
       "    <tr>\n",
       "      <th>6</th>\n",
       "      <td>train/patient42142/study1/view1_frontal.jpg</td>\n",
       "      <td>train/patient42142/study1/view1_frontal.dcm</td>\n",
       "      <td>Frontal</td>\n",
       "      <td>AP</td>\n",
       "      <td>patient42142</td>\n",
       "      <td>1</td>\n",
       "      <td>NARRATIVE:\\nChest 1 View, 2004/20\\n \\nHISTORY:...</td>\n",
       "      <td>\\nChest 1 View, 2004/20\\n \\n</td>\n",
       "      <td>NaN</td>\n",
       "      <td>61 years Female, Line placement\\n \\n</td>\n",
       "      <td>...</td>\n",
       "      <td>\\nljnagnwl\\nThis report has been anonymized. A...</td>\n",
       "      <td>62.0</td>\n",
       "      <td>Female</td>\n",
       "      <td>White</td>\n",
       "      <td>Non-Hispanic/Non-Latino</td>\n",
       "      <td>No</td>\n",
       "      <td>Private Insurance</td>\n",
       "      <td>22.2</td>\n",
       "      <td>No</td>\n",
       "      <td>train</td>\n",
       "    </tr>\n",
       "    <tr>\n",
       "      <th>7</th>\n",
       "      <td>train/patient42142/study6/view1_frontal.jpg</td>\n",
       "      <td>train/patient42142/study6/view1_frontal.dcm</td>\n",
       "      <td>Frontal</td>\n",
       "      <td>AP</td>\n",
       "      <td>patient42142</td>\n",
       "      <td>6</td>\n",
       "      <td>NARRATIVE:\\nChest 1 View, 1/16/2016\\n \\nHISTOR...</td>\n",
       "      <td>\\nChest 1 View, 1/16/2016\\n \\n</td>\n",
       "      <td>NaN</td>\n",
       "      <td>61 years Female, ICU patient\\n \\n</td>\n",
       "      <td>...</td>\n",
       "      <td>\\n36157\\nThis report has been anonymized. All ...</td>\n",
       "      <td>62.0</td>\n",
       "      <td>Female</td>\n",
       "      <td>White</td>\n",
       "      <td>Non-Hispanic/Non-Latino</td>\n",
       "      <td>No</td>\n",
       "      <td>Private Insurance</td>\n",
       "      <td>22.2</td>\n",
       "      <td>No</td>\n",
       "      <td>train</td>\n",
       "    </tr>\n",
       "    <tr>\n",
       "      <th>8</th>\n",
       "      <td>train/patient04528/study1/view2_lateral.jpg</td>\n",
       "      <td>train/patient04528/study1/view2_lateral.dcm</td>\n",
       "      <td>Lateral</td>\n",
       "      <td>NaN</td>\n",
       "      <td>patient04528</td>\n",
       "      <td>1</td>\n",
       "      <td>NARRATIVE:\\nRADIOGRAPHIC EXAMINATION OF THE CH...</td>\n",
       "      <td>\\nRADIOGRAPHIC EXAMINATION OF THE CHEST: 6/3/1...</td>\n",
       "      <td>61 years of age, Female, R o infiltarate..AML...</td>\n",
       "      <td>NaN</td>\n",
       "      <td>...</td>\n",
       "      <td>\\nRUFLZXH\\nThis report has been anonymized. Al...</td>\n",
       "      <td>62.0</td>\n",
       "      <td>Female</td>\n",
       "      <td>White</td>\n",
       "      <td>Non-Hispanic/Non-Latino</td>\n",
       "      <td>No</td>\n",
       "      <td>Private Insurance</td>\n",
       "      <td>24.9</td>\n",
       "      <td>Yes</td>\n",
       "      <td>train</td>\n",
       "    </tr>\n",
       "    <tr>\n",
       "      <th>9</th>\n",
       "      <td>train/patient04528/study1/view1_frontal.jpg</td>\n",
       "      <td>train/patient04528/study1/view1_frontal.dcm</td>\n",
       "      <td>Frontal</td>\n",
       "      <td>PA</td>\n",
       "      <td>patient04528</td>\n",
       "      <td>2</td>\n",
       "      <td>NARRATIVE:\\nRADIOGRAPHIC EXAMINATION OF THE CH...</td>\n",
       "      <td>\\nRADIOGRAPHIC EXAMINATION OF THE CHEST: 11-28...</td>\n",
       "      <td>61 years of age, Female, R o infiltarate..AML...</td>\n",
       "      <td>NaN</td>\n",
       "      <td>...</td>\n",
       "      <td>\\n716611072\\nThis report has been anonymized. ...</td>\n",
       "      <td>62.0</td>\n",
       "      <td>Female</td>\n",
       "      <td>White</td>\n",
       "      <td>Non-Hispanic/Non-Latino</td>\n",
       "      <td>No</td>\n",
       "      <td>Private Insurance</td>\n",
       "      <td>24.9</td>\n",
       "      <td>Yes</td>\n",
       "      <td>train</td>\n",
       "    </tr>\n",
       "  </tbody>\n",
       "</table>\n",
       "<p>10 rows × 27 columns</p>\n",
       "</div>"
      ],
      "text/plain": [
       "                                 path_to_image  \\\n",
       "0  train/patient42142/study5/view1_frontal.jpg   \n",
       "1  train/patient42142/study8/view1_frontal.jpg   \n",
       "2  train/patient42142/study2/view1_frontal.jpg   \n",
       "3  train/patient42142/study4/view1_frontal.jpg   \n",
       "4  train/patient42142/study3/view1_frontal.jpg   \n",
       "5  train/patient42142/study7/view1_frontal.jpg   \n",
       "6  train/patient42142/study1/view1_frontal.jpg   \n",
       "7  train/patient42142/study6/view1_frontal.jpg   \n",
       "8  train/patient04528/study1/view2_lateral.jpg   \n",
       "9  train/patient04528/study1/view1_frontal.jpg   \n",
       "\n",
       "                                   path_to_dcm frontal_lateral ap_pa  \\\n",
       "0  train/patient42142/study5/view1_frontal.dcm         Frontal    AP   \n",
       "1  train/patient42142/study8/view1_frontal.dcm         Frontal    AP   \n",
       "2  train/patient42142/study2/view1_frontal.dcm         Frontal    AP   \n",
       "3  train/patient42142/study4/view1_frontal.dcm         Frontal    AP   \n",
       "4  train/patient42142/study3/view1_frontal.dcm         Frontal    AP   \n",
       "5  train/patient42142/study7/view1_frontal.dcm         Frontal    AP   \n",
       "6  train/patient42142/study1/view1_frontal.dcm         Frontal    AP   \n",
       "7  train/patient42142/study6/view1_frontal.dcm         Frontal    AP   \n",
       "8  train/patient04528/study1/view2_lateral.dcm         Lateral   NaN   \n",
       "9  train/patient04528/study1/view1_frontal.dcm         Frontal    PA   \n",
       "\n",
       "  deid_patient_id  patient_report_date_order  \\\n",
       "0    patient42142                          5   \n",
       "1    patient42142                          8   \n",
       "2    patient42142                          2   \n",
       "3    patient42142                          4   \n",
       "4    patient42142                          3   \n",
       "5    patient42142                          7   \n",
       "6    patient42142                          1   \n",
       "7    patient42142                          6   \n",
       "8    patient04528                          1   \n",
       "9    patient04528                          2   \n",
       "\n",
       "                                              report  \\\n",
       "0  NARRATIVE:\\nChest 1 View, 8-8-2005\\n \\nHISTORY...   \n",
       "1  NARRATIVE:\\nChest 1 View, 7-11-2000\\n \\nHISTOR...   \n",
       "2  NARRATIVE:\\nChest 1 View, 11-17-2018\\n \\nHISTO...   \n",
       "3  NARRATIVE:\\nAP PORTABLE UPRIGHT CHEST: May 01 ...   \n",
       "4  NARRATIVE:\\nEXAM: Chest 1 View, 10/4/2\\n \\nCLI...   \n",
       "5  NARRATIVE:\\nChest 1 View, 1-29-2017\\n \\nHISTOR...   \n",
       "6  NARRATIVE:\\nChest 1 View, 2004/20\\n \\nHISTORY:...   \n",
       "7  NARRATIVE:\\nChest 1 View, 1/16/2016\\n \\nHISTOR...   \n",
       "8  NARRATIVE:\\nRADIOGRAPHIC EXAMINATION OF THE CH...   \n",
       "9  NARRATIVE:\\nRADIOGRAPHIC EXAMINATION OF THE CH...   \n",
       "\n",
       "                                   section_narrative  \\\n",
       "0                      \\nChest 1 View, 8-8-2005\\n \\n   \n",
       "1                     \\nChest 1 View, 7-11-2000\\n \\n   \n",
       "2                    \\nChest 1 View, 11-17-2018\\n \\n   \n",
       "3  \\nAP PORTABLE UPRIGHT CHEST: May 01 at 0518 ho...   \n",
       "4                  \\nEXAM: Chest 1 View, 10/4/2\\n \\n   \n",
       "5                     \\nChest 1 View, 1-29-2017\\n \\n   \n",
       "6                       \\nChest 1 View, 2004/20\\n \\n   \n",
       "7                     \\nChest 1 View, 1/16/2016\\n \\n   \n",
       "8  \\nRADIOGRAPHIC EXAMINATION OF THE CHEST: 6/3/1...   \n",
       "9  \\nRADIOGRAPHIC EXAMINATION OF THE CHEST: 11-28...   \n",
       "\n",
       "                            section_clinical_history  \\\n",
       "0                                                NaN   \n",
       "1                                                NaN   \n",
       "2                                                NaN   \n",
       "3                    ICU protocol.  Follow up.\\n \\n    \n",
       "4   61 years Female UPRIGHT PLEASE. ICU PROTOCOL ...   \n",
       "5                                                NaN   \n",
       "6                                                NaN   \n",
       "7                                                NaN   \n",
       "8   61 years of age, Female, R o infiltarate..AML...   \n",
       "9   61 years of age, Female, R o infiltarate..AML...   \n",
       "\n",
       "                                  section_history  ...  \\\n",
       "0               61 years Female, ICU patient\\n \\n  ...   \n",
       "1             61 years Female, tracheostomy.\\n \\n  ...   \n",
       "2   61 years Female, critical care follow-up\\n \\n  ...   \n",
       "3                                             NaN  ...   \n",
       "4                                             NaN  ...   \n",
       "5       61 years Female, shortness of breath\\n \\n  ...   \n",
       "6            61 years Female, Line placement\\n \\n  ...   \n",
       "7               61 years Female, ICU patient\\n \\n  ...   \n",
       "8                                             NaN  ...   \n",
       "9                                             NaN  ...   \n",
       "\n",
       "                            section_accession_number   age     sex   race  \\\n",
       "0  \\n 9959089\\nThis report has been anonymized. A...  62.0  Female  White   \n",
       "1  \\n64048857\\nThis report has been anonymized. A...  62.0  Female  White   \n",
       "2  \\n#2452\\nThis report has been anonymized. All ...  62.0  Female  White   \n",
       "3  \\n4164064\\nThis report has been anonymized. Al...  62.0  Female  White   \n",
       "4  \\n49286401\\nThis report has been anonymized. A...  62.0  Female  White   \n",
       "5  \\n04240392\\nThis report has been anonymized. A...  62.0  Female  White   \n",
       "6  \\nljnagnwl\\nThis report has been anonymized. A...  62.0  Female  White   \n",
       "7  \\n36157\\nThis report has been anonymized. All ...  62.0  Female  White   \n",
       "8  \\nRUFLZXH\\nThis report has been anonymized. Al...  62.0  Female  White   \n",
       "9  \\n716611072\\nThis report has been anonymized. ...  62.0  Female  White   \n",
       "\n",
       "                 ethnicity interpreter_needed     insurance_type recent_bmi  \\\n",
       "0  Non-Hispanic/Non-Latino                 No  Private Insurance       22.2   \n",
       "1  Non-Hispanic/Non-Latino                 No  Private Insurance       22.2   \n",
       "2  Non-Hispanic/Non-Latino                 No  Private Insurance       22.2   \n",
       "3  Non-Hispanic/Non-Latino                 No  Private Insurance       22.2   \n",
       "4  Non-Hispanic/Non-Latino                 No  Private Insurance       22.2   \n",
       "5  Non-Hispanic/Non-Latino                 No  Private Insurance       22.2   \n",
       "6  Non-Hispanic/Non-Latino                 No  Private Insurance       22.2   \n",
       "7  Non-Hispanic/Non-Latino                 No  Private Insurance       22.2   \n",
       "8  Non-Hispanic/Non-Latino                 No  Private Insurance       24.9   \n",
       "9  Non-Hispanic/Non-Latino                 No  Private Insurance       24.9   \n",
       "\n",
       "   deceased  split  \n",
       "0        No  train  \n",
       "1        No  train  \n",
       "2        No  train  \n",
       "3        No  train  \n",
       "4        No  train  \n",
       "5        No  train  \n",
       "6        No  train  \n",
       "7        No  train  \n",
       "8       Yes  train  \n",
       "9       Yes  train  \n",
       "\n",
       "[10 rows x 27 columns]"
      ]
     },
     "execution_count": 46,
     "metadata": {},
     "output_type": "execute_result"
    }
   ],
   "source": [
    "df_all.head(10)"
   ]
  },
  {
   "cell_type": "code",
   "execution_count": 46,
   "metadata": {},
   "outputs": [],
   "source": [
    "img_dict = {}\n",
    "text_dict = {}"
   ]
  },
  {
   "cell_type": "code",
   "execution_count": 47,
   "metadata": {},
   "outputs": [
    {
     "data": {
      "application/vnd.jupyter.widget-view+json": {
       "model_id": "861a2f70f81f4ed59d9f39b46b602c34",
       "version_major": 2,
       "version_minor": 0
      },
      "text/plain": [
       "  0%|          | 0/223462 [00:00<?, ?it/s]"
      ]
     },
     "metadata": {},
     "output_type": "display_data"
    }
   ],
   "source": [
    "patient_id_set = set()\n",
    "for idx in tqdm(range(len(df_all))):\n",
    "    img_path = df_all.iloc[idx]['path_to_image']\n",
    "    img_path_list = splitext(img_path)[0].split('/')\n",
    "    patient_id = img_path_list[1][7:]\n",
    "    patient_id_set.add(patient_id)\n",
    "    study_num = img_path_list[2]\n",
    "    if patient_id in patient_id_set:\n",
    "        patient_id_study_num = f'patient{patient_id}/{study_num}'\n",
    "        if patient_id_study_num not in img_dict:\n",
    "            # add list of images to the same study of a patient\n",
    "            img_paths_list = ['/'.join(img_path_list) + '.png']\n",
    "            img_dict[patient_id_study_num] = img_paths_list\n",
    "\n",
    "            # add findings and impression texts to a list\n",
    "            section_reports_list = []\n",
    "            section_findings = df_all.iloc[idx]['section_findings']\n",
    "            if isinstance(section_findings, str) and len(section_findings.split()) >= 2:\n",
    "                section_findings = section_findings.strip().replace('\\n', '').replace('..', '.') # strips mostly '/n'\n",
    "                section_findings = '. '.join([s.strip().capitalize() for s in section_findings.split('.')]).strip() # lower caps\n",
    "                section_reports_list.append(section_findings)\n",
    "            else:\n",
    "                section_reports_list.append('[NF]')\n",
    "            section_impression = df_all.iloc[idx]['section_impression']\n",
    "            if isinstance(section_impression, str) and len(section_impression.split()) >= 2:\n",
    "                section_impression = section_impression.strip().replace('\\n', '').replace('..', '.') # strips mostly '/n'\n",
    "                section_impression = '. '.join([s.strip().capitalize() for s in section_impression.split('.')]).strip() # lower caps\n",
    "                section_reports_list.append(section_impression)\n",
    "            else:\n",
    "                section_reports_list.append('[NI]')\n",
    "            text_dict[patient_id_study_num] = section_reports_list\n",
    "        else:\n",
    "            img_dict[patient_id_study_num].append('/'.join(img_path_list) + '.png')"
   ]
  },
  {
   "cell_type": "code",
   "execution_count": 48,
   "metadata": {},
   "outputs": [
    {
     "data": {
      "text/plain": [
       "64725"
      ]
     },
     "execution_count": 48,
     "metadata": {},
     "output_type": "execute_result"
    }
   ],
   "source": [
    "len(patient_id_set)"
   ]
  },
  {
   "cell_type": "code",
   "execution_count": 49,
   "metadata": {},
   "outputs": [
    {
     "data": {
      "text/plain": [
       "{'54862',\n",
       " '23473',\n",
       " '47557',\n",
       " '29366',\n",
       " '29751',\n",
       " '59466',\n",
       " '48141',\n",
       " '20697',\n",
       " '02564',\n",
       " '03435',\n",
       " '33906',\n",
       " '28686',\n",
       " '53612',\n",
       " '37138',\n",
       " '34489',\n",
       " '12969',\n",
       " '07999',\n",
       " '11989',\n",
       " '18624',\n",
       " '43941',\n",
       " '21475',\n",
       " '57130',\n",
       " '40857',\n",
       " '36300',\n",
       " '04373',\n",
       " '52661',\n",
       " '18692',\n",
       " '28896',\n",
       " '32059',\n",
       " '30561',\n",
       " '07534',\n",
       " '22108',\n",
       " '49700',\n",
       " '54494',\n",
       " '12573',\n",
       " '49039',\n",
       " '25166',\n",
       " '12825',\n",
       " '50072',\n",
       " '53996',\n",
       " '52559',\n",
       " '60888',\n",
       " '46649',\n",
       " '50320',\n",
       " '01451',\n",
       " '17538',\n",
       " '51173',\n",
       " '26495',\n",
       " '53816',\n",
       " '58420',\n",
       " '16730',\n",
       " '50962',\n",
       " '10718',\n",
       " '23615',\n",
       " '31089',\n",
       " '50289',\n",
       " '55765',\n",
       " '50284',\n",
       " '63751',\n",
       " '00746',\n",
       " '54550',\n",
       " '55620',\n",
       " '62529',\n",
       " '24472',\n",
       " '51957',\n",
       " '08352',\n",
       " '40276',\n",
       " '51966',\n",
       " '22178',\n",
       " '25817',\n",
       " '16310',\n",
       " '12019',\n",
       " '32399',\n",
       " '56426',\n",
       " '25857',\n",
       " '56151',\n",
       " '49629',\n",
       " '43040',\n",
       " '62266',\n",
       " '59204',\n",
       " '13565',\n",
       " '48942',\n",
       " '45351',\n",
       " '22235',\n",
       " '48674',\n",
       " '02932',\n",
       " '56249',\n",
       " '36952',\n",
       " '32168',\n",
       " '58425',\n",
       " '64739',\n",
       " '08245',\n",
       " '00756',\n",
       " '19244',\n",
       " '12330',\n",
       " '54565',\n",
       " '11485',\n",
       " '48052',\n",
       " '59126',\n",
       " '62730',\n",
       " '03612',\n",
       " '46062',\n",
       " '25858',\n",
       " '50776',\n",
       " '46956',\n",
       " '30749',\n",
       " '02923',\n",
       " '10340',\n",
       " '47741',\n",
       " '18272',\n",
       " '40694',\n",
       " '50155',\n",
       " '51576',\n",
       " '27122',\n",
       " '10185',\n",
       " '33408',\n",
       " '03141',\n",
       " '28157',\n",
       " '21188',\n",
       " '49087',\n",
       " '52903',\n",
       " '27606',\n",
       " '42730',\n",
       " '34768',\n",
       " '55186',\n",
       " '07325',\n",
       " '18634',\n",
       " '20410',\n",
       " '04836',\n",
       " '06507',\n",
       " '09293',\n",
       " '25316',\n",
       " '04086',\n",
       " '28718',\n",
       " '23554',\n",
       " '52254',\n",
       " '31925',\n",
       " '26345',\n",
       " '25819',\n",
       " '41716',\n",
       " '21543',\n",
       " '41181',\n",
       " '36153',\n",
       " '58910',\n",
       " '44599',\n",
       " '10872',\n",
       " '32457',\n",
       " '37426',\n",
       " '12782',\n",
       " '19880',\n",
       " '01754',\n",
       " '41052',\n",
       " '51698',\n",
       " '53898',\n",
       " '11426',\n",
       " '01926',\n",
       " '47396',\n",
       " '62515',\n",
       " '25381',\n",
       " '37622',\n",
       " '47195',\n",
       " '60943',\n",
       " '61728',\n",
       " '14370',\n",
       " '38926',\n",
       " '42056',\n",
       " '43231',\n",
       " '27723',\n",
       " '43088',\n",
       " '59468',\n",
       " '08942',\n",
       " '60753',\n",
       " '63711',\n",
       " '51515',\n",
       " '55088',\n",
       " '21707',\n",
       " '20266',\n",
       " '59722',\n",
       " '18436',\n",
       " '17322',\n",
       " '62352',\n",
       " '08014',\n",
       " '10372',\n",
       " '07748',\n",
       " '58679',\n",
       " '19742',\n",
       " '21792',\n",
       " '08903',\n",
       " '21966',\n",
       " '08509',\n",
       " '62289',\n",
       " '26688',\n",
       " '62079',\n",
       " '29037',\n",
       " '46204',\n",
       " '35984',\n",
       " '11587',\n",
       " '54497',\n",
       " '15124',\n",
       " '10837',\n",
       " '44345',\n",
       " '28008',\n",
       " '35460',\n",
       " '34059',\n",
       " '37463',\n",
       " '38022',\n",
       " '12535',\n",
       " '18010',\n",
       " '13677',\n",
       " '10565',\n",
       " '22966',\n",
       " '23503',\n",
       " '39646',\n",
       " '32093',\n",
       " '07157',\n",
       " '14744',\n",
       " '57896',\n",
       " '27528',\n",
       " '46053',\n",
       " '02183',\n",
       " '60985',\n",
       " '44142',\n",
       " '61534',\n",
       " '12903',\n",
       " '13359',\n",
       " '38408',\n",
       " '40616',\n",
       " '02116',\n",
       " '09337',\n",
       " '63915',\n",
       " '29451',\n",
       " '56628',\n",
       " '28155',\n",
       " '41036',\n",
       " '02449',\n",
       " '05977',\n",
       " '35451',\n",
       " '17849',\n",
       " '21175',\n",
       " '62956',\n",
       " '00509',\n",
       " '19100',\n",
       " '25824',\n",
       " '48829',\n",
       " '62767',\n",
       " '56419',\n",
       " '60433',\n",
       " '13349',\n",
       " '14553',\n",
       " '02800',\n",
       " '28268',\n",
       " '22131',\n",
       " '61694',\n",
       " '41345',\n",
       " '48131',\n",
       " '13896',\n",
       " '40449',\n",
       " '42245',\n",
       " '37661',\n",
       " '46779',\n",
       " '62812',\n",
       " '42465',\n",
       " '29152',\n",
       " '12391',\n",
       " '45166',\n",
       " '25157',\n",
       " '09948',\n",
       " '44800',\n",
       " '34185',\n",
       " '24721',\n",
       " '53630',\n",
       " '05775',\n",
       " '38070',\n",
       " '12887',\n",
       " '50658',\n",
       " '32928',\n",
       " '34736',\n",
       " '33739',\n",
       " '28878',\n",
       " '29938',\n",
       " '48980',\n",
       " '28964',\n",
       " '09981',\n",
       " '31599',\n",
       " '17958',\n",
       " '00043',\n",
       " '02876',\n",
       " '07845',\n",
       " '62532',\n",
       " '54471',\n",
       " '09326',\n",
       " '56344',\n",
       " '36039',\n",
       " '31216',\n",
       " '37362',\n",
       " '58681',\n",
       " '16930',\n",
       " '09138',\n",
       " '15165',\n",
       " '28575',\n",
       " '41298',\n",
       " '51872',\n",
       " '60705',\n",
       " '06190',\n",
       " '26051',\n",
       " '54568',\n",
       " '36887',\n",
       " '29961',\n",
       " '26922',\n",
       " '50623',\n",
       " '00095',\n",
       " '59546',\n",
       " '62386',\n",
       " '56883',\n",
       " '53538',\n",
       " '29473',\n",
       " '36057',\n",
       " '24801',\n",
       " '07874',\n",
       " '62576',\n",
       " '01856',\n",
       " '26913',\n",
       " '59717',\n",
       " '38759',\n",
       " '61108',\n",
       " '34400',\n",
       " '41340',\n",
       " '12444',\n",
       " '01725',\n",
       " '64604',\n",
       " '60249',\n",
       " '15575',\n",
       " '45058',\n",
       " '10047',\n",
       " '25849',\n",
       " '47234',\n",
       " '18579',\n",
       " '24728',\n",
       " '18112',\n",
       " '30481',\n",
       " '04881',\n",
       " '35469',\n",
       " '30881',\n",
       " '35758',\n",
       " '15764',\n",
       " '30044',\n",
       " '02178',\n",
       " '15072',\n",
       " '44471',\n",
       " '26034',\n",
       " '00251',\n",
       " '36554',\n",
       " '15438',\n",
       " '39643',\n",
       " '25119',\n",
       " '39935',\n",
       " '52723',\n",
       " '17664',\n",
       " '11902',\n",
       " '59447',\n",
       " '60350',\n",
       " '44238',\n",
       " '29447',\n",
       " '15917',\n",
       " '06266',\n",
       " '57798',\n",
       " '53976',\n",
       " '50654',\n",
       " '49744',\n",
       " '64295',\n",
       " '09616',\n",
       " '52969',\n",
       " '10233',\n",
       " '02171',\n",
       " '52618',\n",
       " '46602',\n",
       " '63902',\n",
       " '42219',\n",
       " '19706',\n",
       " '33794',\n",
       " '06658',\n",
       " '01432',\n",
       " '17215',\n",
       " '19044',\n",
       " '12439',\n",
       " '61675',\n",
       " '18229',\n",
       " '57567',\n",
       " '00133',\n",
       " '19998',\n",
       " '54502',\n",
       " '24210',\n",
       " '43528',\n",
       " '21620',\n",
       " '24252',\n",
       " '31371',\n",
       " '03298',\n",
       " '62232',\n",
       " '03371',\n",
       " '42213',\n",
       " '07725',\n",
       " '24636',\n",
       " '50045',\n",
       " '03731',\n",
       " '24608',\n",
       " '32166',\n",
       " '51382',\n",
       " '05387',\n",
       " '27268',\n",
       " '22670',\n",
       " '62249',\n",
       " '20429',\n",
       " '46402',\n",
       " '40610',\n",
       " '04070',\n",
       " '33135',\n",
       " '28605',\n",
       " '00230',\n",
       " '05291',\n",
       " '35782',\n",
       " '12482',\n",
       " '42307',\n",
       " '27186',\n",
       " '39266',\n",
       " '41133',\n",
       " '31056',\n",
       " '59952',\n",
       " '56539',\n",
       " '22280',\n",
       " '11938',\n",
       " '63496',\n",
       " '46692',\n",
       " '22699',\n",
       " '11468',\n",
       " '27398',\n",
       " '63450',\n",
       " '23375',\n",
       " '13491',\n",
       " '43391',\n",
       " '48005',\n",
       " '29463',\n",
       " '60518',\n",
       " '00692',\n",
       " '26560',\n",
       " '57680',\n",
       " '62631',\n",
       " '20420',\n",
       " '18116',\n",
       " '16414',\n",
       " '34247',\n",
       " '35868',\n",
       " '09063',\n",
       " '05888',\n",
       " '06183',\n",
       " '53077',\n",
       " '15509',\n",
       " '03133',\n",
       " '26934',\n",
       " '56203',\n",
       " '47773',\n",
       " '53791',\n",
       " '46180',\n",
       " '37000',\n",
       " '34079',\n",
       " '04317',\n",
       " '53222',\n",
       " '44640',\n",
       " '18346',\n",
       " '39317',\n",
       " '57333',\n",
       " '18095',\n",
       " '16322',\n",
       " '42955',\n",
       " '03646',\n",
       " '11165',\n",
       " '01122',\n",
       " '20948',\n",
       " '03098',\n",
       " '40024',\n",
       " '25624',\n",
       " '23815',\n",
       " '46974',\n",
       " '27327',\n",
       " '26196',\n",
       " '00082',\n",
       " '13225',\n",
       " '34510',\n",
       " '23470',\n",
       " '25422',\n",
       " '16666',\n",
       " '61878',\n",
       " '51927',\n",
       " '58461',\n",
       " '48361',\n",
       " '55641',\n",
       " '48675',\n",
       " '48149',\n",
       " '11196',\n",
       " '45496',\n",
       " '39096',\n",
       " '22530',\n",
       " '59271',\n",
       " '44074',\n",
       " '29700',\n",
       " '17317',\n",
       " '06099',\n",
       " '11658',\n",
       " '50387',\n",
       " '39249',\n",
       " '55716',\n",
       " '31379',\n",
       " '29164',\n",
       " '30377',\n",
       " '22740',\n",
       " '36071',\n",
       " '01162',\n",
       " '05665',\n",
       " '30694',\n",
       " '00294',\n",
       " '59613',\n",
       " '28292',\n",
       " '52759',\n",
       " '43273',\n",
       " '56911',\n",
       " '30411',\n",
       " '49649',\n",
       " '25445',\n",
       " '04976',\n",
       " '57962',\n",
       " '20939',\n",
       " '18571',\n",
       " '31955',\n",
       " '25687',\n",
       " '42107',\n",
       " '47134',\n",
       " '57521',\n",
       " '05227',\n",
       " '23890',\n",
       " '40023',\n",
       " '03950',\n",
       " '54343',\n",
       " '64560',\n",
       " '40566',\n",
       " '09810',\n",
       " '02456',\n",
       " '62659',\n",
       " '40724',\n",
       " '10467',\n",
       " '41568',\n",
       " '24695',\n",
       " '41899',\n",
       " '37441',\n",
       " '26896',\n",
       " '53686',\n",
       " '28133',\n",
       " '49444',\n",
       " '06060',\n",
       " '37870',\n",
       " '56824',\n",
       " '57229',\n",
       " '51082',\n",
       " '23061',\n",
       " '55525',\n",
       " '41402',\n",
       " '61523',\n",
       " '20702',\n",
       " '56263',\n",
       " '47993',\n",
       " '13952',\n",
       " '14854',\n",
       " '61564',\n",
       " '21503',\n",
       " '48499',\n",
       " '33961',\n",
       " '62731',\n",
       " '43726',\n",
       " '24027',\n",
       " '30653',\n",
       " '27329',\n",
       " '10521',\n",
       " '04767',\n",
       " '45453',\n",
       " '54888',\n",
       " '22668',\n",
       " '29713',\n",
       " '26312',\n",
       " '50340',\n",
       " '49690',\n",
       " '04680',\n",
       " '25330',\n",
       " '63210',\n",
       " '27188',\n",
       " '53160',\n",
       " '38554',\n",
       " '63244',\n",
       " '60079',\n",
       " '41178',\n",
       " '05821',\n",
       " '39843',\n",
       " '49359',\n",
       " '21803',\n",
       " '05504',\n",
       " '43270',\n",
       " '58324',\n",
       " '08039',\n",
       " '50439',\n",
       " '35493',\n",
       " '38655',\n",
       " '58143',\n",
       " '61126',\n",
       " '33283',\n",
       " '15746',\n",
       " '40828',\n",
       " '15732',\n",
       " '63894',\n",
       " '14868',\n",
       " '37073',\n",
       " '55522',\n",
       " '13464',\n",
       " '23640',\n",
       " '64664',\n",
       " '46745',\n",
       " '43320',\n",
       " '32500',\n",
       " '41215',\n",
       " '01597',\n",
       " '56571',\n",
       " '51638',\n",
       " '17685',\n",
       " '36462',\n",
       " '35733',\n",
       " '50293',\n",
       " '25292',\n",
       " '28582',\n",
       " '59371',\n",
       " '05969',\n",
       " '23167',\n",
       " '25473',\n",
       " '20379',\n",
       " '03260',\n",
       " '07754',\n",
       " '46944',\n",
       " '08726',\n",
       " '09471',\n",
       " '01435',\n",
       " '50154',\n",
       " '28938',\n",
       " '34955',\n",
       " '06155',\n",
       " '63109',\n",
       " '41323',\n",
       " '49113',\n",
       " '58015',\n",
       " '15690',\n",
       " '18988',\n",
       " '32717',\n",
       " '25613',\n",
       " '42377',\n",
       " '62179',\n",
       " '62813',\n",
       " '49755',\n",
       " '01927',\n",
       " '42967',\n",
       " '49153',\n",
       " '22949',\n",
       " '10686',\n",
       " '19256',\n",
       " '47326',\n",
       " '48117',\n",
       " '00175',\n",
       " '20783',\n",
       " '22203',\n",
       " '58091',\n",
       " '52440',\n",
       " '54233',\n",
       " '49695',\n",
       " '23114',\n",
       " '61812',\n",
       " '08969',\n",
       " '06260',\n",
       " '46997',\n",
       " '16691',\n",
       " '05527',\n",
       " '26306',\n",
       " '55758',\n",
       " '37780',\n",
       " '50822',\n",
       " '55847',\n",
       " '31754',\n",
       " '51493',\n",
       " '38677',\n",
       " '24116',\n",
       " '11634',\n",
       " '08959',\n",
       " '01521',\n",
       " '54910',\n",
       " '55131',\n",
       " '00331',\n",
       " '27450',\n",
       " '36278',\n",
       " '17253',\n",
       " '23855',\n",
       " '49183',\n",
       " '49856',\n",
       " '22850',\n",
       " '22705',\n",
       " '57708',\n",
       " '48643',\n",
       " '32021',\n",
       " '61131',\n",
       " '34170',\n",
       " '60967',\n",
       " '15225',\n",
       " '58083',\n",
       " '53316',\n",
       " '31356',\n",
       " '07653',\n",
       " '02621',\n",
       " '18441',\n",
       " '63203',\n",
       " '11644',\n",
       " '52527',\n",
       " '49288',\n",
       " '23203',\n",
       " '37235',\n",
       " '23080',\n",
       " '07245',\n",
       " '59110',\n",
       " '49635',\n",
       " '10943',\n",
       " '09613',\n",
       " '08339',\n",
       " '57933',\n",
       " '54807',\n",
       " '10753',\n",
       " '28782',\n",
       " '32061',\n",
       " '19734',\n",
       " '11893',\n",
       " '09087',\n",
       " '19145',\n",
       " '25973',\n",
       " '01309',\n",
       " '46572',\n",
       " '29573',\n",
       " '59562',\n",
       " '55687',\n",
       " '02540',\n",
       " '08152',\n",
       " '06730',\n",
       " '40158',\n",
       " '49586',\n",
       " '34786',\n",
       " '33676',\n",
       " '28720',\n",
       " '32262',\n",
       " '16668',\n",
       " '40048',\n",
       " '18564',\n",
       " '29886',\n",
       " '07229',\n",
       " '04883',\n",
       " '24849',\n",
       " '05055',\n",
       " '03368',\n",
       " '21782',\n",
       " '37981',\n",
       " '37157',\n",
       " '61507',\n",
       " '38222',\n",
       " '36102',\n",
       " '17395',\n",
       " '28214',\n",
       " '20163',\n",
       " '54586',\n",
       " '32748',\n",
       " '45201',\n",
       " '39086',\n",
       " '14173',\n",
       " '15115',\n",
       " '11272',\n",
       " '11157',\n",
       " '56252',\n",
       " '35488',\n",
       " '32789',\n",
       " '64727',\n",
       " '56197',\n",
       " '04813',\n",
       " '51689',\n",
       " '42707',\n",
       " '21017',\n",
       " '20137',\n",
       " '64011',\n",
       " '32783',\n",
       " '05501',\n",
       " '06264',\n",
       " '06321',\n",
       " '00480',\n",
       " '10359',\n",
       " '05886',\n",
       " '45547',\n",
       " '15229',\n",
       " '28941',\n",
       " '13381',\n",
       " '62856',\n",
       " '51812',\n",
       " '60472',\n",
       " '40187',\n",
       " '37347',\n",
       " '57650',\n",
       " '35245',\n",
       " '05034',\n",
       " '31195',\n",
       " '44844',\n",
       " '20359',\n",
       " '56592',\n",
       " '36062',\n",
       " '36637',\n",
       " '13618',\n",
       " '42586',\n",
       " '57953',\n",
       " '20624',\n",
       " '09751',\n",
       " '23325',\n",
       " '63254',\n",
       " '17051',\n",
       " '62385',\n",
       " '27267',\n",
       " '34475',\n",
       " '11584',\n",
       " '07660',\n",
       " '13353',\n",
       " '09462',\n",
       " '36260',\n",
       " '30696',\n",
       " '09242',\n",
       " '52330',\n",
       " '20037',\n",
       " '13512',\n",
       " '53267',\n",
       " '55281',\n",
       " '42598',\n",
       " '51527',\n",
       " '09667',\n",
       " '63164',\n",
       " '39446',\n",
       " '58070',\n",
       " '26140',\n",
       " '49727',\n",
       " '03513',\n",
       " '40502',\n",
       " '03124',\n",
       " '38023',\n",
       " '34801',\n",
       " '09890',\n",
       " '61123',\n",
       " '08992',\n",
       " '33049',\n",
       " '56814',\n",
       " '29877',\n",
       " '43877',\n",
       " '46932',\n",
       " '22346',\n",
       " '08659',\n",
       " '57907',\n",
       " '42766',\n",
       " '31637',\n",
       " '20591',\n",
       " '62513',\n",
       " '61571',\n",
       " '42963',\n",
       " '24311',\n",
       " '12008',\n",
       " '17622',\n",
       " '40761',\n",
       " '35386',\n",
       " '18635',\n",
       " '24769',\n",
       " '41460',\n",
       " '49285',\n",
       " '22426',\n",
       " '05053',\n",
       " '15538',\n",
       " '43856',\n",
       " '25873',\n",
       " '36314',\n",
       " '20573',\n",
       " '58571',\n",
       " '23563',\n",
       " '61912',\n",
       " '08443',\n",
       " '17694',\n",
       " '34903',\n",
       " '27118',\n",
       " '50371',\n",
       " '38562',\n",
       " '38601',\n",
       " '28078',\n",
       " '57568',\n",
       " '16752',\n",
       " '39694',\n",
       " '27016',\n",
       " '39851',\n",
       " '22806',\n",
       " '37186',\n",
       " '49500',\n",
       " '13475',\n",
       " '05766',\n",
       " '43317',\n",
       " '37019',\n",
       " '52145',\n",
       " '53658',\n",
       " '64455',\n",
       " '44058',\n",
       " '42765',\n",
       " '34417',\n",
       " '52626',\n",
       " '31690',\n",
       " '19597',\n",
       " '26491',\n",
       " '16396',\n",
       " '54520',\n",
       " '42290',\n",
       " '37020',\n",
       " '55330',\n",
       " '30172',\n",
       " '46874',\n",
       " '00523',\n",
       " '12322',\n",
       " '13806',\n",
       " '22812',\n",
       " '54336',\n",
       " '01799',\n",
       " '26117',\n",
       " '07850',\n",
       " '15802',\n",
       " '26275',\n",
       " '63197',\n",
       " '63559',\n",
       " '58219',\n",
       " '16914',\n",
       " '40668',\n",
       " '41379',\n",
       " '36622',\n",
       " '45776',\n",
       " '40900',\n",
       " '52604',\n",
       " '57610',\n",
       " '06337',\n",
       " '59076',\n",
       " '38633',\n",
       " '59007',\n",
       " '16232',\n",
       " '39902',\n",
       " '20614',\n",
       " '41098',\n",
       " '29568',\n",
       " '14755',\n",
       " '31399',\n",
       " '16803',\n",
       " '08795',\n",
       " '11770',\n",
       " '00114',\n",
       " '08839',\n",
       " '44258',\n",
       " '19139',\n",
       " '28846',\n",
       " '41769',\n",
       " '04116',\n",
       " '23966',\n",
       " '39038',\n",
       " '28538',\n",
       " '49159',\n",
       " '32643',\n",
       " '10640',\n",
       " '15665',\n",
       " '64517',\n",
       " '49313',\n",
       " '33951',\n",
       " '51604',\n",
       " '03046',\n",
       " '51928',\n",
       " '31667',\n",
       " '05390',\n",
       " '03905',\n",
       " '03373',\n",
       " '55123',\n",
       " '25440',\n",
       " '28709',\n",
       " '15776',\n",
       " '29292',\n",
       " '38276',\n",
       " '30968',\n",
       " '14007',\n",
       " '18940',\n",
       " '38128',\n",
       " '53021',\n",
       " '03069',\n",
       " '30748',\n",
       " '20790',\n",
       " ...}"
      ]
     },
     "execution_count": 49,
     "metadata": {},
     "output_type": "execute_result"
    }
   ],
   "source": [
    "patient_id_set"
   ]
  },
  {
   "cell_type": "code",
   "execution_count": 56,
   "metadata": {},
   "outputs": [
    {
     "data": {
      "text/plain": [
       "array(['00001', '00002', '00003', ..., '64738', '64739', '64740'],\n",
       "      dtype='<U5')"
      ]
     },
     "execution_count": 56,
     "metadata": {},
     "output_type": "execute_result"
    }
   ],
   "source": [
    "patient_id"
   ]
  },
  {
   "cell_type": "code",
   "execution_count": 57,
   "metadata": {},
   "outputs": [
    {
     "data": {
      "text/plain": [
       "set()"
      ]
     },
     "execution_count": 57,
     "metadata": {},
     "output_type": "execute_result"
    }
   ],
   "source": [
    "patient_id_set - set(patient_id)"
   ]
  },
  {
   "cell_type": "code",
   "execution_count": 34,
   "metadata": {},
   "outputs": [
    {
     "data": {
      "text/plain": [
       "{'patient04528/study1': ['train/patient04528/study1/view2_lateral.png',\n",
       "  'train/patient04528/study1/view1_frontal.png'],\n",
       " 'patient11162/study3': ['train/patient11162/study3/view1_frontal.png'],\n",
       " 'patient11162/study5': ['train/patient11162/study5/view1_frontal.png',\n",
       "  'train/patient11162/study5/view2_lateral.png'],\n",
       " 'patient11162/study1': ['train/patient11162/study1/view1_frontal.png'],\n",
       " 'patient11162/study4': ['train/patient11162/study4/view2_lateral.png',\n",
       "  'train/patient11162/study4/view1_frontal.png'],\n",
       " 'patient11162/study6': ['train/patient11162/study6/view1_frontal.png',\n",
       "  'train/patient11162/study6/view2_lateral.png'],\n",
       " 'patient11162/study2': ['train/patient11162/study2/view1_frontal.png']}"
      ]
     },
     "execution_count": 34,
     "metadata": {},
     "output_type": "execute_result"
    }
   ],
   "source": [
    "img_dict"
   ]
  },
  {
   "cell_type": "code",
   "execution_count": 35,
   "metadata": {},
   "outputs": [
    {
     "data": {
      "text/plain": [
       "{'patient04528/study1': ['Unchanged position of the left upper extremity picc line. Again seen are surgical clips projecting over the right hemithorax. The cardiomediastinal silhouette is stable in appearance. Increased stranding opacities are noted in the left retrocardiac region. Subtle stranding opacities in the right upper lung zone are unchanged. There are no pleural or significant bony abnormalities. Absence of the right breast shadow compatible with prior mastectomy.',\n",
       "  '1. Interval development of a band of increased linear stranding opacities in the left retrocardiac region. Although this may represent subsegmental atelectasis, an early or developing consolidation could have similar appearance. Recommend clinical correlation.'],\n",
       " 'patient11162/study3': ['There is redemonstration of right internal jugular central venousline, right internal jugular sheath, two mediastinal drains,sternotomy wires, and mediastinal surgical clips. Lung volumeshave increased compared with the prior examination. There isdecreased pulmonary edema and decreased bibasilar atelectasis. Small bilateral effusions persist. There is also decreased softtissue edema.',\n",
       "  'Improved lung volumes with decreased bibasilar atelectasis, as wellas decreased pulmonary edema.'],\n",
       " 'patient11162/study5': ['Persistent small bilateral pleural effusions. The lefteffusion is slightly greater when compared to the prior exam. Lungs are clear. Stable cardiomediastinal silhouette. Calcifications are again seen in the right suprahilar region, whichmay represent calcified lymph nodes or post surgical change. Bonesare stable with mild degenerative changes of the spine. Sternotomywires are unchanged.',\n",
       "  'Slight interval increase in left pleural effusion. Otherwise, nosignificant interval change.'],\n",
       " 'patient11162/study1': ['[NF]',\n",
       "  '1. There is a right pleural effusion. There is a left anteriorchest wall aicd. There is no pneumothorax.'],\n",
       " 'patient11162/study4': ['[NF]',\n",
       "  'Stable postoperative appearance of the mediastinum. Bilateral tinypleural effusions or pleural thickening persist. No pulmonaryedema. The lungs are clear.'],\n",
       " 'patient11162/study6': ['[NF]',\n",
       "  '1. Stable post-surgical thorax with median sternotomy wires andsurgical clips overlying the left hilum. Dense calcifications areseen projecting over the right hilum. These may be related tounderlying calcified lymph nodes. 2. Stable small right pleural effusion. The lungs are otherwisegrossly clear. 3. Stable cardiomediastinal silhouette.'],\n",
       " 'patient11162/study2': ['[NF]',\n",
       "  '1. Interval extubation and removal of nasogastric tube. Othersupporting devices are unchanged. Lung volumes are lower withpossibly mild pulmonary edema but no significant focal opacity andno pneumothorax. Gastric distention of a mild degree is noted.']}"
      ]
     },
     "execution_count": 35,
     "metadata": {},
     "output_type": "execute_result"
    }
   ],
   "source": [
    "text_dict"
   ]
  },
  {
   "cell_type": "code",
   "execution_count": 24,
   "metadata": {},
   "outputs": [
    {
     "data": {
      "text/plain": [
       "'STABLE POSTOPERATIVE APPEARANCE OF THE MEDIASTINUM. BILATERAL TINYPLEURAL EFFUSIONS OR PLEURAL THICKENING PERSIST. NO PULMONARYEDEMA. THE LUNGS ARE CLEAR.'"
      ]
     },
     "execution_count": 24,
     "metadata": {},
     "output_type": "execute_result"
    }
   ],
   "source": [
    "text_dict['patient11162/study4'][1]"
   ]
  },
  {
   "cell_type": "code",
   "execution_count": 27,
   "metadata": {},
   "outputs": [
    {
     "data": {
      "text/plain": [
       "['STABLE POSTOPERATIVE APPEARANCE OF THE MEDIASTINUM',\n",
       " ' BILATERAL TINYPLEURAL EFFUSIONS OR PLEURAL THICKENING PERSIST',\n",
       " ' NO PULMONARYEDEMA',\n",
       " ' THE LUNGS ARE CLEAR',\n",
       " '']"
      ]
     },
     "execution_count": 27,
     "metadata": {},
     "output_type": "execute_result"
    }
   ],
   "source": [
    "text_dict['patient11162/study4'][1].split('.')"
   ]
  },
  {
   "cell_type": "code",
   "execution_count": 31,
   "metadata": {},
   "outputs": [
    {
     "data": {
      "text/plain": [
       "'Stable postoperative appearance of the mediastinum. Bilateral tinypleural effusions or pleural thickening persist. No pulmonaryedema. The lungs are clear.'"
      ]
     },
     "execution_count": 31,
     "metadata": {},
     "output_type": "execute_result"
    }
   ],
   "source": [
    "'. '.join([s.strip().capitalize() for s in text_dict['patient11162/study4'][1].split('.')]).strip()"
   ]
  },
  {
   "cell_type": "code",
   "execution_count": 79,
   "metadata": {},
   "outputs": [
    {
     "data": {
      "text/plain": [
       "'train/patient04528/study1/view2_lateral.jpg'"
      ]
     },
     "execution_count": 79,
     "metadata": {},
     "output_type": "execute_result"
    }
   ],
   "source": [
    "df.iloc[0]['path_to_image']"
   ]
  },
  {
   "cell_type": "code",
   "execution_count": 68,
   "metadata": {},
   "outputs": [
    {
     "name": "stdout",
     "output_type": "stream",
     "text": [
      "\n",
      "IMPROVED LUNG VOLUMES WITH DECREASED BIBASILAR ATELECTASIS, AS WELL\n",
      "AS DECREASED PULMONARY EDEMA.\n",
      "\n"
     ]
    }
   ],
   "source": [
    "print(df.iloc[2]['section_impression'])"
   ]
  },
  {
   "cell_type": "code",
   "execution_count": 69,
   "metadata": {},
   "outputs": [
    {
     "name": "stdout",
     "output_type": "stream",
     "text": [
      "\n",
      "SLIGHT INTERVAL INCREASE IN LEFT PLEURAL EFFUSION. OTHERWISE, NO\n",
      "SIGNIFICANT INTERVAL CHANGE.\n",
      "\n"
     ]
    }
   ],
   "source": [
    "print(df.iloc[3]['section_impression'])"
   ]
  },
  {
   "cell_type": "code",
   "execution_count": 70,
   "metadata": {},
   "outputs": [
    {
     "name": "stdout",
     "output_type": "stream",
     "text": [
      "\n",
      "SLIGHT INTERVAL INCREASE IN LEFT PLEURAL EFFUSION. OTHERWISE, NO\n",
      "SIGNIFICANT INTERVAL CHANGE.\n",
      "\n"
     ]
    }
   ],
   "source": [
    "print(df.iloc[4]['section_impression'])"
   ]
  },
  {
   "cell_type": "code",
   "execution_count": 91,
   "metadata": {},
   "outputs": [],
   "source": [
    "class CheXpertGenDataset(Dataset):\n",
    "    def __init__(self, root_dir, patient_id_set, transform):\n",
    "        \"\"\"\n",
    "        Args:\n",
    "            root_dir (str): Path to the parent directory containing subdirectories (e.g., 'label_folder').\n",
    "            transform (callable, optional): Optional transform to be applied on an image.\n",
    "            mode (str): Either \"train\" or \"valid\" to select the correct folder.\n",
    "        \"\"\"\n",
    "        self.root = root_dir\n",
    "        self.imgs_path = os.path.join(self.root, 'PNG')\n",
    "        self.img_folders = [folder for folder in os.listdir(self.imgs_path) if splitext(folder)[1] == '']\n",
    "\n",
    "        self.label_path = os.path.join(self.root, 'df_chexpert_plus_240401.csv')\n",
    "        # load a dataframe of image paths and radiologist report texts\n",
    "        self.chexpert_df = pd.read_csv(self.label_path)\n",
    "\n",
    "        self.patient_id_study_num_set = set()\n",
    "        self.patient_id_study_num_list = []\n",
    "        self.img_dict = {}\n",
    "        self.text_dict = {}\n",
    "        self.img_value_exception = 'train/patient32368/study1/view1_frontal.jpg'\n",
    "        self.transform = transform\n",
    "\n",
    "        for idx in tqdm(range(len(self.chexpert_df))):\n",
    "            img_value = self.chexpert_df.iloc[idx]['path_to_image']\n",
    "            if img_value != self.img_value_exception:\n",
    "                img_value_list = splitext(img_value)[0].split('/')\n",
    "                for folder in self.img_folders:\n",
    "                    img_subfolder_path = os.path.join(os.path.join(self.imgs_path, folder), 'PNG')\n",
    "                    img_path_temp = os.path.join(img_subfolder_path, '/'.join(img_value_list) + '.png')\n",
    "                    if os.path.exists(img_path_temp):\n",
    "                        img_path = img_path_temp\n",
    "\n",
    "                patient_id = img_value_list[1][7:]\n",
    "                study_num = img_value_list[2]\n",
    "                if patient_id in patient_id_set:\n",
    "                    patient_id_study_num = f'patient{patient_id}/{study_num}'\n",
    "                    self.patient_id_study_num_set.add(patient_id_study_num)\n",
    "\n",
    "                    if patient_id_study_num not in self.img_dict:\n",
    "                        # add list of images to the same study of a patient\n",
    "                        img_paths_list = [img_path]\n",
    "                        self.img_dict[patient_id_study_num] = img_paths_list\n",
    "\n",
    "                        # add findings and impression texts to a list\n",
    "                        section_reports_dict = {}\n",
    "                        section_findings = self.chexpert_df.iloc[idx]['section_findings']\n",
    "                        if isinstance(section_findings, str) and len(section_findings.split()) >= 2:\n",
    "                            section_findings = section_findings.strip().replace('\\n', '').replace('..', '.') # strips mostly '\\n'\n",
    "                            section_findings = '. '.join([s.strip().capitalize() for s in section_findings.split('.')]).strip() # lower caps\n",
    "                            section_reports_dict['findings'] = section_findings\n",
    "                        else:\n",
    "                            section_reports_dict['findings'] = '[NF]'\n",
    "                        section_impression = self.chexpert_df.iloc[idx]['section_impression']\n",
    "                        if isinstance(section_impression, str) and len(section_impression.split()) >= 2:\n",
    "                            section_impression = section_impression.strip().replace('\\n', '').replace('..', '.') # strips mostly '\\n'\n",
    "                            section_impression = '. '.join([s.strip().capitalize() for s in section_impression.split('.')]).strip() # lower caps\n",
    "                            section_reports_dict['impression'] = section_impression\n",
    "                        else:\n",
    "                            section_reports_dict['impression'] = '[NI]'\n",
    "                        self.text_dict[patient_id_study_num] = section_reports_dict\n",
    "                    else:\n",
    "                        self.img_dict[patient_id_study_num].append(img_path)\n",
    "        self.patient_id_study_num_list = list(self.patient_id_study_num_set)\n",
    "\n",
    "    def __len__(self):\n",
    "        assert len(self.img_dict) == len(self.text_dict)\n",
    "        assert len(self.patient_id_study_num_list) == len(self.img_dict)\n",
    "        return len(self.img_dict)\n",
    "\n",
    "    def __getitem__(self, idx):\n",
    "        item = {}\n",
    "        # open images and transform to tensor\n",
    "        patient_id_study_num = self.patient_id_study_num_list[idx]\n",
    "        img_paths = self.img_dict[patient_id_study_num]\n",
    "        img_list = []\n",
    "        for img_path in img_paths:\n",
    "            img = Image.open(img_path).convert(\"RGB\")  # convert to RGB\n",
    "            img = self.transform(img)\n",
    "            img = img.to(torch.float32)\n",
    "            img_list.append(img)\n",
    "        img = torch.stack(img_list, dim=0)\n",
    "        item['images'] = img\n",
    "        item['findings'] = self.text_dict[patient_id_study_num]['findings']\n",
    "        item['impression'] = self.text_dict[patient_id_study_num]['impression']\n",
    "        return item"
   ]
  },
  {
   "cell_type": "code",
   "execution_count": 4,
   "metadata": {},
   "outputs": [
    {
     "data": {
      "application/vnd.jupyter.widget-view+json": {
       "model_id": "cacccd04dbc148f5a9021056c5e5776a",
       "version_major": 2,
       "version_minor": 0
      },
      "text/plain": [
       "  0%|          | 0/223462 [00:00<?, ?it/s]"
      ]
     },
     "metadata": {},
     "output_type": "display_data"
    }
   ],
   "source": [
    "chexpert_dataset = CheXpertGenDataset(root_dir=data_folder, patient_id_set=patient_id_set, transform=ResNet152_Weights.DEFAULT.transforms())"
   ]
  },
  {
   "cell_type": "code",
   "execution_count": 5,
   "metadata": {},
   "outputs": [
    {
     "data": {
      "text/plain": [
       "7"
      ]
     },
     "execution_count": 5,
     "metadata": {},
     "output_type": "execute_result"
    }
   ],
   "source": [
    "len(chexpert_dataset)"
   ]
  },
  {
   "cell_type": "code",
   "execution_count": 6,
   "metadata": {},
   "outputs": [
    {
     "data": {
      "text/plain": [
       "['patient11162/study1',\n",
       " 'patient11162/study6',\n",
       " 'patient11162/study2',\n",
       " 'patient11162/study4',\n",
       " 'patient11162/study3',\n",
       " 'patient11162/study5',\n",
       " 'patient04528/study1']"
      ]
     },
     "execution_count": 6,
     "metadata": {},
     "output_type": "execute_result"
    }
   ],
   "source": [
    "chexpert_dataset.patient_id_study_num_list"
   ]
  },
  {
   "cell_type": "code",
   "execution_count": 94,
   "metadata": {},
   "outputs": [
    {
     "data": {
      "text/plain": [
       "torch.Size([2, 3, 224, 224])"
      ]
     },
     "execution_count": 94,
     "metadata": {},
     "output_type": "execute_result"
    }
   ],
   "source": [
    "chexpert_dataset[0]['images'].shape"
   ]
  },
  {
   "cell_type": "code",
   "execution_count": 95,
   "metadata": {},
   "outputs": [
    {
     "data": {
      "text/plain": [
       "'Unchanged position of the left upper extremity picc line. Again seen are surgical clips projecting over the right hemithorax. The cardiomediastinal silhouette is stable in appearance. Increased stranding opacities are noted in the left retrocardiac region. Subtle stranding opacities in the right upper lung zone are unchanged. There are no pleural or significant bony abnormalities. Absence of the right breast shadow compatible with prior mastectomy.'"
      ]
     },
     "execution_count": 95,
     "metadata": {},
     "output_type": "execute_result"
    }
   ],
   "source": [
    "chexpert_dataset[0]['findings']"
   ]
  },
  {
   "cell_type": "code",
   "execution_count": 96,
   "metadata": {},
   "outputs": [
    {
     "data": {
      "text/plain": [
       "'1. Interval development of a band of increased linear stranding opacities in the left retrocardiac region. Although this may represent subsegmental atelectasis, an early or developing consolidation could have similar appearance. Recommend clinical correlation.'"
      ]
     },
     "execution_count": 96,
     "metadata": {},
     "output_type": "execute_result"
    }
   ],
   "source": [
    "chexpert_dataset[0]['impression']"
   ]
  },
  {
   "cell_type": "code",
   "execution_count": 86,
   "metadata": {},
   "outputs": [
    {
     "data": {
      "text/plain": [
       "'patient11162/study1'"
      ]
     },
     "execution_count": 86,
     "metadata": {},
     "output_type": "execute_result"
    }
   ],
   "source": [
    "chexpert_dataset.patient_id_study_num_list[3]"
   ]
  },
  {
   "cell_type": "code",
   "execution_count": 87,
   "metadata": {},
   "outputs": [],
   "source": [
    "img, text = chexpert_dataset[3]"
   ]
  },
  {
   "cell_type": "code",
   "execution_count": 88,
   "metadata": {},
   "outputs": [
    {
     "data": {
      "text/plain": [
       "torch.Tensor"
      ]
     },
     "execution_count": 88,
     "metadata": {},
     "output_type": "execute_result"
    }
   ],
   "source": [
    "type(img)"
   ]
  },
  {
   "cell_type": "code",
   "execution_count": 89,
   "metadata": {},
   "outputs": [
    {
     "data": {
      "text/plain": [
       "torch.Size([1, 3, 224, 224])"
      ]
     },
     "execution_count": 89,
     "metadata": {},
     "output_type": "execute_result"
    }
   ],
   "source": [
    "img.shape"
   ]
  },
  {
   "cell_type": "code",
   "execution_count": 90,
   "metadata": {},
   "outputs": [
    {
     "data": {
      "text/plain": [
       "['[NF]',\n",
       " '1. There is a right pleural effusion. There is a left anteriorchest wall aicd. There is no pneumothorax.']"
      ]
     },
     "execution_count": 90,
     "metadata": {},
     "output_type": "execute_result"
    }
   ],
   "source": [
    "text"
   ]
  },
  {
   "cell_type": "code",
   "execution_count": 77,
   "metadata": {},
   "outputs": [
    {
     "data": {
      "text/plain": [
       "7"
      ]
     },
     "execution_count": 77,
     "metadata": {},
     "output_type": "execute_result"
    }
   ],
   "source": [
    "len(chexpert_dataset)"
   ]
  },
  {
   "cell_type": "code",
   "execution_count": 56,
   "metadata": {},
   "outputs": [
    {
     "data": {
      "text/plain": [
       "{'patient04528/study1': ['../../../../../../../storage/ice1/shared/bmed6780/mip_group_2/CheXpert Plus/PNG/png_chexpert_plus_chunk_0/PNG/train/patient04528/study1/view2_lateral.png',\n",
       "  '../../../../../../../storage/ice1/shared/bmed6780/mip_group_2/CheXpert Plus/PNG/png_chexpert_plus_chunk_0/PNG/train/patient04528/study1/view1_frontal.png'],\n",
       " 'patient11162/study3': ['../../../../../../../storage/ice1/shared/bmed6780/mip_group_2/CheXpert Plus/PNG/png_chexpert_plus_chunk_0/PNG/train/patient11162/study3/view1_frontal.png'],\n",
       " 'patient11162/study5': ['../../../../../../../storage/ice1/shared/bmed6780/mip_group_2/CheXpert Plus/PNG/png_chexpert_plus_chunk_0/PNG/train/patient11162/study5/view1_frontal.png',\n",
       "  '../../../../../../../storage/ice1/shared/bmed6780/mip_group_2/CheXpert Plus/PNG/png_chexpert_plus_chunk_0/PNG/train/patient11162/study5/view2_lateral.png'],\n",
       " 'patient11162/study1': ['../../../../../../../storage/ice1/shared/bmed6780/mip_group_2/CheXpert Plus/PNG/png_chexpert_plus_chunk_0/PNG/train/patient11162/study1/view1_frontal.png'],\n",
       " 'patient11162/study4': ['../../../../../../../storage/ice1/shared/bmed6780/mip_group_2/CheXpert Plus/PNG/png_chexpert_plus_chunk_0/PNG/train/patient11162/study4/view2_lateral.png',\n",
       "  '../../../../../../../storage/ice1/shared/bmed6780/mip_group_2/CheXpert Plus/PNG/png_chexpert_plus_chunk_0/PNG/train/patient11162/study4/view1_frontal.png'],\n",
       " 'patient11162/study6': ['../../../../../../../storage/ice1/shared/bmed6780/mip_group_2/CheXpert Plus/PNG/png_chexpert_plus_chunk_0/PNG/train/patient11162/study6/view1_frontal.png',\n",
       "  '../../../../../../../storage/ice1/shared/bmed6780/mip_group_2/CheXpert Plus/PNG/png_chexpert_plus_chunk_0/PNG/train/patient11162/study6/view2_lateral.png'],\n",
       " 'patient11162/study2': ['../../../../../../../storage/ice1/shared/bmed6780/mip_group_2/CheXpert Plus/PNG/png_chexpert_plus_chunk_0/PNG/train/patient11162/study2/view1_frontal.png']}"
      ]
     },
     "execution_count": 56,
     "metadata": {},
     "output_type": "execute_result"
    }
   ],
   "source": [
    "chexpert_dataset.img_dict"
   ]
  },
  {
   "cell_type": "code",
   "execution_count": 50,
   "metadata": {},
   "outputs": [
    {
     "data": {
      "text/plain": [
       "{'patient04528/study1': ['Unchanged position of the left upper extremity picc line. Again seen are surgical clips projecting over the right hemithorax. The cardiomediastinal silhouette is stable in appearance. Increased stranding opacities are noted in the left retrocardiac region. Subtle stranding opacities in the right upper lung zone are unchanged. There are no pleural or significant bony abnormalities. Absence of the right breast shadow compatible with prior mastectomy.',\n",
       "  '1. Interval development of a band of increased linear stranding opacities in the left retrocardiac region. Although this may represent subsegmental atelectasis, an early or developing consolidation could have similar appearance. Recommend clinical correlation.'],\n",
       " 'patient11162/study3': ['There is redemonstration of right internal jugular central venousline, right internal jugular sheath, two mediastinal drains,sternotomy wires, and mediastinal surgical clips. Lung volumeshave increased compared with the prior examination. There isdecreased pulmonary edema and decreased bibasilar atelectasis. Small bilateral effusions persist. There is also decreased softtissue edema.',\n",
       "  'Improved lung volumes with decreased bibasilar atelectasis, as wellas decreased pulmonary edema.'],\n",
       " 'patient11162/study5': ['Persistent small bilateral pleural effusions. The lefteffusion is slightly greater when compared to the prior exam. Lungs are clear. Stable cardiomediastinal silhouette. Calcifications are again seen in the right suprahilar region, whichmay represent calcified lymph nodes or post surgical change. Bonesare stable with mild degenerative changes of the spine. Sternotomywires are unchanged.',\n",
       "  'Slight interval increase in left pleural effusion. Otherwise, nosignificant interval change.'],\n",
       " 'patient11162/study1': ['[NF]',\n",
       "  '1. There is a right pleural effusion. There is a left anteriorchest wall aicd. There is no pneumothorax.'],\n",
       " 'patient11162/study4': ['[NF]',\n",
       "  'Stable postoperative appearance of the mediastinum. Bilateral tinypleural effusions or pleural thickening persist. No pulmonaryedema. The lungs are clear.'],\n",
       " 'patient11162/study6': ['[NF]',\n",
       "  '1. Stable post-surgical thorax with median sternotomy wires andsurgical clips overlying the left hilum. Dense calcifications areseen projecting over the right hilum. These may be related tounderlying calcified lymph nodes. 2. Stable small right pleural effusion. The lungs are otherwisegrossly clear. 3. Stable cardiomediastinal silhouette.'],\n",
       " 'patient11162/study2': ['[NF]',\n",
       "  '1. Interval extubation and removal of nasogastric tube. Othersupporting devices are unchanged. Lung volumes are lower withpossibly mild pulmonary edema but no significant focal opacity andno pneumothorax. Gastric distention of a mild degree is noted.']}"
      ]
     },
     "execution_count": 50,
     "metadata": {},
     "output_type": "execute_result"
    }
   ],
   "source": [
    "chexpert_dataset.text_dict"
   ]
  },
  {
   "cell_type": "code",
   "execution_count": 45,
   "metadata": {},
   "outputs": [],
   "source": [
    "df = df_all[df_all['section_impression'].apply(lambda x: isinstance(x, str) and len(x.split()) < 2)]"
   ]
  },
  {
   "cell_type": "code",
   "execution_count": 46,
   "metadata": {},
   "outputs": [
    {
     "data": {
      "text/plain": [
       "4152                        \\n\n",
       "4164                        \\n\n",
       "16055     \\n \\n1.     \\n \\n \\n\n",
       "16059     \\n \\n1.     \\n \\n \\n\n",
       "19185                       \\n\n",
       "27279                       \\n\n",
       "33708                       \\n\n",
       "44285                       \\n\n",
       "44291                       \\n\n",
       "66881                       \\n\n",
       "66907                       \\n\n",
       "114158     \\n \\n1.CHF.\\n \\n \\n\n",
       "120915                   \\n \\n\n",
       "135342                      \\n\n",
       "135345                      \\n\n",
       "139264                      \\n\n",
       "148627              \\n \\nTHE\\n\n",
       "156421                      \\n\n",
       "156428                      \\n\n",
       "164813                      \\n\n",
       "172459                   \\n \\n\n",
       "198841                      \\n\n",
       "202708                      \\n\n",
       "209671                      \\n\n",
       "223099                      \\n\n",
       "Name: section_impression, dtype: object"
      ]
     },
     "execution_count": 46,
     "metadata": {},
     "output_type": "execute_result"
    }
   ],
   "source": [
    "df['section_impression']"
   ]
  },
  {
   "cell_type": "code",
   "execution_count": 36,
   "metadata": {},
   "outputs": [
    {
     "data": {
      "text/plain": [
       "25"
      ]
     },
     "execution_count": 36,
     "metadata": {},
     "output_type": "execute_result"
    }
   ],
   "source": [
    "len(df)"
   ]
  },
  {
   "cell_type": "code",
   "execution_count": null,
   "metadata": {},
   "outputs": [],
   "source": [
    "df = df[df['section_impression'].apply(lambda x: isinstance(x, str) and len(x.split()) >= 2)]"
   ]
  },
  {
   "cell_type": "code",
   "execution_count": 27,
   "metadata": {},
   "outputs": [],
   "source": [
    "df = df[df['section_impression'].apply(lambda x: isinstance(x, str))]"
   ]
  },
  {
   "cell_type": "code",
   "execution_count": 28,
   "metadata": {},
   "outputs": [
    {
     "data": {
      "text/plain": [
       "223317"
      ]
     },
     "execution_count": 28,
     "metadata": {},
     "output_type": "execute_result"
    }
   ],
   "source": [
    "len(df)"
   ]
  },
  {
   "cell_type": "code",
   "execution_count": 8,
   "metadata": {},
   "outputs": [
    {
     "data": {
      "text/plain": [
       "0                                                       NaN\n",
       "1                                                       NaN\n",
       "2                                                       NaN\n",
       "3                                                       NaN\n",
       "4                                                       NaN\n",
       "                                ...                        \n",
       "223457    \\n \\nUnchanged right internal jugular venous c...\n",
       "223458                                                  NaN\n",
       "223459                                                  NaN\n",
       "223460                                                  NaN\n",
       "223461                                                  NaN\n",
       "Name: section_findings, Length: 223462, dtype: object"
      ]
     },
     "execution_count": 8,
     "metadata": {},
     "output_type": "execute_result"
    }
   ],
   "source": [
    "df['section_findings']"
   ]
  },
  {
   "cell_type": "code",
   "execution_count": 56,
   "metadata": {},
   "outputs": [],
   "source": [
    "df = df_all[df_all['section_findings'].apply(lambda x: isinstance(x, str) and len(x.split()) >= 2)]"
   ]
  },
  {
   "cell_type": "code",
   "execution_count": 57,
   "metadata": {},
   "outputs": [
    {
     "data": {
      "text/plain": [
       "8         \\n \\nUnchanged position of the left upper extr...\n",
       "9         \\n \\nUnchanged position of the left upper extr...\n",
       "15        \\nThere is redemonstration of right internal j...\n",
       "16         Persistent small bilateral pleural effusions....\n",
       "20         Persistent small bilateral pleural effusions....\n",
       "                                ...                        \n",
       "223444    \\n \\nThere is complete consolidation of the ri...\n",
       "223449    \\nLow lung volumes. Probable small left pleura...\n",
       "223454       The initial examination 6/29/2009 at 1747 d...\n",
       "223456     Portable upright frontal chest radiograph dem...\n",
       "223457    \\n \\nUnchanged right internal jugular venous c...\n",
       "Name: section_findings, Length: 57805, dtype: object"
      ]
     },
     "execution_count": 57,
     "metadata": {},
     "output_type": "execute_result"
    }
   ],
   "source": [
    "df['section_findings']"
   ]
  },
  {
   "cell_type": "code",
   "execution_count": 58,
   "metadata": {},
   "outputs": [
    {
     "data": {
      "text/plain": [
       "57805"
      ]
     },
     "execution_count": 58,
     "metadata": {},
     "output_type": "execute_result"
    }
   ],
   "source": [
    "len(df)"
   ]
  },
  {
   "cell_type": "code",
   "execution_count": 82,
   "metadata": {},
   "outputs": [],
   "source": [
    "df = df_all[df_all['section_findings'].apply(lambda x: isinstance(x, str))]\n",
    "\n",
    "# path2 = os.path.join(data_folder,'radgraph-XL-annotations')"
   ]
  },
  {
   "cell_type": "code",
   "execution_count": 83,
   "metadata": {},
   "outputs": [
    {
     "data": {
      "text/plain": [
       "59469"
      ]
     },
     "execution_count": 83,
     "metadata": {},
     "output_type": "execute_result"
    }
   ],
   "source": [
    "len(df)"
   ]
  },
  {
   "cell_type": "code",
   "execution_count": 84,
   "metadata": {},
   "outputs": [],
   "source": [
    "df = df[df['section_findings'].apply(lambda x: isinstance(x, str))]"
   ]
  },
  {
   "cell_type": "code",
   "execution_count": 85,
   "metadata": {},
   "outputs": [
    {
     "data": {
      "text/plain": [
       "59469"
      ]
     },
     "execution_count": 85,
     "metadata": {},
     "output_type": "execute_result"
    }
   ],
   "source": [
    "len(df)"
   ]
  },
  {
   "cell_type": "code",
   "execution_count": 86,
   "metadata": {},
   "outputs": [
    {
     "data": {
      "text/plain": [
       "'\\n \\nUnchanged position of the left upper extremity PICC line. Again seen \\nare surgical clips projecting over the right hemithorax. The \\ncardiomediastinal silhouette is stable in appearance. Increased \\nstranding opacities are noted in the left retrocardiac region. Subtle \\nstranding opacities in the right upper lung zone are unchanged.. \\nThere are no pleural or significant bony abnormalities. Absence of \\nthe right breast shadow compatible with prior mastectomy.\\n \\n'"
      ]
     },
     "execution_count": 86,
     "metadata": {},
     "output_type": "execute_result"
    }
   ],
   "source": [
    "df['section_findings'].iloc[0]"
   ]
  },
  {
   "cell_type": "code",
   "execution_count": 35,
   "metadata": {},
   "outputs": [
    {
     "data": {
      "text/plain": [
       "'Unchanged position of the left upper extremity PICC line. Again seen are surgical clips projecting over the right hemithorax. The cardiomediastinal silhouette is stable in appearance. Increased stranding opacities are noted in the left retrocardiac region. Subtle stranding opacities in the right upper lung zone are unchanged. There are no pleural or significant bony abnormalities. Absence of the right breast shadow compatible with prior mastectomy.'"
      ]
     },
     "execution_count": 35,
     "metadata": {},
     "output_type": "execute_result"
    }
   ],
   "source": [
    "df['section_findings'].iloc[0].strip().replace('\\n', '').replace('..', '.')"
   ]
  },
  {
   "cell_type": "code",
   "execution_count": 22,
   "metadata": {},
   "outputs": [
    {
     "name": "stdout",
     "output_type": "stream",
     "text": [
      "\n",
      " \n",
      "Unchanged position of the left upper extremity PICC line. Again seen \n",
      "are surgical clips projecting over the right hemithorax. The \n",
      "cardiomediastinal silhouette is stable in appearance. Increased \n",
      "stranding opacities are noted in the left retrocardiac region. Subtle \n",
      "stranding opacities in the right upper lung zone are unchanged.. \n",
      "There are no pleural or significant bony abnormalities. Absence of \n",
      "the right breast shadow compatible with prior mastectomy.\n",
      " \n",
      "\n"
     ]
    }
   ],
   "source": [
    "print(df['section_findings'].iloc[0])"
   ]
  },
  {
   "cell_type": "code",
   "execution_count": null,
   "metadata": {},
   "outputs": [
    {
     "data": {
      "text/plain": [
       "path_to_image                       train/patient04528/study1/view2_lateral.jpg\n",
       "path_to_dcm                         train/patient04528/study1/view2_lateral.dcm\n",
       "frontal_lateral                                                         Lateral\n",
       "ap_pa                                                                       NaN\n",
       "deid_patient_id                                                    patient04528\n",
       "patient_report_date_order                                                     1\n",
       "report                        NARRATIVE:\\nRADIOGRAPHIC EXAMINATION OF THE CH...\n",
       "section_narrative             \\nRADIOGRAPHIC EXAMINATION OF THE CHEST: 6/3/1...\n",
       "section_clinical_history       61 years of age, Female, R o infiltarate..AML...\n",
       "section_history                                                             NaN\n",
       "section_comparison                                                 06/2017\\n \\n\n",
       "section_technique                                                           NaN\n",
       "section_procedure_comments                        Two views of the chest. \\n \\n\n",
       "section_findings              \\n \\nUnchanged position of the left upper extr...\n",
       "section_impression            \\n \\n1.  Interval development of a band of inc...\n",
       "section_end_of_impression                                                   NaN\n",
       "section_summary                                                             NaN\n",
       "section_accession_number      \\nRUFLZXH\\nThis report has been anonymized. Al...\n",
       "age                                                                        62.0\n",
       "sex                                                                      Female\n",
       "race                                                                      White\n",
       "ethnicity                                               Non-Hispanic/Non-Latino\n",
       "interpreter_needed                                                           No\n",
       "insurance_type                                                Private Insurance\n",
       "recent_bmi                                                                 24.9\n",
       "deceased                                                                    Yes\n",
       "split                                                                     train\n",
       "Name: 8, dtype: object"
      ]
     },
     "execution_count": 6,
     "metadata": {},
     "output_type": "execute_result"
    }
   ],
   "source": [
    "df.iloc[0]"
   ]
  },
  {
   "cell_type": "code",
   "execution_count": null,
   "metadata": {},
   "outputs": [
    {
     "data": {
      "text/plain": [
       "'NARRATIVE:\\nRADIOGRAPHIC EXAMINATION OF THE CHEST: 6/3/17\\n \\nCLINICAL HISTORY: 61 years of age, Female, R o infiltarate..AML \\n(acute myeloblastic leukemia)\\n \\nCOMPARISON: 06/2017\\n \\nPROCEDURE COMMENTS: Two views of the chest. \\n \\nFINDINGS:\\n \\nUnchanged position of the left upper extremity PICC line. Again seen \\nare surgical clips projecting over the right hemithorax. The \\ncardiomediastinal silhouette is stable in appearance. Increased \\nstranding opacities are noted in the left retrocardiac region. Subtle \\nstranding opacities in the right upper lung zone are unchanged.. \\nThere are no pleural or significant bony abnormalities. Absence of \\nthe right breast shadow compatible with prior mastectomy.\\n \\nIMPRESSION:\\n \\n1.  Interval development of a band of increased linear stranding \\nopacities in the left retrocardiac region. Although this may \\nrepresent subsegmental atelectasis, an early or developing \\nconsolidation could have similar appearance. Recommend clinical \\ncorrelation.\\n \\n \\n \\nACCESSION NUMBER:\\nRUFLZXH\\nThis report has been anonymized. All dates are offset from the actual dates by a fixed interval associated with the patient.'"
      ]
     },
     "execution_count": 7,
     "metadata": {},
     "output_type": "execute_result"
    }
   ],
   "source": [
    "df.iloc[0]['report']"
   ]
  }
 ],
 "metadata": {
  "kernelspec": {
   "display_name": "nsp",
   "language": "python",
   "name": "python3"
  },
  "language_info": {
   "codemirror_mode": {
    "name": "ipython",
    "version": 3
   },
   "file_extension": ".py",
   "mimetype": "text/x-python",
   "name": "python",
   "nbconvert_exporter": "python",
   "pygments_lexer": "ipython3",
   "version": "3.10.16"
  },
  "orig_nbformat": 4
 },
 "nbformat": 4,
 "nbformat_minor": 2
}
