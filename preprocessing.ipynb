{
 "cells": [
  {
   "cell_type": "code",
   "execution_count": 1,
   "metadata": {},
   "outputs": [],
   "source": [
    "import os\n",
    "from os.path import splitext\n",
    "\n",
    "import numpy as np\n",
    "import matplotlib.pyplot as plt\n",
    "import pandas as pd"
   ]
  },
  {
   "attachments": {},
   "cell_type": "markdown",
   "metadata": {},
   "source": [
    "### Not sure what this is"
   ]
  },
  {
   "cell_type": "code",
   "execution_count": 2,
   "metadata": {},
   "outputs": [],
   "source": [
    "folder = 'mip_group_2/CheXpert Plus'"
   ]
  },
  {
   "cell_type": "code",
   "execution_count": null,
   "metadata": {},
   "outputs": [],
   "source": [
    "df = pd.read_json(os.path.join(folder, \"report_fixed.json\"), lines=True)"
   ]
  },
  {
   "cell_type": "code",
   "execution_count": null,
   "metadata": {},
   "outputs": [],
   "source": [
    "type_list = []\n",
    "for path in df['path_to_image']:\n",
    "    type_list.append(splitext(path)[0].split('/')[0])"
   ]
  },
  {
   "cell_type": "code",
   "execution_count": 26,
   "metadata": {},
   "outputs": [
    {
     "data": {
      "text/plain": [
       "(array(['train', 'valid'], dtype='<U5'), array([223228,    234]))"
      ]
     },
     "execution_count": 26,
     "metadata": {},
     "output_type": "execute_result"
    }
   ],
   "source": [
    "np.unique(type_list, return_counts=True)"
   ]
  },
  {
   "attachments": {},
   "cell_type": "markdown",
   "metadata": {},
   "source": [
    "### Checkout what's inside data folder"
   ]
  },
  {
   "cell_type": "code",
   "execution_count": 4,
   "metadata": {},
   "outputs": [],
   "source": [
    "data_folder = '../../../../../../../storage/ice1/shared/bmed6780/mip_group_2/CheXpert Plus'"
   ]
  },
  {
   "cell_type": "code",
   "execution_count": 5,
   "metadata": {},
   "outputs": [
    {
     "data": {
      "text/plain": [
       "['chexbert_labels.zip',\n",
       " 'radgraph-XL-annotations',\n",
       " 'PNG',\n",
       " 'radgraph-XL-annotations.zip',\n",
       " 'chexbert_labels',\n",
       " 'df_chexpert_plus_240401.csv']"
      ]
     },
     "execution_count": 5,
     "metadata": {},
     "output_type": "execute_result"
    }
   ],
   "source": [
    "os.listdir(data_folder)"
   ]
  },
  {
   "attachments": {},
   "cell_type": "markdown",
   "metadata": {},
   "source": [
    "#### looks at how patients' images are split and stored in the folders"
   ]
  },
  {
   "cell_type": "code",
   "execution_count": 6,
   "metadata": {},
   "outputs": [],
   "source": [
    "img_folder = os.path.join(data_folder, 'PNG')"
   ]
  },
  {
   "cell_type": "code",
   "execution_count": 7,
   "metadata": {},
   "outputs": [],
   "source": [
    "img_folders = [folder for folder in os.listdir(img_folder) if splitext(folder)[1] == '']"
   ]
  },
  {
   "cell_type": "code",
   "execution_count": 8,
   "metadata": {},
   "outputs": [
    {
     "data": {
      "text/plain": [
       "['png_chexpert_plus_chunk_0',\n",
       " 'png_chexpert_plus_chunk_1',\n",
       " 'png_chexpert_plus_chunk_3',\n",
       " 'png_chexpert_plus_chunk_4',\n",
       " 'png_chexpert_plus_chunk_2']"
      ]
     },
     "execution_count": 8,
     "metadata": {},
     "output_type": "execute_result"
    }
   ],
   "source": [
    "img_folders"
   ]
  },
  {
   "cell_type": "code",
   "execution_count": 9,
   "metadata": {},
   "outputs": [
    {
     "name": "stdout",
     "output_type": "stream",
     "text": [
      "5868\n",
      "8171\n",
      "18728\n",
      "19722\n",
      "12038\n"
     ]
    }
   ],
   "source": [
    "for folder in img_folders:\n",
    "    img_subfolder = os.path.join(img_folder, folder)\n",
    "    img_subfolder = os.path.join(img_subfolder, 'PNG')\n",
    "    img_subfolder = os.path.join(img_subfolder, 'train')\n",
    "    print(len(os.listdir(img_subfolder)))"
   ]
  },
  {
   "attachments": {},
   "cell_type": "markdown",
   "metadata": {},
   "source": [
    "#### folder that has labels for data"
   ]
  },
  {
   "cell_type": "code",
   "execution_count": 10,
   "metadata": {},
   "outputs": [
    {
     "data": {
      "text/plain": [
       "['report_fixed.json', 'findings_fixed.json', 'impression_fixed.json']"
      ]
     },
     "execution_count": 10,
     "metadata": {},
     "output_type": "execute_result"
    }
   ],
   "source": [
    "os.listdir(os.path.join(data_folder, 'chexbert_labels'))"
   ]
  },
  {
   "cell_type": "code",
   "execution_count": 11,
   "metadata": {},
   "outputs": [],
   "source": [
    "label_folder = os.path.join(data_folder, 'chexbert_labels')"
   ]
  },
  {
   "attachments": {},
   "cell_type": "markdown",
   "metadata": {},
   "source": [
    "#### paths of the input images and their labels"
   ]
  },
  {
   "cell_type": "code",
   "execution_count": 12,
   "metadata": {},
   "outputs": [
    {
     "name": "stdout",
     "output_type": "stream",
     "text": [
      "{'path_to_image': 'train/patient16523/study1/view2_lateral.jpg', 'Enlarged Cardiomediastinum': None, 'Cardiomegaly': None, 'Lung Opacity': None, 'Lung Lesion': None, 'Edema': None, 'Consolidation': None, 'Pneumonia': None, 'Atelectasis': None, 'Pneumothorax': None, 'Pleural Effusion': None, 'Pleural Other': None, 'Fracture': None, 'Support Devices': None, 'No Finding': 1.0}\n",
      "{'path_to_image': 'train/patient16523/study11/view1_frontal.jpg', 'Enlarged Cardiomediastinum': None, 'Cardiomegaly': None, 'Lung Opacity': None, 'Lung Lesion': None, 'Edema': None, 'Consolidation': None, 'Pneumonia': None, 'Atelectasis': None, 'Pneumothorax': None, 'Pleural Effusion': None, 'Pleural Other': None, 'Fracture': None, 'Support Devices': None, 'No Finding': 1.0}\n",
      "{'path_to_image': 'train/patient16523/study16/view1_frontal.jpg', 'Enlarged Cardiomediastinum': None, 'Cardiomegaly': None, 'Lung Opacity': None, 'Lung Lesion': None, 'Edema': None, 'Consolidation': None, 'Pneumonia': None, 'Atelectasis': None, 'Pneumothorax': None, 'Pleural Effusion': None, 'Pleural Other': None, 'Fracture': None, 'Support Devices': None, 'No Finding': 1.0}\n",
      "{'path_to_image': 'train/patient16523/study5/view1_frontal.jpg', 'Enlarged Cardiomediastinum': None, 'Cardiomegaly': None, 'Lung Opacity': None, 'Lung Lesion': None, 'Edema': None, 'Consolidation': None, 'Pneumonia': None, 'Atelectasis': None, 'Pneumothorax': None, 'Pleural Effusion': None, 'Pleural Other': None, 'Fracture': None, 'Support Devices': None, 'No Finding': 1.0}\n",
      "{'path_to_image': 'train/patient16523/study20/view1_frontal.jpg', 'Enlarged Cardiomediastinum': None, 'Cardiomegaly': None, 'Lung Opacity': None, 'Lung Lesion': None, 'Edema': None, 'Consolidation': None, 'Pneumonia': None, 'Atelectasis': None, 'Pneumothorax': None, 'Pleural Effusion': None, 'Pleural Other': None, 'Fracture': None, 'Support Devices': None, 'No Finding': 1.0}\n"
     ]
    }
   ],
   "source": [
    "import json\n",
    "\n",
    "file_path = os.path.join(label_folder, 'findings_fixed.json')\n",
    "\n",
    "with open(file_path, 'r') as f:\n",
    "    data = []\n",
    "    for line in f:\n",
    "        data.append(json.loads(line))  # Load each JSON object separately\n",
    "\n",
    "\n",
    "for i in range(200, 205, 1):\n",
    "    print(data[i])"
   ]
  },
  {
   "cell_type": "code",
   "execution_count": 13,
   "metadata": {},
   "outputs": [
    {
     "data": {
      "text/plain": [
       "'train/patient42142/study5/view1_frontal.jpg'"
      ]
     },
     "execution_count": 13,
     "metadata": {},
     "output_type": "execute_result"
    }
   ],
   "source": [
    "data[0]['path_to_image']"
   ]
  },
  {
   "cell_type": "code",
   "execution_count": 16,
   "metadata": {},
   "outputs": [
    {
     "data": {
      "text/plain": [
       "223462"
      ]
     },
     "execution_count": 16,
     "metadata": {},
     "output_type": "execute_result"
    }
   ],
   "source": [
    "len(data)"
   ]
  },
  {
   "cell_type": "code",
   "execution_count": 20,
   "metadata": {},
   "outputs": [
    {
     "data": {
      "text/plain": [
       "dict_items([('path_to_image', 'train/patient42142/study5/view1_frontal.jpg'), ('Enlarged Cardiomediastinum', None), ('Cardiomegaly', None), ('Lung Opacity', None), ('Lung Lesion', None), ('Edema', None), ('Consolidation', None), ('Pneumonia', None), ('Atelectasis', None), ('Pneumothorax', None), ('Pleural Effusion', None), ('Pleural Other', None), ('Fracture', None), ('Support Devices', None), ('No Finding', 1.0)])"
      ]
     },
     "execution_count": 20,
     "metadata": {},
     "output_type": "execute_result"
    }
   ],
   "source": [
    "data[0].items()"
   ]
  },
  {
   "attachments": {},
   "cell_type": "markdown",
   "metadata": {},
   "source": [
    "#### 14 disease types"
   ]
  },
  {
   "cell_type": "code",
   "execution_count": 21,
   "metadata": {},
   "outputs": [],
   "source": [
    "disease_types = list(data[0].keys())[1:]"
   ]
  },
  {
   "cell_type": "code",
   "execution_count": 22,
   "metadata": {},
   "outputs": [
    {
     "data": {
      "text/plain": [
       "['Enlarged Cardiomediastinum',\n",
       " 'Cardiomegaly',\n",
       " 'Lung Opacity',\n",
       " 'Lung Lesion',\n",
       " 'Edema',\n",
       " 'Consolidation',\n",
       " 'Pneumonia',\n",
       " 'Atelectasis',\n",
       " 'Pneumothorax',\n",
       " 'Pleural Effusion',\n",
       " 'Pleural Other',\n",
       " 'Fracture',\n",
       " 'Support Devices',\n",
       " 'No Finding']"
      ]
     },
     "execution_count": 22,
     "metadata": {},
     "output_type": "execute_result"
    }
   ],
   "source": [
    "disease_types"
   ]
  },
  {
   "cell_type": "code",
   "execution_count": 23,
   "metadata": {},
   "outputs": [],
   "source": [
    "img_type_list = []\n",
    "disease_list = []\n",
    "for disease_type in disease_types:\n",
    "    disease_type_list = []\n",
    "    for label_dict in data:\n",
    "        for key, value in label_dict.items():\n",
    "            if key == 'path_to_image':\n",
    "                img_type_list.append(splitext(value)[0].split('/')[0])\n",
    "            elif key == disease_type:\n",
    "                if value is None:\n",
    "                    disease_type_list.append('None')\n",
    "                else:\n",
    "                    disease_type_list.append(value)\n",
    "    disease_list.append(disease_type_list)"
   ]
  },
  {
   "cell_type": "code",
   "execution_count": 24,
   "metadata": {},
   "outputs": [
    {
     "name": "stdout",
     "output_type": "stream",
     "text": [
      "Enlarged Cardiomediastinum: (array(['-1.0', '0.0', '1.0', 'None'], dtype='<U32'), array([  6909,  12928,   4130, 199495]))\n",
      "Cardiomegaly: (array(['-1.0', '0.0', '1.0', 'None'], dtype='<U32'), array([  1554,  11261,  10971, 199676]))\n",
      "Lung Opacity: (array(['-1.0', '0.0', '1.0', 'None'], dtype='<U32'), array([   105,   1488,  32358, 189511]))\n",
      "Lung Lesion: (array(['-1.0', '0.0', '1.0', 'None'], dtype='<U32'), array([   459,    329,   3490, 219184]))\n",
      "Edema: (array(['-1.0', '0.0', '1.0', 'None'], dtype='<U32'), array([  2687,   4443,  12148, 204184]))\n",
      "Consolidation: (array(['-1.0', '0.0', '1.0', 'None'], dtype='<U32'), array([  5938,   7083,   4159, 206282]))\n",
      "Pneumonia: (array(['-1.0', '0.0', '1.0', 'None'], dtype='<U32'), array([  3702,    381,    915, 218464]))\n",
      "Atelectasis: (array(['-1.0', '0.0', '1.0', 'None'], dtype='<U32'), array([  8371,    167,   9136, 205788]))\n",
      "Pneumothorax: (array(['-1.0', '0.0', '1.0', 'None'], dtype='<U32'), array([   702,  18577,   6391, 197792]))\n",
      "Pleural Effusion: (array(['-1.0', '0.0', '1.0', 'None'], dtype='<U32'), array([  2281,  10586,  24511, 186084]))\n",
      "Pleural Other: (array(['-1.0', '0.0', '1.0', 'None'], dtype='<U32'), array([   759,     13,   1663, 221027]))\n",
      "Fracture: (array(['-1.0', '0.0', '1.0', 'None'], dtype='<U32'), array([   148,   2750,   3266, 217298]))\n",
      "Support Devices: (array(['-1.0', '0.0', '1.0', 'None'], dtype='<U32'), array([     1,    377,  31710, 191374]))\n",
      "No Finding: (array(['1.0', 'None'], dtype='<U32'), array([167933,  55529]))\n"
     ]
    }
   ],
   "source": [
    "for i, disease_type in enumerate(disease_types):\n",
    "    print(f'{disease_type}: {np.unique(disease_list[i], return_counts=True)}')"
   ]
  },
  {
   "attachments": {},
   "cell_type": "markdown",
   "metadata": {},
   "source": [
    "#### preset train/test split"
   ]
  },
  {
   "cell_type": "code",
   "execution_count": 25,
   "metadata": {},
   "outputs": [
    {
     "data": {
      "text/plain": [
       "(array(['train', 'valid'], dtype='<U5'), array([3125192,    3276]))"
      ]
     },
     "execution_count": 25,
     "metadata": {},
     "output_type": "execute_result"
    }
   ],
   "source": [
    "np.unique(img_type_list, return_counts=True)"
   ]
  },
  {
   "attachments": {},
   "cell_type": "markdown",
   "metadata": {},
   "source": [
    "#### patient ids"
   ]
  },
  {
   "cell_type": "code",
   "execution_count": 26,
   "metadata": {},
   "outputs": [],
   "source": [
    "patient_id_list = [splitext(data[i]['path_to_image'])[0].split('/')[1][7:] for i in range(len(data))]"
   ]
  },
  {
   "cell_type": "code",
   "execution_count": 27,
   "metadata": {},
   "outputs": [],
   "source": [
    "patient_id, patient_id_count = np.unique(patient_id_list, return_counts=True)"
   ]
  },
  {
   "cell_type": "code",
   "execution_count": 28,
   "metadata": {},
   "outputs": [
    {
     "data": {
      "text/plain": [
       "64725"
      ]
     },
     "execution_count": 28,
     "metadata": {},
     "output_type": "execute_result"
    }
   ],
   "source": [
    "len(patient_id)"
   ]
  },
  {
   "cell_type": "code",
   "execution_count": 30,
   "metadata": {},
   "outputs": [
    {
     "data": {
      "text/plain": [
       "Text(0, 0.5, 'x-ray counts')"
      ]
     },
     "execution_count": 30,
     "metadata": {},
     "output_type": "execute_result"
    },
    {
     "data": {
      "image/png": "[encoded data removed]",
      "text/plain": [
       "<Figure size 640x480 with 1 Axes>"
      ]
     },
     "metadata": {},
     "output_type": "display_data"
    }
   ],
   "source": [
    "plt.scatter(np.arange(len(patient_id)), patient_id_count)\n",
    "plt.xlabel('patient id')\n",
    "plt.ylabel('x-ray counts')"
   ]
  },
  {
   "cell_type": "code",
   "execution_count": 31,
   "metadata": {},
   "outputs": [
    {
     "data": {
      "text/plain": [
       "array([    0, 43860, 43864, ...,  4461, 33146, 28739])"
      ]
     },
     "execution_count": 31,
     "metadata": {},
     "output_type": "execute_result"
    }
   ],
   "source": [
    "np.argsort(patient_id_count)"
   ]
  },
  {
   "cell_type": "code",
   "execution_count": 32,
   "metadata": {},
   "outputs": [
    {
     "data": {
      "text/plain": [
       "64725"
      ]
     },
     "execution_count": 32,
     "metadata": {},
     "output_type": "execute_result"
    }
   ],
   "source": [
    "len(patient_id_count)"
   ]
  },
  {
   "cell_type": "code",
   "execution_count": 33,
   "metadata": {},
   "outputs": [
    {
     "data": {
      "text/plain": [
       "'28746'"
      ]
     },
     "execution_count": 33,
     "metadata": {},
     "output_type": "execute_result"
    }
   ],
   "source": [
    "patient_id[28739]"
   ]
  },
  {
   "cell_type": "code",
   "execution_count": 34,
   "metadata": {},
   "outputs": [
    {
     "data": {
      "text/plain": [
       "92"
      ]
     },
     "execution_count": 34,
     "metadata": {},
     "output_type": "execute_result"
    }
   ],
   "source": [
    "patient_id_count[28739]"
   ]
  },
  {
   "cell_type": "code",
   "execution_count": 35,
   "metadata": {},
   "outputs": [
    {
     "data": {
      "text/plain": [
       "str"
      ]
     },
     "execution_count": 35,
     "metadata": {},
     "output_type": "execute_result"
    }
   ],
   "source": [
    "type(patient_id_list[0])"
   ]
  },
  {
   "cell_type": "code",
   "execution_count": 36,
   "metadata": {},
   "outputs": [],
   "source": [
    "patient_28739_idx = np.where(np.array(patient_id_list)=='28746')[0]"
   ]
  },
  {
   "cell_type": "code",
   "execution_count": 37,
   "metadata": {},
   "outputs": [],
   "source": [
    "patient_28739_data = [data[i] for i in patient_28739_idx]"
   ]
  },
  {
   "cell_type": "code",
   "execution_count": 38,
   "metadata": {},
   "outputs": [],
   "source": [
    "angle_list = []\n",
    "for patient_28739_d in patient_28739_data:\n",
    "    angle_list.append(splitext(patient_28739_d['path_to_image'])[0].split('/')[-1][6:])"
   ]
  },
  {
   "cell_type": "code",
   "execution_count": 39,
   "metadata": {},
   "outputs": [
    {
     "data": {
      "text/plain": [
       "(array(['frontal', 'lateral'], dtype='<U7'), array([89,  3]))"
      ]
     },
     "execution_count": 39,
     "metadata": {},
     "output_type": "execute_result"
    }
   ],
   "source": [
    "np.unique(angle_list, return_counts=True)"
   ]
  },
  {
   "cell_type": "code",
   "execution_count": 40,
   "metadata": {},
   "outputs": [],
   "source": [
    "png_folder = '../../../../../../../storage/ice1/shared/bmed6780/mip_group_2/CheXpert Plus/PNG'"
   ]
  },
  {
   "cell_type": "code",
   "execution_count": 41,
   "metadata": {},
   "outputs": [],
   "source": [
    "folders= os.listdir(png_folder)"
   ]
  },
  {
   "cell_type": "code",
   "execution_count": 42,
   "metadata": {},
   "outputs": [
    {
     "name": "stdout",
     "output_type": "stream",
     "text": [
      "Processing folder: png_chexpert_plus_chunk_0\n",
      "Processing folder: png_chexpert_plus_chunk_1\n",
      "Processing folder: png_chexpert_plus_chunk_3\n",
      "Processing folder: png_chexpert_plus_chunk_4\n",
      "Processing folder: png_chexpert_plus_chunk_2\n"
     ]
    }
   ],
   "source": [
    "# Filtering non-zip folders\n",
    "non_zip_folders = [folder for folder in folders if not folder.endswith('.zip')]\n",
    "\n",
    "# Iterating over the non-zip folders\n",
    "for folder in non_zip_folders:\n",
    "    print(f\"Processing folder: {folder}\")\n",
    "    # Your processing code here"
   ]
  },
  {
   "cell_type": "code",
   "execution_count": null,
   "metadata": {},
   "outputs": [],
   "source": [
    "import os\n",
    "from torch.utils.data import Dataset, DataLoader\n",
    "from torchvision import transforms\n",
    "from PIL import Image\n",
    "\n",
    "class CheXpertDataset(Dataset):\n",
    "    def __init__(self, root_dir, transform=None, mode=\"train\"):\n",
    "        \"\"\"\n",
    "        Args:\n",
    "            root_dir (str): Path to the parent directory containing subdirectories (e.g., 'png_folder').\n",
    "            transform (callable, optional): Optional transform to be applied on an image.\n",
    "            mode (str): Either \"train\" or \"valid\" to select the correct folder.\n",
    "        \"\"\"\n",
    "        self.image_paths = []\n",
    "        self.transform = transform\n",
    "        self.mode = mode\n",
    "\n",
    "        # Iterate over each non-zip folder\n",
    "        for folder in os.listdir(root_dir):\n",
    "            folder_path = os.path.join(root_dir, folder)\n",
    "\n",
    "            if not os.path.isdir(folder_path) or folder.endswith(\".zip\"):\n",
    "                continue  # Skip zip files\n",
    "\n",
    "            # Define train/valid directory path\n",
    "            mode_dir = os.path.join(folder_path, \"PNG\", mode)\n",
    "            if not os.path.exists(mode_dir):\n",
    "                continue  # Skip if the mode directory doesn't exist\n",
    "\n",
    "            # Traverse patient folders and study folders\n",
    "            for patient_folder in os.listdir(mode_dir):\n",
    "                patient_path = os.path.join(mode_dir, patient_folder)\n",
    "\n",
    "                if not os.path.isdir(patient_path):\n",
    "                    continue  # Skip if it's not a directory\n",
    "\n",
    "                for study_folder in os.listdir(patient_path):\n",
    "                    study_path = os.path.join(patient_path, study_folder)\n",
    "\n",
    "                    if not os.path.isdir(study_path):\n",
    "                        continue  # Skip if it's not a directory\n",
    "\n",
    "                    # Collect PNG file paths\n",
    "                    for img_file in os.listdir(study_path):\n",
    "                        if img_file.endswith(\".png\"):\n",
    "                            img_path = os.path.join(study_path, img_file)\n",
    "                            self.image_paths.append(img_path)\n",
    "\n",
    "    def __len__(self):\n",
    "        return len(self.image_paths)\n",
    "\n",
    "    def __getitem__(self, idx):\n",
    "        img_path = self.image_paths[idx]\n",
    "        image = Image.open(img_path).convert(\"RGB\")  # Convert to RGB\n",
    "\n",
    "        if self.transform:\n",
    "            image = self.transform(image)\n",
    "\n",
    "        return image, img_path  # Return both image tensor and path\n",
    "\n",
    "# Define transforms for preprocessing\n",
    "transform = transforms.Compose([\n",
    "    transforms.Resize((224, 224)),  # Resize images\n",
    "    transforms.ToTensor(),  # Convert to Tensor\n",
    "    transforms.Normalize(mean=[0.5, 0.5, 0.5], std=[0.5, 0.5, 0.5])  # Normalize\n",
    "])\n",
    "\n",
    "# Create dataset and dataloader\n",
    "dataset = CheXpertDataset(root_dir=png_folder, transform=transform, mode=\"train\")\n",
    "dataloader = DataLoader(dataset, batch_size=32, shuffle=True, num_workers=4)\n",
    "\n",
    "# Example usage: Iterate over dataset\n",
    "for images, paths in dataloader:\n",
    "    print(f\"Batch size: {images.shape}, First image path: {paths[0]}\")\n",
    "    break  # Just showing the first batch"
   ]
  },
  {
   "cell_type": "code",
   "execution_count": 43,
   "metadata": {},
   "outputs": [],
   "source": [
    "import json\n",
    "\n",
    "import pandas as pd\n",
    "\n",
    "# Load the CSV file into a DataFrame\n",
    "path = os.path.join(data_folder,'df_chexpert_plus_240401.csv')\n",
    "df = pd.read_csv(path)\n",
    "df = df[df['section_findings'].apply(lambda x: isinstance(x, str) and len(x.split()) >= 2)]\n",
    "\n",
    "path2 = os.path.join(data_folder,'radgraph-XL-annotations')\n"
   ]
  },
  {
   "cell_type": "code",
   "execution_count": 45,
   "metadata": {},
   "outputs": [
    {
     "data": {
      "text/html": [
       "<div>\n",
       "<style scoped>\n",
       "    .dataframe tbody tr th:only-of-type {\n",
       "        vertical-align: middle;\n",
       "    }\n",
       "\n",
       "    .dataframe tbody tr th {\n",
       "        vertical-align: top;\n",
       "    }\n",
       "\n",
       "    .dataframe thead th {\n",
       "        text-align: right;\n",
       "    }\n",
       "</style>\n",
       "<table border=\"1\" class=\"dataframe\">\n",
       "  <thead>\n",
       "    <tr style=\"text-align: right;\">\n",
       "      <th></th>\n",
       "      <th>path_to_image</th>\n",
       "      <th>path_to_dcm</th>\n",
       "      <th>frontal_lateral</th>\n",
       "      <th>ap_pa</th>\n",
       "      <th>deid_patient_id</th>\n",
       "      <th>patient_report_date_order</th>\n",
       "      <th>report</th>\n",
       "      <th>section_narrative</th>\n",
       "      <th>section_clinical_history</th>\n",
       "      <th>section_history</th>\n",
       "      <th>...</th>\n",
       "      <th>section_accession_number</th>\n",
       "      <th>age</th>\n",
       "      <th>sex</th>\n",
       "      <th>race</th>\n",
       "      <th>ethnicity</th>\n",
       "      <th>interpreter_needed</th>\n",
       "      <th>insurance_type</th>\n",
       "      <th>recent_bmi</th>\n",
       "      <th>deceased</th>\n",
       "      <th>split</th>\n",
       "    </tr>\n",
       "  </thead>\n",
       "  <tbody>\n",
       "    <tr>\n",
       "      <th>8</th>\n",
       "      <td>train/patient04528/study1/view2_lateral.jpg</td>\n",
       "      <td>train/patient04528/study1/view2_lateral.dcm</td>\n",
       "      <td>Lateral</td>\n",
       "      <td>NaN</td>\n",
       "      <td>patient04528</td>\n",
       "      <td>1</td>\n",
       "      <td>NARRATIVE:\\nRADIOGRAPHIC EXAMINATION OF THE CH...</td>\n",
       "      <td>\\nRADIOGRAPHIC EXAMINATION OF THE CHEST: 6/3/1...</td>\n",
       "      <td>61 years of age, Female, R o infiltarate..AML...</td>\n",
       "      <td>NaN</td>\n",
       "      <td>...</td>\n",
       "      <td>\\nRUFLZXH\\nThis report has been anonymized. Al...</td>\n",
       "      <td>62.0</td>\n",
       "      <td>Female</td>\n",
       "      <td>White</td>\n",
       "      <td>Non-Hispanic/Non-Latino</td>\n",
       "      <td>No</td>\n",
       "      <td>Private Insurance</td>\n",
       "      <td>24.9</td>\n",
       "      <td>Yes</td>\n",
       "      <td>train</td>\n",
       "    </tr>\n",
       "    <tr>\n",
       "      <th>9</th>\n",
       "      <td>train/patient04528/study1/view1_frontal.jpg</td>\n",
       "      <td>train/patient04528/study1/view1_frontal.dcm</td>\n",
       "      <td>Frontal</td>\n",
       "      <td>PA</td>\n",
       "      <td>patient04528</td>\n",
       "      <td>2</td>\n",
       "      <td>NARRATIVE:\\nRADIOGRAPHIC EXAMINATION OF THE CH...</td>\n",
       "      <td>\\nRADIOGRAPHIC EXAMINATION OF THE CHEST: 11-28...</td>\n",
       "      <td>61 years of age, Female, R o infiltarate..AML...</td>\n",
       "      <td>NaN</td>\n",
       "      <td>...</td>\n",
       "      <td>\\n716611072\\nThis report has been anonymized. ...</td>\n",
       "      <td>62.0</td>\n",
       "      <td>Female</td>\n",
       "      <td>White</td>\n",
       "      <td>Non-Hispanic/Non-Latino</td>\n",
       "      <td>No</td>\n",
       "      <td>Private Insurance</td>\n",
       "      <td>24.9</td>\n",
       "      <td>Yes</td>\n",
       "      <td>train</td>\n",
       "    </tr>\n",
       "    <tr>\n",
       "      <th>15</th>\n",
       "      <td>train/patient11162/study3/view1_frontal.jpg</td>\n",
       "      <td>train/patient11162/study3/view1_frontal.dcm</td>\n",
       "      <td>Frontal</td>\n",
       "      <td>AP</td>\n",
       "      <td>patient11162</td>\n",
       "      <td>3</td>\n",
       "      <td>NARRATIVE:\\nSINGLE VIEW PORTABLE CHEST: 1-19-2...</td>\n",
       "      <td>\\nSINGLE VIEW PORTABLE CHEST: 1-19-2015\\n</td>\n",
       "      <td>61-year-old man with history of heart\\ntransp...</td>\n",
       "      <td>NaN</td>\n",
       "      <td>...</td>\n",
       "      <td>\\nYcxarrDeV\\nThis report has been anonymized. ...</td>\n",
       "      <td>62.0</td>\n",
       "      <td>Male</td>\n",
       "      <td>Asian</td>\n",
       "      <td>Non-Hispanic/Non-Latino</td>\n",
       "      <td>No</td>\n",
       "      <td>Medicare</td>\n",
       "      <td>16.9</td>\n",
       "      <td>No</td>\n",
       "      <td>train</td>\n",
       "    </tr>\n",
       "    <tr>\n",
       "      <th>16</th>\n",
       "      <td>train/patient11162/study5/view1_frontal.jpg</td>\n",
       "      <td>train/patient11162/study5/view1_frontal.dcm</td>\n",
       "      <td>Frontal</td>\n",
       "      <td>PA</td>\n",
       "      <td>patient11162</td>\n",
       "      <td>6</td>\n",
       "      <td>NARRATIVE:\\nTWO VIEWS OF THE CHEST 21 SEPTEMBE...</td>\n",
       "      <td>\\nTWO VIEWS OF THE CHEST 21 SEPTEMBER:\\n</td>\n",
       "      <td>61 year-old man status post heart transplant.\\n</td>\n",
       "      <td>NaN</td>\n",
       "      <td>...</td>\n",
       "      <td>\\n04979080\\nThis report has been anonymized. A...</td>\n",
       "      <td>62.0</td>\n",
       "      <td>Male</td>\n",
       "      <td>Asian</td>\n",
       "      <td>Non-Hispanic/Non-Latino</td>\n",
       "      <td>No</td>\n",
       "      <td>Medicare</td>\n",
       "      <td>16.9</td>\n",
       "      <td>No</td>\n",
       "      <td>train</td>\n",
       "    </tr>\n",
       "    <tr>\n",
       "      <th>20</th>\n",
       "      <td>train/patient11162/study5/view2_lateral.jpg</td>\n",
       "      <td>train/patient11162/study5/view2_lateral.dcm</td>\n",
       "      <td>Lateral</td>\n",
       "      <td>NaN</td>\n",
       "      <td>patient11162</td>\n",
       "      <td>7</td>\n",
       "      <td>NARRATIVE:\\nTWO VIEWS OF THE CHEST 11-3-2010:\\...</td>\n",
       "      <td>\\nTWO VIEWS OF THE CHEST 11-3-2010:\\n</td>\n",
       "      <td>61 year-old man status post heart transplant.\\n</td>\n",
       "      <td>NaN</td>\n",
       "      <td>...</td>\n",
       "      <td>\\n34087935384\\nThis report has been anonymized...</td>\n",
       "      <td>62.0</td>\n",
       "      <td>Male</td>\n",
       "      <td>Asian</td>\n",
       "      <td>Non-Hispanic/Non-Latino</td>\n",
       "      <td>No</td>\n",
       "      <td>Medicare</td>\n",
       "      <td>16.9</td>\n",
       "      <td>No</td>\n",
       "      <td>train</td>\n",
       "    </tr>\n",
       "    <tr>\n",
       "      <th>...</th>\n",
       "      <td>...</td>\n",
       "      <td>...</td>\n",
       "      <td>...</td>\n",
       "      <td>...</td>\n",
       "      <td>...</td>\n",
       "      <td>...</td>\n",
       "      <td>...</td>\n",
       "      <td>...</td>\n",
       "      <td>...</td>\n",
       "      <td>...</td>\n",
       "      <td>...</td>\n",
       "      <td>...</td>\n",
       "      <td>...</td>\n",
       "      <td>...</td>\n",
       "      <td>...</td>\n",
       "      <td>...</td>\n",
       "      <td>...</td>\n",
       "      <td>...</td>\n",
       "      <td>...</td>\n",
       "      <td>...</td>\n",
       "      <td>...</td>\n",
       "    </tr>\n",
       "    <tr>\n",
       "      <th>223444</th>\n",
       "      <td>train/patient64366/study1/view1_frontal.jpg</td>\n",
       "      <td>train/patient64366/study1/view1_frontal.dcm</td>\n",
       "      <td>Frontal</td>\n",
       "      <td>AP</td>\n",
       "      <td>patient64366</td>\n",
       "      <td>1</td>\n",
       "      <td>NARRATIVE:\\nRADIOGRAPHIC EXAMINATION OF THE CH...</td>\n",
       "      <td>\\nRADIOGRAPHIC EXAMINATION OF THE CHEST POST N...</td>\n",
       "      <td>67 years of age, Male, Status post right lowe...</td>\n",
       "      <td>NaN</td>\n",
       "      <td>...</td>\n",
       "      <td>\\n9161884498\\nThis report has been anonymized....</td>\n",
       "      <td>68.0</td>\n",
       "      <td>Male</td>\n",
       "      <td>Asian</td>\n",
       "      <td>Non-Hispanic/Non-Latino</td>\n",
       "      <td>No</td>\n",
       "      <td>Unknown</td>\n",
       "      <td>26.1</td>\n",
       "      <td>No</td>\n",
       "      <td>train</td>\n",
       "    </tr>\n",
       "    <tr>\n",
       "      <th>223449</th>\n",
       "      <td>train/patient33118/study1/view1_frontal.jpg</td>\n",
       "      <td>train/patient33118/study1/view1_frontal.dcm</td>\n",
       "      <td>Frontal</td>\n",
       "      <td>AP</td>\n",
       "      <td>patient33118</td>\n",
       "      <td>1</td>\n",
       "      <td>NARRATIVE:\\nPORTABLE CHEST, SINGLE VIEW: 12-17...</td>\n",
       "      <td>\\nPORTABLE CHEST, SINGLE VIEW: 12-17-2005.\\n</td>\n",
       "      <td>NaN</td>\n",
       "      <td>NaN</td>\n",
       "      <td>...</td>\n",
       "      <td>\\n6843-8056\\nThis report has been anonymized. ...</td>\n",
       "      <td>62.0</td>\n",
       "      <td>Male</td>\n",
       "      <td>White</td>\n",
       "      <td>Non-Hispanic/Non-Latino</td>\n",
       "      <td>Unknown</td>\n",
       "      <td>Private Insurance</td>\n",
       "      <td>NaN</td>\n",
       "      <td>Yes</td>\n",
       "      <td>train</td>\n",
       "    </tr>\n",
       "    <tr>\n",
       "      <th>223454</th>\n",
       "      <td>train/patient22453/study1/view1_frontal.jpg</td>\n",
       "      <td>train/patient22453/study1/view1_frontal.dcm</td>\n",
       "      <td>Frontal</td>\n",
       "      <td>AP</td>\n",
       "      <td>patient22453</td>\n",
       "      <td>1</td>\n",
       "      <td>NARRATIVE:\\nAP UPRIGHT VIEW OF THE CHEST:   6-...</td>\n",
       "      <td>\\nAP UPRIGHT VIEW OF THE CHEST:   6-29-09 at 1...</td>\n",
       "      <td>A 30-year-old male with achalasia.  Rule o...</td>\n",
       "      <td>NaN</td>\n",
       "      <td>...</td>\n",
       "      <td>\\n#qvo3lgfor\\nThis report has been anonymized....</td>\n",
       "      <td>30.0</td>\n",
       "      <td>Male</td>\n",
       "      <td>Other</td>\n",
       "      <td>Non-Hispanic/Non-Latino</td>\n",
       "      <td>No</td>\n",
       "      <td>Unknown</td>\n",
       "      <td>21.6</td>\n",
       "      <td>No</td>\n",
       "      <td>train</td>\n",
       "    </tr>\n",
       "    <tr>\n",
       "      <th>223456</th>\n",
       "      <td>train/patient33763/study1/view1_frontal.jpg</td>\n",
       "      <td>train/patient33763/study1/view1_frontal.dcm</td>\n",
       "      <td>Frontal</td>\n",
       "      <td>AP</td>\n",
       "      <td>patient33763</td>\n",
       "      <td>1</td>\n",
       "      <td>NARRATIVE:\\nChest 1 View: 3/19/01\\n \\nHISTORY:...</td>\n",
       "      <td>\\nChest 1 View: 3/19/01\\n \\n</td>\n",
       "      <td>NaN</td>\n",
       "      <td>64 years Male, Abrasion to upper back.\\n \\n</td>\n",
       "      <td>...</td>\n",
       "      <td>\\n#21615021279\\nThis report has been anonymize...</td>\n",
       "      <td>64.0</td>\n",
       "      <td>Male</td>\n",
       "      <td>White</td>\n",
       "      <td>Non-Hispanic/Non-Latino</td>\n",
       "      <td>No</td>\n",
       "      <td>Private Insurance</td>\n",
       "      <td>NaN</td>\n",
       "      <td>No</td>\n",
       "      <td>train</td>\n",
       "    </tr>\n",
       "    <tr>\n",
       "      <th>223457</th>\n",
       "      <td>train/patient59696/study1/view1_frontal.jpg</td>\n",
       "      <td>train/patient59696/study1/view1_frontal.dcm</td>\n",
       "      <td>Frontal</td>\n",
       "      <td>AP</td>\n",
       "      <td>patient59696</td>\n",
       "      <td>1</td>\n",
       "      <td>NARRATIVE:\\nRADIOGRAPHIC EXAMINATION OF THE CH...</td>\n",
       "      <td>\\nRADIOGRAPHIC EXAMINATION OF THE CHEST: 12/31...</td>\n",
       "      <td>80 years of age, Female, Pulmonary edema.\\n \\n</td>\n",
       "      <td>NaN</td>\n",
       "      <td>...</td>\n",
       "      <td>\\n#7n4778536837\\nThis report has been anonymiz...</td>\n",
       "      <td>81.0</td>\n",
       "      <td>Female</td>\n",
       "      <td>White</td>\n",
       "      <td>Non-Hispanic/Non-Latino</td>\n",
       "      <td>No</td>\n",
       "      <td>Medicare</td>\n",
       "      <td>24.0</td>\n",
       "      <td>No</td>\n",
       "      <td>train</td>\n",
       "    </tr>\n",
       "  </tbody>\n",
       "</table>\n",
       "<p>57805 rows × 27 columns</p>\n",
       "</div>"
      ],
      "text/plain": [
       "                                      path_to_image  \\\n",
       "8       train/patient04528/study1/view2_lateral.jpg   \n",
       "9       train/patient04528/study1/view1_frontal.jpg   \n",
       "15      train/patient11162/study3/view1_frontal.jpg   \n",
       "16      train/patient11162/study5/view1_frontal.jpg   \n",
       "20      train/patient11162/study5/view2_lateral.jpg   \n",
       "...                                             ...   \n",
       "223444  train/patient64366/study1/view1_frontal.jpg   \n",
       "223449  train/patient33118/study1/view1_frontal.jpg   \n",
       "223454  train/patient22453/study1/view1_frontal.jpg   \n",
       "223456  train/patient33763/study1/view1_frontal.jpg   \n",
       "223457  train/patient59696/study1/view1_frontal.jpg   \n",
       "\n",
       "                                        path_to_dcm frontal_lateral ap_pa  \\\n",
       "8       train/patient04528/study1/view2_lateral.dcm         Lateral   NaN   \n",
       "9       train/patient04528/study1/view1_frontal.dcm         Frontal    PA   \n",
       "15      train/patient11162/study3/view1_frontal.dcm         Frontal    AP   \n",
       "16      train/patient11162/study5/view1_frontal.dcm         Frontal    PA   \n",
       "20      train/patient11162/study5/view2_lateral.dcm         Lateral   NaN   \n",
       "...                                             ...             ...   ...   \n",
       "223444  train/patient64366/study1/view1_frontal.dcm         Frontal    AP   \n",
       "223449  train/patient33118/study1/view1_frontal.dcm         Frontal    AP   \n",
       "223454  train/patient22453/study1/view1_frontal.dcm         Frontal    AP   \n",
       "223456  train/patient33763/study1/view1_frontal.dcm         Frontal    AP   \n",
       "223457  train/patient59696/study1/view1_frontal.dcm         Frontal    AP   \n",
       "\n",
       "       deid_patient_id  patient_report_date_order  \\\n",
       "8         patient04528                          1   \n",
       "9         patient04528                          2   \n",
       "15        patient11162                          3   \n",
       "16        patient11162                          6   \n",
       "20        patient11162                          7   \n",
       "...                ...                        ...   \n",
       "223444    patient64366                          1   \n",
       "223449    patient33118                          1   \n",
       "223454    patient22453                          1   \n",
       "223456    patient33763                          1   \n",
       "223457    patient59696                          1   \n",
       "\n",
       "                                                   report  \\\n",
       "8       NARRATIVE:\\nRADIOGRAPHIC EXAMINATION OF THE CH...   \n",
       "9       NARRATIVE:\\nRADIOGRAPHIC EXAMINATION OF THE CH...   \n",
       "15      NARRATIVE:\\nSINGLE VIEW PORTABLE CHEST: 1-19-2...   \n",
       "16      NARRATIVE:\\nTWO VIEWS OF THE CHEST 21 SEPTEMBE...   \n",
       "20      NARRATIVE:\\nTWO VIEWS OF THE CHEST 11-3-2010:\\...   \n",
       "...                                                   ...   \n",
       "223444  NARRATIVE:\\nRADIOGRAPHIC EXAMINATION OF THE CH...   \n",
       "223449  NARRATIVE:\\nPORTABLE CHEST, SINGLE VIEW: 12-17...   \n",
       "223454  NARRATIVE:\\nAP UPRIGHT VIEW OF THE CHEST:   6-...   \n",
       "223456  NARRATIVE:\\nChest 1 View: 3/19/01\\n \\nHISTORY:...   \n",
       "223457  NARRATIVE:\\nRADIOGRAPHIC EXAMINATION OF THE CH...   \n",
       "\n",
       "                                        section_narrative  \\\n",
       "8       \\nRADIOGRAPHIC EXAMINATION OF THE CHEST: 6/3/1...   \n",
       "9       \\nRADIOGRAPHIC EXAMINATION OF THE CHEST: 11-28...   \n",
       "15              \\nSINGLE VIEW PORTABLE CHEST: 1-19-2015\\n   \n",
       "16               \\nTWO VIEWS OF THE CHEST 21 SEPTEMBER:\\n   \n",
       "20                  \\nTWO VIEWS OF THE CHEST 11-3-2010:\\n   \n",
       "...                                                   ...   \n",
       "223444  \\nRADIOGRAPHIC EXAMINATION OF THE CHEST POST N...   \n",
       "223449       \\nPORTABLE CHEST, SINGLE VIEW: 12-17-2005.\\n   \n",
       "223454  \\nAP UPRIGHT VIEW OF THE CHEST:   6-29-09 at 1...   \n",
       "223456                       \\nChest 1 View: 3/19/01\\n \\n   \n",
       "223457  \\nRADIOGRAPHIC EXAMINATION OF THE CHEST: 12/31...   \n",
       "\n",
       "                                 section_clinical_history  \\\n",
       "8        61 years of age, Female, R o infiltarate..AML...   \n",
       "9        61 years of age, Female, R o infiltarate..AML...   \n",
       "15       61-year-old man with history of heart\\ntransp...   \n",
       "16        61 year-old man status post heart transplant.\\n   \n",
       "20        61 year-old man status post heart transplant.\\n   \n",
       "...                                                   ...   \n",
       "223444   67 years of age, Male, Status post right lowe...   \n",
       "223449                                                NaN   \n",
       "223454      A 30-year-old male with achalasia.  Rule o...   \n",
       "223456                                                NaN   \n",
       "223457     80 years of age, Female, Pulmonary edema.\\n \\n   \n",
       "\n",
       "                                     section_history  ...  \\\n",
       "8                                                NaN  ...   \n",
       "9                                                NaN  ...   \n",
       "15                                               NaN  ...   \n",
       "16                                               NaN  ...   \n",
       "20                                               NaN  ...   \n",
       "...                                              ...  ...   \n",
       "223444                                           NaN  ...   \n",
       "223449                                           NaN  ...   \n",
       "223454                                           NaN  ...   \n",
       "223456   64 years Male, Abrasion to upper back.\\n \\n  ...   \n",
       "223457                                           NaN  ...   \n",
       "\n",
       "                                 section_accession_number   age     sex  \\\n",
       "8       \\nRUFLZXH\\nThis report has been anonymized. Al...  62.0  Female   \n",
       "9       \\n716611072\\nThis report has been anonymized. ...  62.0  Female   \n",
       "15      \\nYcxarrDeV\\nThis report has been anonymized. ...  62.0    Male   \n",
       "16      \\n04979080\\nThis report has been anonymized. A...  62.0    Male   \n",
       "20      \\n34087935384\\nThis report has been anonymized...  62.0    Male   \n",
       "...                                                   ...   ...     ...   \n",
       "223444  \\n9161884498\\nThis report has been anonymized....  68.0    Male   \n",
       "223449  \\n6843-8056\\nThis report has been anonymized. ...  62.0    Male   \n",
       "223454  \\n#qvo3lgfor\\nThis report has been anonymized....  30.0    Male   \n",
       "223456  \\n#21615021279\\nThis report has been anonymize...  64.0    Male   \n",
       "223457  \\n#7n4778536837\\nThis report has been anonymiz...  81.0  Female   \n",
       "\n",
       "         race                ethnicity interpreter_needed     insurance_type  \\\n",
       "8       White  Non-Hispanic/Non-Latino                 No  Private Insurance   \n",
       "9       White  Non-Hispanic/Non-Latino                 No  Private Insurance   \n",
       "15      Asian  Non-Hispanic/Non-Latino                 No           Medicare   \n",
       "16      Asian  Non-Hispanic/Non-Latino                 No           Medicare   \n",
       "20      Asian  Non-Hispanic/Non-Latino                 No           Medicare   \n",
       "...       ...                      ...                ...                ...   \n",
       "223444  Asian  Non-Hispanic/Non-Latino                 No            Unknown   \n",
       "223449  White  Non-Hispanic/Non-Latino            Unknown  Private Insurance   \n",
       "223454  Other  Non-Hispanic/Non-Latino                 No            Unknown   \n",
       "223456  White  Non-Hispanic/Non-Latino                 No  Private Insurance   \n",
       "223457  White  Non-Hispanic/Non-Latino                 No           Medicare   \n",
       "\n",
       "       recent_bmi  deceased  split  \n",
       "8            24.9       Yes  train  \n",
       "9            24.9       Yes  train  \n",
       "15           16.9        No  train  \n",
       "16           16.9        No  train  \n",
       "20           16.9        No  train  \n",
       "...           ...       ...    ...  \n",
       "223444       26.1        No  train  \n",
       "223449        NaN       Yes  train  \n",
       "223454       21.6        No  train  \n",
       "223456        NaN        No  train  \n",
       "223457       24.0        No  train  \n",
       "\n",
       "[57805 rows x 27 columns]"
      ]
     },
     "execution_count": 45,
     "metadata": {},
     "output_type": "execute_result"
    }
   ],
   "source": [
    "df"
   ]
  },
  {
   "cell_type": "code",
   "execution_count": null,
   "metadata": {},
   "outputs": [],
   "source": []
  }
 ],
 "metadata": {
  "kernelspec": {
   "display_name": "nsp",
   "language": "python",
   "name": "python3"
  },
  "language_info": {
   "codemirror_mode": {
    "name": "ipython",
    "version": 3
   },
   "file_extension": ".py",
   "mimetype": "text/x-python",
   "name": "python",
   "nbconvert_exporter": "python",
   "pygments_lexer": "ipython3",
   "version": "3.10.13"
  },
  "orig_nbformat": 4
 },
 "nbformat": 4,
 "nbformat_minor": 2
}
